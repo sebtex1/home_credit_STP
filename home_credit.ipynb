{
 "cells": [
  {
   "cell_type": "code",
   "execution_count": 1,
   "metadata": {},
   "outputs": [],
   "source": [
    "import numpy as np\r\n",
    "import pandas as pd \r\n",
    "from sklearn.preprocessing import LabelEncoder\r\n",
    "import os"
   ]
  },
  {
   "cell_type": "code",
   "execution_count": 2,
   "metadata": {},
   "outputs": [
    {
     "data": {
      "text/html": "<div>\n<style scoped>\n    .dataframe tbody tr th:only-of-type {\n        vertical-align: middle;\n    }\n\n    .dataframe tbody tr th {\n        vertical-align: top;\n    }\n\n    .dataframe thead th {\n        text-align: right;\n    }\n</style>\n<table border=\"1\" class=\"dataframe\">\n  <thead>\n    <tr style=\"text-align: right;\">\n      <th></th>\n      <th>TARGET</th>\n      <th>NAME_CONTRACT_TYPE</th>\n      <th>CODE_GENDER</th>\n      <th>FLAG_OWN_CAR</th>\n      <th>FLAG_OWN_REALTY</th>\n      <th>CNT_CHILDREN</th>\n      <th>AMT_INCOME_TOTAL</th>\n      <th>AMT_CREDIT</th>\n      <th>NAME_TYPE_SUITE</th>\n      <th>NAME_INCOME_TYPE</th>\n      <th>NAME_EDUCATION_TYPE</th>\n      <th>NAME_FAMILY_STATUS</th>\n      <th>NAME_HOUSING_TYPE</th>\n    </tr>\n    <tr>\n      <th>SK_ID_CURR</th>\n      <th></th>\n      <th></th>\n      <th></th>\n      <th></th>\n      <th></th>\n      <th></th>\n      <th></th>\n      <th></th>\n      <th></th>\n      <th></th>\n      <th></th>\n      <th></th>\n      <th></th>\n    </tr>\n  </thead>\n  <tbody>\n    <tr>\n      <th>100002</th>\n      <td>1</td>\n      <td>Cash loans</td>\n      <td>M</td>\n      <td>N</td>\n      <td>Y</td>\n      <td>0</td>\n      <td>202500.0</td>\n      <td>406597.5</td>\n      <td>Unaccompanied</td>\n      <td>Working</td>\n      <td>Secondary / secondary special</td>\n      <td>Single / not married</td>\n      <td>House / apartment</td>\n    </tr>\n    <tr>\n      <th>100003</th>\n      <td>0</td>\n      <td>Cash loans</td>\n      <td>F</td>\n      <td>N</td>\n      <td>N</td>\n      <td>0</td>\n      <td>270000.0</td>\n      <td>1293502.5</td>\n      <td>Family</td>\n      <td>State servant</td>\n      <td>Higher education</td>\n      <td>Married</td>\n      <td>House / apartment</td>\n    </tr>\n    <tr>\n      <th>100004</th>\n      <td>0</td>\n      <td>Revolving loans</td>\n      <td>M</td>\n      <td>Y</td>\n      <td>Y</td>\n      <td>0</td>\n      <td>67500.0</td>\n      <td>135000.0</td>\n      <td>Unaccompanied</td>\n      <td>Working</td>\n      <td>Secondary / secondary special</td>\n      <td>Single / not married</td>\n      <td>House / apartment</td>\n    </tr>\n    <tr>\n      <th>100006</th>\n      <td>0</td>\n      <td>Cash loans</td>\n      <td>F</td>\n      <td>N</td>\n      <td>Y</td>\n      <td>0</td>\n      <td>135000.0</td>\n      <td>312682.5</td>\n      <td>Unaccompanied</td>\n      <td>Working</td>\n      <td>Secondary / secondary special</td>\n      <td>Civil marriage</td>\n      <td>House / apartment</td>\n    </tr>\n    <tr>\n      <th>100007</th>\n      <td>0</td>\n      <td>Cash loans</td>\n      <td>M</td>\n      <td>N</td>\n      <td>Y</td>\n      <td>0</td>\n      <td>121500.0</td>\n      <td>513000.0</td>\n      <td>Unaccompanied</td>\n      <td>Working</td>\n      <td>Secondary / secondary special</td>\n      <td>Single / not married</td>\n      <td>House / apartment</td>\n    </tr>\n    <tr>\n      <th>...</th>\n      <td>...</td>\n      <td>...</td>\n      <td>...</td>\n      <td>...</td>\n      <td>...</td>\n      <td>...</td>\n      <td>...</td>\n      <td>...</td>\n      <td>...</td>\n      <td>...</td>\n      <td>...</td>\n      <td>...</td>\n      <td>...</td>\n    </tr>\n    <tr>\n      <th>456251</th>\n      <td>0</td>\n      <td>Cash loans</td>\n      <td>M</td>\n      <td>N</td>\n      <td>N</td>\n      <td>0</td>\n      <td>157500.0</td>\n      <td>254700.0</td>\n      <td>Unaccompanied</td>\n      <td>Working</td>\n      <td>Secondary / secondary special</td>\n      <td>Separated</td>\n      <td>With parents</td>\n    </tr>\n    <tr>\n      <th>456252</th>\n      <td>0</td>\n      <td>Cash loans</td>\n      <td>F</td>\n      <td>N</td>\n      <td>Y</td>\n      <td>0</td>\n      <td>72000.0</td>\n      <td>269550.0</td>\n      <td>Unaccompanied</td>\n      <td>Pensioner</td>\n      <td>Secondary / secondary special</td>\n      <td>Widow</td>\n      <td>House / apartment</td>\n    </tr>\n    <tr>\n      <th>456253</th>\n      <td>0</td>\n      <td>Cash loans</td>\n      <td>F</td>\n      <td>N</td>\n      <td>Y</td>\n      <td>0</td>\n      <td>153000.0</td>\n      <td>677664.0</td>\n      <td>Unaccompanied</td>\n      <td>Working</td>\n      <td>Higher education</td>\n      <td>Separated</td>\n      <td>House / apartment</td>\n    </tr>\n    <tr>\n      <th>456254</th>\n      <td>1</td>\n      <td>Cash loans</td>\n      <td>F</td>\n      <td>N</td>\n      <td>Y</td>\n      <td>0</td>\n      <td>171000.0</td>\n      <td>370107.0</td>\n      <td>Unaccompanied</td>\n      <td>Commercial associate</td>\n      <td>Secondary / secondary special</td>\n      <td>Married</td>\n      <td>House / apartment</td>\n    </tr>\n    <tr>\n      <th>456255</th>\n      <td>0</td>\n      <td>Cash loans</td>\n      <td>F</td>\n      <td>N</td>\n      <td>N</td>\n      <td>0</td>\n      <td>157500.0</td>\n      <td>675000.0</td>\n      <td>Unaccompanied</td>\n      <td>Commercial associate</td>\n      <td>Higher education</td>\n      <td>Married</td>\n      <td>House / apartment</td>\n    </tr>\n  </tbody>\n</table>\n<p>307511 rows × 13 columns</p>\n</div>",
      "text/plain": "            TARGET NAME_CONTRACT_TYPE CODE_GENDER FLAG_OWN_CAR  \\\nSK_ID_CURR                                                       \n100002           1         Cash loans           M            N   \n100003           0         Cash loans           F            N   \n100004           0    Revolving loans           M            Y   \n100006           0         Cash loans           F            N   \n100007           0         Cash loans           M            N   \n...            ...                ...         ...          ...   \n456251           0         Cash loans           M            N   \n456252           0         Cash loans           F            N   \n456253           0         Cash loans           F            N   \n456254           1         Cash loans           F            N   \n456255           0         Cash loans           F            N   \n\n           FLAG_OWN_REALTY  CNT_CHILDREN  AMT_INCOME_TOTAL  AMT_CREDIT  \\\nSK_ID_CURR                                                               \n100002                   Y             0          202500.0    406597.5   \n100003                   N             0          270000.0   1293502.5   \n100004                   Y             0           67500.0    135000.0   \n100006                   Y             0          135000.0    312682.5   \n100007                   Y             0          121500.0    513000.0   \n...                    ...           ...               ...         ...   \n456251                   N             0          157500.0    254700.0   \n456252                   Y             0           72000.0    269550.0   \n456253                   Y             0          153000.0    677664.0   \n456254                   Y             0          171000.0    370107.0   \n456255                   N             0          157500.0    675000.0   \n\n           NAME_TYPE_SUITE      NAME_INCOME_TYPE  \\\nSK_ID_CURR                                         \n100002       Unaccompanied               Working   \n100003              Family         State servant   \n100004       Unaccompanied               Working   \n100006       Unaccompanied               Working   \n100007       Unaccompanied               Working   \n...                    ...                   ...   \n456251       Unaccompanied               Working   \n456252       Unaccompanied             Pensioner   \n456253       Unaccompanied               Working   \n456254       Unaccompanied  Commercial associate   \n456255       Unaccompanied  Commercial associate   \n\n                      NAME_EDUCATION_TYPE    NAME_FAMILY_STATUS  \\\nSK_ID_CURR                                                        \n100002      Secondary / secondary special  Single / not married   \n100003                   Higher education               Married   \n100004      Secondary / secondary special  Single / not married   \n100006      Secondary / secondary special        Civil marriage   \n100007      Secondary / secondary special  Single / not married   \n...                                   ...                   ...   \n456251      Secondary / secondary special             Separated   \n456252      Secondary / secondary special                 Widow   \n456253                   Higher education             Separated   \n456254      Secondary / secondary special               Married   \n456255                   Higher education               Married   \n\n            NAME_HOUSING_TYPE  \nSK_ID_CURR                     \n100002      House / apartment  \n100003      House / apartment  \n100004      House / apartment  \n100006      House / apartment  \n100007      House / apartment  \n...                       ...  \n456251           With parents  \n456252      House / apartment  \n456253      House / apartment  \n456254      House / apartment  \n456255      House / apartment  \n\n[307511 rows x 13 columns]"
     },
     "execution_count": 2,
     "metadata": {},
     "output_type": "execute_result"
    }
   ],
   "source": [
    "# Training data\r\n",
    "app_train = pd.read_csv(\"../csv_file/application_train.csv\", index_col=0)\r\n",
    "app_train_filt = app_train[['TARGET', 'NAME_CONTRACT_TYPE', 'CODE_GENDER', 'FLAG_OWN_CAR', 'FLAG_OWN_REALTY', 'CNT_CHILDREN', 'AMT_INCOME_TOTAL', 'AMT_CREDIT', 'NAME_TYPE_SUITE','NAME_INCOME_TYPE','NAME_EDUCATION_TYPE', 'NAME_FAMILY_STATUS', 'NAME_HOUSING_TYPE']]\r\n",
    "app_train_filt"
   ]
  },
  {
   "cell_type": "code",
   "execution_count": 66,
   "metadata": {},
   "outputs": [],
   "source": [
    "# Testing data features\r\n",
    "# app_test = pd.read_csv('../csv_file/application_test.csv', index_col=0)\r\n",
    "# app_test_filt = app_test[['NAME_CONTRACT_TYPE', 'CODE_GENDER', 'DAYS_BIRTH', 'FLAG_OWN_CAR', 'FLAG_OWN_CAR', 'FLAG_OWN_REALTY', 'CNT_CHILDREN', 'AMT_INCOME_TOTAL', 'AMT_CREDIT', 'NAME_TYPE_SUITE','NAME_INCOME_TYPE','NAME_EDUCATION_TYPE', 'NAME_FAMILY_STATUS', 'NAME_HOUSING_TYPE']]\r\n",
    "# app_test_filt"
   ]
  },
  {
   "cell_type": "code",
   "execution_count": 3,
   "metadata": {},
   "outputs": [
    {
     "data": {
      "text/html": "<div>\n<style scoped>\n    .dataframe tbody tr th:only-of-type {\n        vertical-align: middle;\n    }\n\n    .dataframe tbody tr th {\n        vertical-align: top;\n    }\n\n    .dataframe thead th {\n        text-align: right;\n    }\n</style>\n<table border=\"1\" class=\"dataframe\">\n  <thead>\n    <tr style=\"text-align: right;\">\n      <th></th>\n      <th>NAME_CONTRACT_TYPE</th>\n      <th>CODE_GENDER</th>\n      <th>FLAG_OWN_CAR</th>\n      <th>FLAG_OWN_REALTY</th>\n      <th>CNT_CHILDREN</th>\n      <th>AMT_INCOME_TOTAL</th>\n      <th>AMT_CREDIT</th>\n      <th>NAME_TYPE_SUITE</th>\n      <th>NAME_INCOME_TYPE</th>\n      <th>NAME_EDUCATION_TYPE</th>\n      <th>NAME_FAMILY_STATUS</th>\n      <th>NAME_HOUSING_TYPE</th>\n    </tr>\n  </thead>\n  <tbody>\n    <tr>\n      <th>0</th>\n      <td>Cash loans</td>\n      <td>F</td>\n      <td>N</td>\n      <td>N</td>\n      <td>0</td>\n      <td>270000.0</td>\n      <td>1293502.5</td>\n      <td>Family</td>\n      <td>State servant</td>\n      <td>Higher education</td>\n      <td>Married</td>\n      <td>House / apartment</td>\n    </tr>\n    <tr>\n      <th>1</th>\n      <td>Cash loans</td>\n      <td>M</td>\n      <td>N</td>\n      <td>Y</td>\n      <td>0</td>\n      <td>202500.0</td>\n      <td>406597.5</td>\n      <td>Unaccompanied</td>\n      <td>Working</td>\n      <td>Secondary / secondary special</td>\n      <td>Single / not married</td>\n      <td>House / apartment</td>\n    </tr>\n  </tbody>\n</table>\n</div>",
      "text/plain": "  NAME_CONTRACT_TYPE CODE_GENDER FLAG_OWN_CAR FLAG_OWN_REALTY  CNT_CHILDREN  \\\n0         Cash loans           F            N               N             0   \n1         Cash loans           M            N               Y             0   \n\n   AMT_INCOME_TOTAL  AMT_CREDIT NAME_TYPE_SUITE NAME_INCOME_TYPE  \\\n0          270000.0   1293502.5          Family    State servant   \n1          202500.0    406597.5   Unaccompanied          Working   \n\n             NAME_EDUCATION_TYPE    NAME_FAMILY_STATUS  NAME_HOUSING_TYPE  \n0               Higher education               Married  House / apartment  \n1  Secondary / secondary special  Single / not married  House / apartment  "
     },
     "execution_count": 3,
     "metadata": {},
     "output_type": "execute_result"
    }
   ],
   "source": [
    "individu_test=pd.read_csv('individu.csv')\r\n",
    "individu_test"
   ]
  },
  {
   "cell_type": "code",
   "execution_count": 63,
   "metadata": {},
   "outputs": [],
   "source": [
    "# app_train_filt.describe(include=['O'])"
   ]
  },
  {
   "cell_type": "code",
   "execution_count": 64,
   "metadata": {},
   "outputs": [],
   "source": [
    "# Number of unique classes in each object column\r\n",
    "# app_train_filt.select_dtypes('object').apply(pd.Series.nunique, axis = 0)"
   ]
  },
  {
   "cell_type": "code",
   "execution_count": 4,
   "metadata": {},
   "outputs": [
    {
     "name": "stderr",
     "output_type": "stream",
     "text": [
      "<ipython-input-4-a6638cc8a9ea>:13: SettingWithCopyWarning: \n",
      "A value is trying to be set on a copy of a slice from a DataFrame.\n",
      "Try using .loc[row_indexer,col_indexer] = value instead\n",
      "\n",
      "See the caveats in the documentation: https://pandas.pydata.org/pandas-docs/stable/user_guide/indexing.html#returning-a-view-versus-a-copy\n",
      "  app_train_filt[col] = le.transform(app_train_filt[col])\n"
     ]
    },
    {
     "name": "stdout",
     "output_type": "stream",
     "text": [
      "3 columns were label encoded.\n"
     ]
    }
   ],
   "source": [
    "# Create a label encoder object\r\n",
    "le = LabelEncoder()\r\n",
    "le_count = 0\r\n",
    "\r\n",
    "# Iterate through the columns\r\n",
    "for col in app_train_filt:\r\n",
    "    if app_train_filt[col].dtypes == 'object':\r\n",
    "        # If 2 or fewer unique categories\r\n",
    "        if len(list(app_train_filt[col].unique())) <= 2:\r\n",
    "            # Train on the training data\r\n",
    "            le.fit(app_train_filt[col])\r\n",
    "            # Transform both training and testing data\r\n",
    "            app_train_filt.loc[:, col] = le.transform(app_train_filt.loc[:, col])\r\n",
    "            # app_test_filt[col] = le.transform(app_test_filt[col])\r\n",
    "            individu_test.loc[:, col] = le.transform(individu_test.loc[:, col])\r\n",
    "            \r\n",
    "            # Keep track of how many columns were label encoded\r\n",
    "            le_count += 1\r\n",
    "            \r\n",
    "print('%d columns were label encoded.' % le_count)"
   ]
  },
  {
   "cell_type": "code",
   "execution_count": 5,
   "metadata": {},
   "outputs": [
    {
     "name": "stdout",
     "output_type": "stream",
     "text": [
      "Training Features shape:  (307511, 44)\n",
      "Individu Features shape:  (2, 18)\n"
     ]
    }
   ],
   "source": [
    "# one-hot encoding of categorical variables\r\n",
    "app_train_filt = pd.get_dummies(app_train_filt)\r\n",
    "# app_test_filt = pd.get_dummies(app_test_filt)\r\n",
    "individu_test = pd.get_dummies(individu_test)\r\n",
    "\r\n",
    "print('Training Features shape: ', app_train_filt.shape)\r\n",
    "# print('Testing Features shape: ', app_test_filt.shape)\r\n",
    "print('Individu Features shape: ', individu_test.shape)"
   ]
  },
  {
   "cell_type": "code",
   "execution_count": 6,
   "metadata": {},
   "outputs": [
    {
     "name": "stdout",
     "output_type": "stream",
     "text": [
      "Training Features shape:  (307511, 18)\n",
      "Individu Features shape:  (2, 17)\n"
     ]
    }
   ],
   "source": [
    "train_labels = app_train_filt['TARGET']\r\n",
    "\r\n",
    "# Align the training and testing data, keep only columns present in both dataframes\r\n",
    "# app_train_filt, app_test_filt = app_train_filt.align(app_test_filt, join = 'inner', axis = 1)\r\n",
    "app_train_filt, individu_test = app_train_filt.align(individu_test, join = 'inner', axis = 1)\r\n",
    "\r\n",
    "# Add the target back in\r\n",
    "app_train_filt['TARGET'] = train_labels\r\n",
    "\r\n",
    "print('Training Features shape: ', app_train_filt.shape)\r\n",
    "# print('Testing Features shape: ', app_test_filt.shape)\r\n",
    "print('Individu Features shape: ', individu_test.shape)"
   ]
  },
  {
   "cell_type": "code",
   "execution_count": 7,
   "metadata": {},
   "outputs": [],
   "source": [
    "X = app_train_filt.drop(labels=\"TARGET\", axis=1)\r\n",
    "y = app_train_filt['TARGET']\r\n",
    "# X\r\n",
    "# y"
   ]
  },
  {
   "cell_type": "code",
   "execution_count": 8,
   "metadata": {},
   "outputs": [],
   "source": [
    "from sklearn.model_selection import train_test_split\r\n",
    "X_train_sf, X_test_sf, y_train_sf, y_test_sf = train_test_split(X, y, test_size=0.25, random_state=0)"
   ]
  },
  {
   "cell_type": "code",
   "execution_count": 9,
   "metadata": {},
   "outputs": [
    {
     "data": {
      "text/plain": "KNeighborsClassifier()"
     },
     "execution_count": 9,
     "metadata": {},
     "output_type": "execute_result"
    }
   ],
   "source": [
    "# test KNN\r\n",
    "from sklearn.neighbors import KNeighborsClassifier\r\n",
    "classifier = KNeighborsClassifier(n_neighbors=5, metric='minkowski', p=2)\r\n",
    "classifier.fit(X_train_sf, y_train_sf)"
   ]
  },
  {
   "cell_type": "code",
   "execution_count": 75,
   "metadata": {},
   "outputs": [],
   "source": [
    "# y_pred = classifier.predict(X_test_sf.head(50))"
   ]
  },
  {
   "cell_type": "code",
   "execution_count": 76,
   "metadata": {},
   "outputs": [
    {
     "name": "stdout",
     "output_type": "stream",
     "text": [
      "[[47  0]\n",
      " [ 3  0]]\n"
     ]
    }
   ],
   "source": [
    "# from sklearn.metrics import confusion_matrix\r\n",
    "# cm = confusion_matrix(y_test_sf.head(50), y_pred)\r\n",
    "# print(cm)\r\n",
    "\r\n",
    "# score\r\n",
    "# from sklearn.metrics import accuracy_score\r\n",
    "# accuracy_score(y_test_sf, y_pred)"
   ]
  },
  {
   "cell_type": "code",
   "execution_count": 11,
   "metadata": {},
   "outputs": [],
   "source": [
    "y_pred_test = classifier.predict(individu_test)"
   ]
  },
  {
   "cell_type": "code",
   "execution_count": 12,
   "metadata": {},
   "outputs": [
    {
     "name": "stdout",
     "output_type": "stream",
     "text": [
      "0\n",
      "Le client est susceptible de rembourser\n"
     ]
    },
    {
     "data": {
      "text/html": "<div>\n<style scoped>\n    .dataframe tbody tr th:only-of-type {\n        vertical-align: middle;\n    }\n\n    .dataframe tbody tr th {\n        vertical-align: top;\n    }\n\n    .dataframe thead th {\n        text-align: right;\n    }\n</style>\n<table border=\"1\" class=\"dataframe\">\n  <thead>\n    <tr style=\"text-align: right;\">\n      <th></th>\n      <th>CNT_CHILDREN</th>\n      <th>AMT_INCOME_TOTAL</th>\n      <th>AMT_CREDIT</th>\n      <th>CODE_GENDER_F</th>\n      <th>CODE_GENDER_M</th>\n      <th>FLAG_OWN_CAR_N</th>\n      <th>FLAG_OWN_REALTY_N</th>\n      <th>FLAG_OWN_REALTY_Y</th>\n      <th>NAME_TYPE_SUITE_Family</th>\n      <th>NAME_TYPE_SUITE_Unaccompanied</th>\n      <th>NAME_INCOME_TYPE_State servant</th>\n      <th>NAME_INCOME_TYPE_Working</th>\n      <th>NAME_EDUCATION_TYPE_Higher education</th>\n      <th>NAME_EDUCATION_TYPE_Secondary / secondary special</th>\n      <th>NAME_FAMILY_STATUS_Married</th>\n      <th>NAME_FAMILY_STATUS_Single / not married</th>\n      <th>NAME_HOUSING_TYPE_House / apartment</th>\n    </tr>\n  </thead>\n  <tbody>\n    <tr>\n      <th>0</th>\n      <td>0</td>\n      <td>270000.0</td>\n      <td>1293502.5</td>\n      <td>1</td>\n      <td>0</td>\n      <td>1</td>\n      <td>1</td>\n      <td>0</td>\n      <td>1</td>\n      <td>0</td>\n      <td>1</td>\n      <td>0</td>\n      <td>1</td>\n      <td>0</td>\n      <td>1</td>\n      <td>0</td>\n      <td>1</td>\n    </tr>\n  </tbody>\n</table>\n</div>",
      "text/plain": "   CNT_CHILDREN  AMT_INCOME_TOTAL  AMT_CREDIT  CODE_GENDER_F  CODE_GENDER_M  \\\n0             0          270000.0   1293502.5              1              0   \n\n   FLAG_OWN_CAR_N  FLAG_OWN_REALTY_N  FLAG_OWN_REALTY_Y  \\\n0               1                  1                  0   \n\n   NAME_TYPE_SUITE_Family  NAME_TYPE_SUITE_Unaccompanied  \\\n0                       1                              0   \n\n   NAME_INCOME_TYPE_State servant  NAME_INCOME_TYPE_Working  \\\n0                               1                         0   \n\n   NAME_EDUCATION_TYPE_Higher education  \\\n0                                     1   \n\n   NAME_EDUCATION_TYPE_Secondary / secondary special  \\\n0                                                  0   \n\n   NAME_FAMILY_STATUS_Married  NAME_FAMILY_STATUS_Single / not married  \\\n0                           1                                        0   \n\n   NAME_HOUSING_TYPE_House / apartment  \n0                                    1  "
     },
     "metadata": {},
     "output_type": "display_data"
    },
    {
     "name": "stdout",
     "output_type": "stream",
     "text": [
      "1\n",
      "Le client présente trop de risque\n"
     ]
    },
    {
     "data": {
      "text/html": "<div>\n<style scoped>\n    .dataframe tbody tr th:only-of-type {\n        vertical-align: middle;\n    }\n\n    .dataframe tbody tr th {\n        vertical-align: top;\n    }\n\n    .dataframe thead th {\n        text-align: right;\n    }\n</style>\n<table border=\"1\" class=\"dataframe\">\n  <thead>\n    <tr style=\"text-align: right;\">\n      <th></th>\n      <th>CNT_CHILDREN</th>\n      <th>AMT_INCOME_TOTAL</th>\n      <th>AMT_CREDIT</th>\n      <th>CODE_GENDER_F</th>\n      <th>CODE_GENDER_M</th>\n      <th>FLAG_OWN_CAR_N</th>\n      <th>FLAG_OWN_REALTY_N</th>\n      <th>FLAG_OWN_REALTY_Y</th>\n      <th>NAME_TYPE_SUITE_Family</th>\n      <th>NAME_TYPE_SUITE_Unaccompanied</th>\n      <th>NAME_INCOME_TYPE_State servant</th>\n      <th>NAME_INCOME_TYPE_Working</th>\n      <th>NAME_EDUCATION_TYPE_Higher education</th>\n      <th>NAME_EDUCATION_TYPE_Secondary / secondary special</th>\n      <th>NAME_FAMILY_STATUS_Married</th>\n      <th>NAME_FAMILY_STATUS_Single / not married</th>\n      <th>NAME_HOUSING_TYPE_House / apartment</th>\n    </tr>\n  </thead>\n  <tbody>\n    <tr>\n      <th>1</th>\n      <td>0</td>\n      <td>202500.0</td>\n      <td>406597.5</td>\n      <td>0</td>\n      <td>1</td>\n      <td>1</td>\n      <td>0</td>\n      <td>1</td>\n      <td>0</td>\n      <td>1</td>\n      <td>0</td>\n      <td>1</td>\n      <td>0</td>\n      <td>1</td>\n      <td>0</td>\n      <td>1</td>\n      <td>1</td>\n    </tr>\n  </tbody>\n</table>\n</div>",
      "text/plain": "   CNT_CHILDREN  AMT_INCOME_TOTAL  AMT_CREDIT  CODE_GENDER_F  CODE_GENDER_M  \\\n1             0          202500.0    406597.5              0              1   \n\n   FLAG_OWN_CAR_N  FLAG_OWN_REALTY_N  FLAG_OWN_REALTY_Y  \\\n1               1                  0                  1   \n\n   NAME_TYPE_SUITE_Family  NAME_TYPE_SUITE_Unaccompanied  \\\n1                       0                              1   \n\n   NAME_INCOME_TYPE_State servant  NAME_INCOME_TYPE_Working  \\\n1                               0                         1   \n\n   NAME_EDUCATION_TYPE_Higher education  \\\n1                                     0   \n\n   NAME_EDUCATION_TYPE_Secondary / secondary special  \\\n1                                                  1   \n\n   NAME_FAMILY_STATUS_Married  NAME_FAMILY_STATUS_Single / not married  \\\n1                           0                                        1   \n\n   NAME_HOUSING_TYPE_House / apartment  \n1                                    1  "
     },
     "metadata": {},
     "output_type": "display_data"
    }
   ],
   "source": [
    "import collections, numpy\r\n",
    "# y_pred_test.value_counts()\r\n",
    "collections.Counter(y_pred_test)\r\n",
    "\r\n",
    "# vérifie quelle utilisateur ne peut pas payer\r\n",
    "for num in range(0, len(y_pred_test)):\r\n",
    "    print(y_pred_test[num])\r\n",
    "    if y_pred_test[num] == 0:\r\n",
    "        print('Le client est susceptible de rembourser')\r\n",
    "    else:\r\n",
    "        print('Le client présente trop de risque')\r\n",
    "    display(individu_test.iloc[[num]])"
   ]
  }
 ],
 "metadata": {
  "kernelspec": {
   "display_name": "Python 3.8.5 32-bit",
   "name": "python385jvsc74a57bd079997a249e414ef8aa95e40a4790d55cd0bd59ecff3c27eb7f24c07da3998758"
  },
  "language_info": {
   "codemirror_mode": {
    "name": "ipython",
    "version": 3
   },
   "file_extension": ".py",
   "mimetype": "text/x-python",
   "name": "python",
   "nbconvert_exporter": "python",
   "pygments_lexer": "ipython3",
   "version": "3.8.5"
  },
  "orig_nbformat": 2
 },
 "nbformat": 4,
 "nbformat_minor": 2
}