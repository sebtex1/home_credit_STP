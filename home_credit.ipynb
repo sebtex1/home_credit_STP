{
 "cells": [
  {
   "cell_type": "code",
   "execution_count": 1,
   "metadata": {},
   "outputs": [],
   "source": [
    "import numpy as np\r\n",
    "import pandas as pd \r\n",
    "from sklearn.preprocessing import LabelEncoder\r\n",
    "import os"
   ]
  },
  {
   "cell_type": "code",
   "execution_count": 2,
   "metadata": {},
   "outputs": [
    {
     "name": "stdout",
     "output_type": "stream",
     "text": [
      "['application_test.csv', 'application_train.csv']\n"
     ]
    }
   ],
   "source": [
    "# List files available\r\n",
    "print(os.listdir(\"../csv_file/\"))"
   ]
  },
  {
   "cell_type": "code",
   "execution_count": 3,
   "metadata": {},
   "outputs": [
    {
     "data": {
      "text/html": "<div>\n<style scoped>\n    .dataframe tbody tr th:only-of-type {\n        vertical-align: middle;\n    }\n\n    .dataframe tbody tr th {\n        vertical-align: top;\n    }\n\n    .dataframe thead th {\n        text-align: right;\n    }\n</style>\n<table border=\"1\" class=\"dataframe\">\n  <thead>\n    <tr style=\"text-align: right;\">\n      <th></th>\n      <th>TARGET</th>\n      <th>NAME_CONTRACT_TYPE</th>\n      <th>CODE_GENDER</th>\n      <th>FLAG_OWN_CAR</th>\n      <th>FLAG_OWN_CAR</th>\n      <th>FLAG_OWN_REALTY</th>\n      <th>CNT_CHILDREN</th>\n      <th>AMT_INCOME_TOTAL</th>\n      <th>AMT_CREDIT</th>\n      <th>NAME_TYPE_SUITE</th>\n      <th>NAME_INCOME_TYPE</th>\n      <th>NAME_EDUCATION_TYPE</th>\n      <th>NAME_FAMILY_STATUS</th>\n      <th>NAME_HOUSING_TYPE</th>\n    </tr>\n    <tr>\n      <th>SK_ID_CURR</th>\n      <th></th>\n      <th></th>\n      <th></th>\n      <th></th>\n      <th></th>\n      <th></th>\n      <th></th>\n      <th></th>\n      <th></th>\n      <th></th>\n      <th></th>\n      <th></th>\n      <th></th>\n      <th></th>\n    </tr>\n  </thead>\n  <tbody>\n    <tr>\n      <th>100002</th>\n      <td>1</td>\n      <td>Cash loans</td>\n      <td>M</td>\n      <td>N</td>\n      <td>N</td>\n      <td>Y</td>\n      <td>0</td>\n      <td>202500.0</td>\n      <td>406597.5</td>\n      <td>Unaccompanied</td>\n      <td>Working</td>\n      <td>Secondary / secondary special</td>\n      <td>Single / not married</td>\n      <td>House / apartment</td>\n    </tr>\n    <tr>\n      <th>100003</th>\n      <td>0</td>\n      <td>Cash loans</td>\n      <td>F</td>\n      <td>N</td>\n      <td>N</td>\n      <td>N</td>\n      <td>0</td>\n      <td>270000.0</td>\n      <td>1293502.5</td>\n      <td>Family</td>\n      <td>State servant</td>\n      <td>Higher education</td>\n      <td>Married</td>\n      <td>House / apartment</td>\n    </tr>\n    <tr>\n      <th>100004</th>\n      <td>0</td>\n      <td>Revolving loans</td>\n      <td>M</td>\n      <td>Y</td>\n      <td>Y</td>\n      <td>Y</td>\n      <td>0</td>\n      <td>67500.0</td>\n      <td>135000.0</td>\n      <td>Unaccompanied</td>\n      <td>Working</td>\n      <td>Secondary / secondary special</td>\n      <td>Single / not married</td>\n      <td>House / apartment</td>\n    </tr>\n    <tr>\n      <th>100006</th>\n      <td>0</td>\n      <td>Cash loans</td>\n      <td>F</td>\n      <td>N</td>\n      <td>N</td>\n      <td>Y</td>\n      <td>0</td>\n      <td>135000.0</td>\n      <td>312682.5</td>\n      <td>Unaccompanied</td>\n      <td>Working</td>\n      <td>Secondary / secondary special</td>\n      <td>Civil marriage</td>\n      <td>House / apartment</td>\n    </tr>\n    <tr>\n      <th>100007</th>\n      <td>0</td>\n      <td>Cash loans</td>\n      <td>M</td>\n      <td>N</td>\n      <td>N</td>\n      <td>Y</td>\n      <td>0</td>\n      <td>121500.0</td>\n      <td>513000.0</td>\n      <td>Unaccompanied</td>\n      <td>Working</td>\n      <td>Secondary / secondary special</td>\n      <td>Single / not married</td>\n      <td>House / apartment</td>\n    </tr>\n    <tr>\n      <th>...</th>\n      <td>...</td>\n      <td>...</td>\n      <td>...</td>\n      <td>...</td>\n      <td>...</td>\n      <td>...</td>\n      <td>...</td>\n      <td>...</td>\n      <td>...</td>\n      <td>...</td>\n      <td>...</td>\n      <td>...</td>\n      <td>...</td>\n      <td>...</td>\n    </tr>\n    <tr>\n      <th>456251</th>\n      <td>0</td>\n      <td>Cash loans</td>\n      <td>M</td>\n      <td>N</td>\n      <td>N</td>\n      <td>N</td>\n      <td>0</td>\n      <td>157500.0</td>\n      <td>254700.0</td>\n      <td>Unaccompanied</td>\n      <td>Working</td>\n      <td>Secondary / secondary special</td>\n      <td>Separated</td>\n      <td>With parents</td>\n    </tr>\n    <tr>\n      <th>456252</th>\n      <td>0</td>\n      <td>Cash loans</td>\n      <td>F</td>\n      <td>N</td>\n      <td>N</td>\n      <td>Y</td>\n      <td>0</td>\n      <td>72000.0</td>\n      <td>269550.0</td>\n      <td>Unaccompanied</td>\n      <td>Pensioner</td>\n      <td>Secondary / secondary special</td>\n      <td>Widow</td>\n      <td>House / apartment</td>\n    </tr>\n    <tr>\n      <th>456253</th>\n      <td>0</td>\n      <td>Cash loans</td>\n      <td>F</td>\n      <td>N</td>\n      <td>N</td>\n      <td>Y</td>\n      <td>0</td>\n      <td>153000.0</td>\n      <td>677664.0</td>\n      <td>Unaccompanied</td>\n      <td>Working</td>\n      <td>Higher education</td>\n      <td>Separated</td>\n      <td>House / apartment</td>\n    </tr>\n    <tr>\n      <th>456254</th>\n      <td>1</td>\n      <td>Cash loans</td>\n      <td>F</td>\n      <td>N</td>\n      <td>N</td>\n      <td>Y</td>\n      <td>0</td>\n      <td>171000.0</td>\n      <td>370107.0</td>\n      <td>Unaccompanied</td>\n      <td>Commercial associate</td>\n      <td>Secondary / secondary special</td>\n      <td>Married</td>\n      <td>House / apartment</td>\n    </tr>\n    <tr>\n      <th>456255</th>\n      <td>0</td>\n      <td>Cash loans</td>\n      <td>F</td>\n      <td>N</td>\n      <td>N</td>\n      <td>N</td>\n      <td>0</td>\n      <td>157500.0</td>\n      <td>675000.0</td>\n      <td>Unaccompanied</td>\n      <td>Commercial associate</td>\n      <td>Higher education</td>\n      <td>Married</td>\n      <td>House / apartment</td>\n    </tr>\n  </tbody>\n</table>\n<p>307511 rows × 14 columns</p>\n</div>",
      "text/plain": "            TARGET NAME_CONTRACT_TYPE CODE_GENDER FLAG_OWN_CAR FLAG_OWN_CAR  \\\nSK_ID_CURR                                                                    \n100002           1         Cash loans           M            N            N   \n100003           0         Cash loans           F            N            N   \n100004           0    Revolving loans           M            Y            Y   \n100006           0         Cash loans           F            N            N   \n100007           0         Cash loans           M            N            N   \n...            ...                ...         ...          ...          ...   \n456251           0         Cash loans           M            N            N   \n456252           0         Cash loans           F            N            N   \n456253           0         Cash loans           F            N            N   \n456254           1         Cash loans           F            N            N   \n456255           0         Cash loans           F            N            N   \n\n           FLAG_OWN_REALTY  CNT_CHILDREN  AMT_INCOME_TOTAL  AMT_CREDIT  \\\nSK_ID_CURR                                                               \n100002                   Y             0          202500.0    406597.5   \n100003                   N             0          270000.0   1293502.5   \n100004                   Y             0           67500.0    135000.0   \n100006                   Y             0          135000.0    312682.5   \n100007                   Y             0          121500.0    513000.0   \n...                    ...           ...               ...         ...   \n456251                   N             0          157500.0    254700.0   \n456252                   Y             0           72000.0    269550.0   \n456253                   Y             0          153000.0    677664.0   \n456254                   Y             0          171000.0    370107.0   \n456255                   N             0          157500.0    675000.0   \n\n           NAME_TYPE_SUITE      NAME_INCOME_TYPE  \\\nSK_ID_CURR                                         \n100002       Unaccompanied               Working   \n100003              Family         State servant   \n100004       Unaccompanied               Working   \n100006       Unaccompanied               Working   \n100007       Unaccompanied               Working   \n...                    ...                   ...   \n456251       Unaccompanied               Working   \n456252       Unaccompanied             Pensioner   \n456253       Unaccompanied               Working   \n456254       Unaccompanied  Commercial associate   \n456255       Unaccompanied  Commercial associate   \n\n                      NAME_EDUCATION_TYPE    NAME_FAMILY_STATUS  \\\nSK_ID_CURR                                                        \n100002      Secondary / secondary special  Single / not married   \n100003                   Higher education               Married   \n100004      Secondary / secondary special  Single / not married   \n100006      Secondary / secondary special        Civil marriage   \n100007      Secondary / secondary special  Single / not married   \n...                                   ...                   ...   \n456251      Secondary / secondary special             Separated   \n456252      Secondary / secondary special                 Widow   \n456253                   Higher education             Separated   \n456254      Secondary / secondary special               Married   \n456255                   Higher education               Married   \n\n            NAME_HOUSING_TYPE  \nSK_ID_CURR                     \n100002      House / apartment  \n100003      House / apartment  \n100004      House / apartment  \n100006      House / apartment  \n100007      House / apartment  \n...                       ...  \n456251           With parents  \n456252      House / apartment  \n456253      House / apartment  \n456254      House / apartment  \n456255      House / apartment  \n\n[307511 rows x 14 columns]"
     },
     "execution_count": 3,
     "metadata": {},
     "output_type": "execute_result"
    }
   ],
   "source": [
    "# Training data\r\n",
    "app_train = pd.read_csv(\"../csv_file/application_train.csv\", index_col=0)\r\n",
    "app_train_filt = app_train[['TARGET', 'NAME_CONTRACT_TYPE', 'CODE_GENDER', 'FLAG_OWN_CAR', 'FLAG_OWN_CAR', 'FLAG_OWN_REALTY', 'CNT_CHILDREN', 'AMT_INCOME_TOTAL', 'AMT_CREDIT', 'NAME_TYPE_SUITE','NAME_INCOME_TYPE','NAME_EDUCATION_TYPE', 'NAME_FAMILY_STATUS', 'NAME_HOUSING_TYPE']]\r\n",
    "app_train_filt"
   ]
  },
  {
   "cell_type": "code",
   "execution_count": 4,
   "metadata": {},
   "outputs": [
    {
     "data": {
      "text/html": "<div>\n<style scoped>\n    .dataframe tbody tr th:only-of-type {\n        vertical-align: middle;\n    }\n\n    .dataframe tbody tr th {\n        vertical-align: top;\n    }\n\n    .dataframe thead th {\n        text-align: right;\n    }\n</style>\n<table border=\"1\" class=\"dataframe\">\n  <thead>\n    <tr style=\"text-align: right;\">\n      <th></th>\n      <th>NAME_CONTRACT_TYPE</th>\n      <th>CODE_GENDER</th>\n      <th>DAYS_BIRTH</th>\n      <th>FLAG_OWN_CAR</th>\n      <th>FLAG_OWN_CAR</th>\n      <th>FLAG_OWN_REALTY</th>\n      <th>CNT_CHILDREN</th>\n      <th>AMT_INCOME_TOTAL</th>\n      <th>AMT_CREDIT</th>\n      <th>NAME_TYPE_SUITE</th>\n      <th>NAME_INCOME_TYPE</th>\n      <th>NAME_EDUCATION_TYPE</th>\n      <th>NAME_FAMILY_STATUS</th>\n      <th>NAME_HOUSING_TYPE</th>\n    </tr>\n    <tr>\n      <th>SK_ID_CURR</th>\n      <th></th>\n      <th></th>\n      <th></th>\n      <th></th>\n      <th></th>\n      <th></th>\n      <th></th>\n      <th></th>\n      <th></th>\n      <th></th>\n      <th></th>\n      <th></th>\n      <th></th>\n      <th></th>\n    </tr>\n  </thead>\n  <tbody>\n    <tr>\n      <th>100001</th>\n      <td>Cash loans</td>\n      <td>F</td>\n      <td>-19241</td>\n      <td>N</td>\n      <td>N</td>\n      <td>Y</td>\n      <td>0</td>\n      <td>135000.0</td>\n      <td>568800.0</td>\n      <td>Unaccompanied</td>\n      <td>Working</td>\n      <td>Higher education</td>\n      <td>Married</td>\n      <td>House / apartment</td>\n    </tr>\n    <tr>\n      <th>100005</th>\n      <td>Cash loans</td>\n      <td>M</td>\n      <td>-18064</td>\n      <td>N</td>\n      <td>N</td>\n      <td>Y</td>\n      <td>0</td>\n      <td>99000.0</td>\n      <td>222768.0</td>\n      <td>Unaccompanied</td>\n      <td>Working</td>\n      <td>Secondary / secondary special</td>\n      <td>Married</td>\n      <td>House / apartment</td>\n    </tr>\n    <tr>\n      <th>100013</th>\n      <td>Cash loans</td>\n      <td>M</td>\n      <td>-20038</td>\n      <td>Y</td>\n      <td>Y</td>\n      <td>Y</td>\n      <td>0</td>\n      <td>202500.0</td>\n      <td>663264.0</td>\n      <td>NaN</td>\n      <td>Working</td>\n      <td>Higher education</td>\n      <td>Married</td>\n      <td>House / apartment</td>\n    </tr>\n    <tr>\n      <th>100028</th>\n      <td>Cash loans</td>\n      <td>F</td>\n      <td>-13976</td>\n      <td>N</td>\n      <td>N</td>\n      <td>Y</td>\n      <td>2</td>\n      <td>315000.0</td>\n      <td>1575000.0</td>\n      <td>Unaccompanied</td>\n      <td>Working</td>\n      <td>Secondary / secondary special</td>\n      <td>Married</td>\n      <td>House / apartment</td>\n    </tr>\n    <tr>\n      <th>100038</th>\n      <td>Cash loans</td>\n      <td>M</td>\n      <td>-13040</td>\n      <td>Y</td>\n      <td>Y</td>\n      <td>N</td>\n      <td>1</td>\n      <td>180000.0</td>\n      <td>625500.0</td>\n      <td>Unaccompanied</td>\n      <td>Working</td>\n      <td>Secondary / secondary special</td>\n      <td>Married</td>\n      <td>House / apartment</td>\n    </tr>\n    <tr>\n      <th>...</th>\n      <td>...</td>\n      <td>...</td>\n      <td>...</td>\n      <td>...</td>\n      <td>...</td>\n      <td>...</td>\n      <td>...</td>\n      <td>...</td>\n      <td>...</td>\n      <td>...</td>\n      <td>...</td>\n      <td>...</td>\n      <td>...</td>\n      <td>...</td>\n    </tr>\n    <tr>\n      <th>456221</th>\n      <td>Cash loans</td>\n      <td>F</td>\n      <td>-19970</td>\n      <td>N</td>\n      <td>N</td>\n      <td>Y</td>\n      <td>0</td>\n      <td>121500.0</td>\n      <td>412560.0</td>\n      <td>Unaccompanied</td>\n      <td>Working</td>\n      <td>Secondary / secondary special</td>\n      <td>Widow</td>\n      <td>House / apartment</td>\n    </tr>\n    <tr>\n      <th>456222</th>\n      <td>Cash loans</td>\n      <td>F</td>\n      <td>-11186</td>\n      <td>N</td>\n      <td>N</td>\n      <td>N</td>\n      <td>2</td>\n      <td>157500.0</td>\n      <td>622413.0</td>\n      <td>Unaccompanied</td>\n      <td>Commercial associate</td>\n      <td>Secondary / secondary special</td>\n      <td>Married</td>\n      <td>House / apartment</td>\n    </tr>\n    <tr>\n      <th>456223</th>\n      <td>Cash loans</td>\n      <td>F</td>\n      <td>-15922</td>\n      <td>Y</td>\n      <td>Y</td>\n      <td>Y</td>\n      <td>1</td>\n      <td>202500.0</td>\n      <td>315000.0</td>\n      <td>Unaccompanied</td>\n      <td>Commercial associate</td>\n      <td>Secondary / secondary special</td>\n      <td>Married</td>\n      <td>House / apartment</td>\n    </tr>\n    <tr>\n      <th>456224</th>\n      <td>Cash loans</td>\n      <td>M</td>\n      <td>-13968</td>\n      <td>N</td>\n      <td>N</td>\n      <td>N</td>\n      <td>0</td>\n      <td>225000.0</td>\n      <td>450000.0</td>\n      <td>Family</td>\n      <td>Commercial associate</td>\n      <td>Higher education</td>\n      <td>Married</td>\n      <td>House / apartment</td>\n    </tr>\n    <tr>\n      <th>456250</th>\n      <td>Cash loans</td>\n      <td>F</td>\n      <td>-13962</td>\n      <td>Y</td>\n      <td>Y</td>\n      <td>N</td>\n      <td>0</td>\n      <td>135000.0</td>\n      <td>312768.0</td>\n      <td>Unaccompanied</td>\n      <td>Working</td>\n      <td>Secondary / secondary special</td>\n      <td>Married</td>\n      <td>House / apartment</td>\n    </tr>\n  </tbody>\n</table>\n<p>48744 rows × 14 columns</p>\n</div>",
      "text/plain": "           NAME_CONTRACT_TYPE CODE_GENDER  DAYS_BIRTH FLAG_OWN_CAR  \\\nSK_ID_CURR                                                           \n100001             Cash loans           F      -19241            N   \n100005             Cash loans           M      -18064            N   \n100013             Cash loans           M      -20038            Y   \n100028             Cash loans           F      -13976            N   \n100038             Cash loans           M      -13040            Y   \n...                       ...         ...         ...          ...   \n456221             Cash loans           F      -19970            N   \n456222             Cash loans           F      -11186            N   \n456223             Cash loans           F      -15922            Y   \n456224             Cash loans           M      -13968            N   \n456250             Cash loans           F      -13962            Y   \n\n           FLAG_OWN_CAR FLAG_OWN_REALTY  CNT_CHILDREN  AMT_INCOME_TOTAL  \\\nSK_ID_CURR                                                                \n100001                N               Y             0          135000.0   \n100005                N               Y             0           99000.0   \n100013                Y               Y             0          202500.0   \n100028                N               Y             2          315000.0   \n100038                Y               N             1          180000.0   \n...                 ...             ...           ...               ...   \n456221                N               Y             0          121500.0   \n456222                N               N             2          157500.0   \n456223                Y               Y             1          202500.0   \n456224                N               N             0          225000.0   \n456250                Y               N             0          135000.0   \n\n            AMT_CREDIT NAME_TYPE_SUITE      NAME_INCOME_TYPE  \\\nSK_ID_CURR                                                     \n100001        568800.0   Unaccompanied               Working   \n100005        222768.0   Unaccompanied               Working   \n100013        663264.0             NaN               Working   \n100028       1575000.0   Unaccompanied               Working   \n100038        625500.0   Unaccompanied               Working   \n...                ...             ...                   ...   \n456221        412560.0   Unaccompanied               Working   \n456222        622413.0   Unaccompanied  Commercial associate   \n456223        315000.0   Unaccompanied  Commercial associate   \n456224        450000.0          Family  Commercial associate   \n456250        312768.0   Unaccompanied               Working   \n\n                      NAME_EDUCATION_TYPE NAME_FAMILY_STATUS  \\\nSK_ID_CURR                                                     \n100001                   Higher education            Married   \n100005      Secondary / secondary special            Married   \n100013                   Higher education            Married   \n100028      Secondary / secondary special            Married   \n100038      Secondary / secondary special            Married   \n...                                   ...                ...   \n456221      Secondary / secondary special              Widow   \n456222      Secondary / secondary special            Married   \n456223      Secondary / secondary special            Married   \n456224                   Higher education            Married   \n456250      Secondary / secondary special            Married   \n\n            NAME_HOUSING_TYPE  \nSK_ID_CURR                     \n100001      House / apartment  \n100005      House / apartment  \n100013      House / apartment  \n100028      House / apartment  \n100038      House / apartment  \n...                       ...  \n456221      House / apartment  \n456222      House / apartment  \n456223      House / apartment  \n456224      House / apartment  \n456250      House / apartment  \n\n[48744 rows x 14 columns]"
     },
     "execution_count": 4,
     "metadata": {},
     "output_type": "execute_result"
    }
   ],
   "source": [
    "# Testing data features\r\n",
    "app_test = pd.read_csv('../csv_file/application_test.csv', index_col=0)\r\n",
    "app_test_filt = app_test[['NAME_CONTRACT_TYPE', 'CODE_GENDER', 'DAYS_BIRTH', 'FLAG_OWN_CAR', 'FLAG_OWN_CAR', 'FLAG_OWN_REALTY', 'CNT_CHILDREN', 'AMT_INCOME_TOTAL', 'AMT_CREDIT', 'NAME_TYPE_SUITE','NAME_INCOME_TYPE','NAME_EDUCATION_TYPE', 'NAME_FAMILY_STATUS', 'NAME_HOUSING_TYPE']]\r\n",
    "app_test_filt"
   ]
  },
  {
   "cell_type": "code",
   "execution_count": 4,
   "metadata": {},
   "outputs": [],
   "source": [
    "individu_test=pd.read_csv('individu.csv', index_col=0)"
   ]
  },
  {
   "cell_type": "code",
   "execution_count": 5,
   "metadata": {},
   "outputs": [
    {
     "data": {
      "text/html": "<div>\n<style scoped>\n    .dataframe tbody tr th:only-of-type {\n        vertical-align: middle;\n    }\n\n    .dataframe tbody tr th {\n        vertical-align: top;\n    }\n\n    .dataframe thead th {\n        text-align: right;\n    }\n</style>\n<table border=\"1\" class=\"dataframe\">\n  <thead>\n    <tr style=\"text-align: right;\">\n      <th></th>\n      <th>NAME_CONTRACT_TYPE</th>\n      <th>CODE_GENDER</th>\n      <th>FLAG_OWN_CAR</th>\n      <th>FLAG_OWN_CAR</th>\n      <th>FLAG_OWN_REALTY</th>\n      <th>NAME_TYPE_SUITE</th>\n      <th>NAME_INCOME_TYPE</th>\n      <th>NAME_EDUCATION_TYPE</th>\n      <th>NAME_FAMILY_STATUS</th>\n      <th>NAME_HOUSING_TYPE</th>\n    </tr>\n  </thead>\n  <tbody>\n    <tr>\n      <th>count</th>\n      <td>307511</td>\n      <td>307511</td>\n      <td>307511</td>\n      <td>307511</td>\n      <td>307511</td>\n      <td>306219</td>\n      <td>307511</td>\n      <td>307511</td>\n      <td>307511</td>\n      <td>307511</td>\n    </tr>\n    <tr>\n      <th>unique</th>\n      <td>2</td>\n      <td>3</td>\n      <td>2</td>\n      <td>2</td>\n      <td>2</td>\n      <td>7</td>\n      <td>8</td>\n      <td>5</td>\n      <td>6</td>\n      <td>6</td>\n    </tr>\n    <tr>\n      <th>top</th>\n      <td>Cash loans</td>\n      <td>F</td>\n      <td>N</td>\n      <td>N</td>\n      <td>Y</td>\n      <td>Unaccompanied</td>\n      <td>Working</td>\n      <td>Secondary / secondary special</td>\n      <td>Married</td>\n      <td>House / apartment</td>\n    </tr>\n    <tr>\n      <th>freq</th>\n      <td>278232</td>\n      <td>202448</td>\n      <td>202924</td>\n      <td>202924</td>\n      <td>213312</td>\n      <td>248526</td>\n      <td>158774</td>\n      <td>218391</td>\n      <td>196432</td>\n      <td>272868</td>\n    </tr>\n  </tbody>\n</table>\n</div>",
      "text/plain": "       NAME_CONTRACT_TYPE CODE_GENDER FLAG_OWN_CAR FLAG_OWN_CAR  \\\ncount              307511      307511       307511       307511   \nunique                  2           3            2            2   \ntop            Cash loans           F            N            N   \nfreq               278232      202448       202924       202924   \n\n       FLAG_OWN_REALTY NAME_TYPE_SUITE NAME_INCOME_TYPE  \\\ncount           307511          306219           307511   \nunique               2               7                8   \ntop                  Y   Unaccompanied          Working   \nfreq            213312          248526           158774   \n\n                  NAME_EDUCATION_TYPE NAME_FAMILY_STATUS  NAME_HOUSING_TYPE  \ncount                          307511             307511             307511  \nunique                              5                  6                  6  \ntop     Secondary / secondary special            Married  House / apartment  \nfreq                           218391             196432             272868  "
     },
     "execution_count": 5,
     "metadata": {},
     "output_type": "execute_result"
    }
   ],
   "source": [
    "app_train_filt.describe(include=['O'])"
   ]
  },
  {
   "cell_type": "code",
   "execution_count": 5,
   "metadata": {},
   "outputs": [
    {
     "data": {
      "text/plain": "NAME_CONTRACT_TYPE     2\nCODE_GENDER            3\nFLAG_OWN_CAR           2\nFLAG_OWN_CAR           2\nFLAG_OWN_REALTY        2\nNAME_TYPE_SUITE        7\nNAME_INCOME_TYPE       8\nNAME_EDUCATION_TYPE    5\nNAME_FAMILY_STATUS     6\nNAME_HOUSING_TYPE      6\ndtype: int64"
     },
     "execution_count": 5,
     "metadata": {},
     "output_type": "execute_result"
    }
   ],
   "source": [
    "# Number of unique classes in each object column\r\n",
    "app_train_filt.select_dtypes('object').apply(pd.Series.nunique, axis = 0)"
   ]
  },
  {
   "cell_type": "code",
   "execution_count": 6,
   "metadata": {},
   "outputs": [
    {
     "name": "stderr",
     "output_type": "stream",
     "text": [
      "<ipython-input-6-33bfa9733dbd>:13: SettingWithCopyWarning: \n",
      "A value is trying to be set on a copy of a slice from a DataFrame.\n",
      "Try using .loc[row_indexer,col_indexer] = value instead\n",
      "\n",
      "See the caveats in the documentation: https://pandas.pydata.org/pandas-docs/stable/user_guide/indexing.html#returning-a-view-versus-a-copy\n",
      "  app_train_filt[col] = le.transform(app_train_filt[col])\n"
     ]
    },
    {
     "ename": "KeyError",
     "evalue": "'NAME_CONTRACT_TYPE'",
     "output_type": "error",
     "traceback": [
      "\u001b[1;31m---------------------------------------------------------------------------\u001b[0m",
      "\u001b[1;31mKeyError\u001b[0m                                  Traceback (most recent call last)",
      "\u001b[1;32m~\\AppData\\Local\\Programs\\Python\\Python38-32\\lib\\site-packages\\pandas\\core\\indexes\\base.py\u001b[0m in \u001b[0;36mget_loc\u001b[1;34m(self, key, method, tolerance)\u001b[0m\n\u001b[0;32m   3079\u001b[0m             \u001b[1;32mtry\u001b[0m\u001b[1;33m:\u001b[0m\u001b[1;33m\u001b[0m\u001b[1;33m\u001b[0m\u001b[0m\n\u001b[1;32m-> 3080\u001b[1;33m                 \u001b[1;32mreturn\u001b[0m \u001b[0mself\u001b[0m\u001b[1;33m.\u001b[0m\u001b[0m_engine\u001b[0m\u001b[1;33m.\u001b[0m\u001b[0mget_loc\u001b[0m\u001b[1;33m(\u001b[0m\u001b[0mcasted_key\u001b[0m\u001b[1;33m)\u001b[0m\u001b[1;33m\u001b[0m\u001b[1;33m\u001b[0m\u001b[0m\n\u001b[0m\u001b[0;32m   3081\u001b[0m             \u001b[1;32mexcept\u001b[0m \u001b[0mKeyError\u001b[0m \u001b[1;32mas\u001b[0m \u001b[0merr\u001b[0m\u001b[1;33m:\u001b[0m\u001b[1;33m\u001b[0m\u001b[1;33m\u001b[0m\u001b[0m\n",
      "\u001b[1;32mpandas\\_libs\\index.pyx\u001b[0m in \u001b[0;36mpandas._libs.index.IndexEngine.get_loc\u001b[1;34m()\u001b[0m\n",
      "\u001b[1;32mpandas\\_libs\\index.pyx\u001b[0m in \u001b[0;36mpandas._libs.index.IndexEngine.get_loc\u001b[1;34m()\u001b[0m\n",
      "\u001b[1;32mpandas\\_libs\\hashtable_class_helper.pxi\u001b[0m in \u001b[0;36mpandas._libs.hashtable.PyObjectHashTable.get_item\u001b[1;34m()\u001b[0m\n",
      "\u001b[1;32mpandas\\_libs\\hashtable_class_helper.pxi\u001b[0m in \u001b[0;36mpandas._libs.hashtable.PyObjectHashTable.get_item\u001b[1;34m()\u001b[0m\n",
      "\u001b[1;31mKeyError\u001b[0m: 'NAME_CONTRACT_TYPE'",
      "\nThe above exception was the direct cause of the following exception:\n",
      "\u001b[1;31mKeyError\u001b[0m                                  Traceback (most recent call last)",
      "\u001b[1;32m<ipython-input-6-33bfa9733dbd>\u001b[0m in \u001b[0;36m<module>\u001b[1;34m\u001b[0m\n\u001b[0;32m     13\u001b[0m             \u001b[0mapp_train_filt\u001b[0m\u001b[1;33m[\u001b[0m\u001b[0mcol\u001b[0m\u001b[1;33m]\u001b[0m \u001b[1;33m=\u001b[0m \u001b[0mle\u001b[0m\u001b[1;33m.\u001b[0m\u001b[0mtransform\u001b[0m\u001b[1;33m(\u001b[0m\u001b[0mapp_train_filt\u001b[0m\u001b[1;33m[\u001b[0m\u001b[0mcol\u001b[0m\u001b[1;33m]\u001b[0m\u001b[1;33m)\u001b[0m\u001b[1;33m\u001b[0m\u001b[1;33m\u001b[0m\u001b[0m\n\u001b[0;32m     14\u001b[0m             \u001b[1;31m# app_test_filt[col] = le.transform(app_test_filt[col])\u001b[0m\u001b[1;33m\u001b[0m\u001b[1;33m\u001b[0m\u001b[1;33m\u001b[0m\u001b[0m\n\u001b[1;32m---> 15\u001b[1;33m             \u001b[0mindividu_test\u001b[0m\u001b[1;33m[\u001b[0m\u001b[0mcol\u001b[0m\u001b[1;33m]\u001b[0m \u001b[1;33m=\u001b[0m \u001b[0mle\u001b[0m\u001b[1;33m.\u001b[0m\u001b[0mtransform\u001b[0m\u001b[1;33m(\u001b[0m\u001b[0mindividu_test\u001b[0m\u001b[1;33m[\u001b[0m\u001b[0mcol\u001b[0m\u001b[1;33m]\u001b[0m\u001b[1;33m)\u001b[0m\u001b[1;33m\u001b[0m\u001b[1;33m\u001b[0m\u001b[0m\n\u001b[0m\u001b[0;32m     16\u001b[0m \u001b[1;33m\u001b[0m\u001b[0m\n\u001b[0;32m     17\u001b[0m             \u001b[1;31m# Keep track of how many columns were label encoded\u001b[0m\u001b[1;33m\u001b[0m\u001b[1;33m\u001b[0m\u001b[1;33m\u001b[0m\u001b[0m\n",
      "\u001b[1;32m~\\AppData\\Local\\Programs\\Python\\Python38-32\\lib\\site-packages\\pandas\\core\\frame.py\u001b[0m in \u001b[0;36m__getitem__\u001b[1;34m(self, key)\u001b[0m\n\u001b[0;32m   3022\u001b[0m             \u001b[1;32mif\u001b[0m \u001b[0mself\u001b[0m\u001b[1;33m.\u001b[0m\u001b[0mcolumns\u001b[0m\u001b[1;33m.\u001b[0m\u001b[0mnlevels\u001b[0m \u001b[1;33m>\u001b[0m \u001b[1;36m1\u001b[0m\u001b[1;33m:\u001b[0m\u001b[1;33m\u001b[0m\u001b[1;33m\u001b[0m\u001b[0m\n\u001b[0;32m   3023\u001b[0m                 \u001b[1;32mreturn\u001b[0m \u001b[0mself\u001b[0m\u001b[1;33m.\u001b[0m\u001b[0m_getitem_multilevel\u001b[0m\u001b[1;33m(\u001b[0m\u001b[0mkey\u001b[0m\u001b[1;33m)\u001b[0m\u001b[1;33m\u001b[0m\u001b[1;33m\u001b[0m\u001b[0m\n\u001b[1;32m-> 3024\u001b[1;33m             \u001b[0mindexer\u001b[0m \u001b[1;33m=\u001b[0m \u001b[0mself\u001b[0m\u001b[1;33m.\u001b[0m\u001b[0mcolumns\u001b[0m\u001b[1;33m.\u001b[0m\u001b[0mget_loc\u001b[0m\u001b[1;33m(\u001b[0m\u001b[0mkey\u001b[0m\u001b[1;33m)\u001b[0m\u001b[1;33m\u001b[0m\u001b[1;33m\u001b[0m\u001b[0m\n\u001b[0m\u001b[0;32m   3025\u001b[0m             \u001b[1;32mif\u001b[0m \u001b[0mis_integer\u001b[0m\u001b[1;33m(\u001b[0m\u001b[0mindexer\u001b[0m\u001b[1;33m)\u001b[0m\u001b[1;33m:\u001b[0m\u001b[1;33m\u001b[0m\u001b[1;33m\u001b[0m\u001b[0m\n\u001b[0;32m   3026\u001b[0m                 \u001b[0mindexer\u001b[0m \u001b[1;33m=\u001b[0m \u001b[1;33m[\u001b[0m\u001b[0mindexer\u001b[0m\u001b[1;33m]\u001b[0m\u001b[1;33m\u001b[0m\u001b[1;33m\u001b[0m\u001b[0m\n",
      "\u001b[1;32m~\\AppData\\Local\\Programs\\Python\\Python38-32\\lib\\site-packages\\pandas\\core\\indexes\\base.py\u001b[0m in \u001b[0;36mget_loc\u001b[1;34m(self, key, method, tolerance)\u001b[0m\n\u001b[0;32m   3080\u001b[0m                 \u001b[1;32mreturn\u001b[0m \u001b[0mself\u001b[0m\u001b[1;33m.\u001b[0m\u001b[0m_engine\u001b[0m\u001b[1;33m.\u001b[0m\u001b[0mget_loc\u001b[0m\u001b[1;33m(\u001b[0m\u001b[0mcasted_key\u001b[0m\u001b[1;33m)\u001b[0m\u001b[1;33m\u001b[0m\u001b[1;33m\u001b[0m\u001b[0m\n\u001b[0;32m   3081\u001b[0m             \u001b[1;32mexcept\u001b[0m \u001b[0mKeyError\u001b[0m \u001b[1;32mas\u001b[0m \u001b[0merr\u001b[0m\u001b[1;33m:\u001b[0m\u001b[1;33m\u001b[0m\u001b[1;33m\u001b[0m\u001b[0m\n\u001b[1;32m-> 3082\u001b[1;33m                 \u001b[1;32mraise\u001b[0m \u001b[0mKeyError\u001b[0m\u001b[1;33m(\u001b[0m\u001b[0mkey\u001b[0m\u001b[1;33m)\u001b[0m \u001b[1;32mfrom\u001b[0m \u001b[0merr\u001b[0m\u001b[1;33m\u001b[0m\u001b[1;33m\u001b[0m\u001b[0m\n\u001b[0m\u001b[0;32m   3083\u001b[0m \u001b[1;33m\u001b[0m\u001b[0m\n\u001b[0;32m   3084\u001b[0m         \u001b[1;32mif\u001b[0m \u001b[0mtolerance\u001b[0m \u001b[1;32mis\u001b[0m \u001b[1;32mnot\u001b[0m \u001b[1;32mNone\u001b[0m\u001b[1;33m:\u001b[0m\u001b[1;33m\u001b[0m\u001b[1;33m\u001b[0m\u001b[0m\n",
      "\u001b[1;31mKeyError\u001b[0m: 'NAME_CONTRACT_TYPE'"
     ]
    }
   ],
   "source": [
    "# Create a label encoder object\r\n",
    "le = LabelEncoder()\r\n",
    "le_count = 0\r\n",
    "\r\n",
    "# Iterate through the columns\r\n",
    "for col in app_train_filt:\r\n",
    "    if app_train_filt[col].dtypes == 'object':\r\n",
    "        # If 2 or fewer unique categories\r\n",
    "        if len(list(app_train_filt[col].unique())) <= 2:\r\n",
    "            # Train on the training data\r\n",
    "            le.fit(app_train_filt[col])\r\n",
    "            # Transform both training and testing data\r\n",
    "            app_train_filt[col] = le.transform(app_train_filt[col])\r\n",
    "            # app_test_filt[col] = le.transform(app_test_filt[col])\r\n",
    "            individu_test[col] = le.transform(individu_test[col]) \r\n",
    "            \r\n",
    "            # Keep track of how many columns were label encoded\r\n",
    "            le_count += 1\r\n",
    "            \r\n",
    "print('%d columns were label encoded.' % le_count)"
   ]
  },
  {
   "cell_type": "code",
   "execution_count": 7,
   "metadata": {},
   "outputs": [
    {
     "name": "stdout",
     "output_type": "stream",
     "text": [
      "Training Features shape:  (307511, 46)\n",
      "Individu Features shape:  (1, 12)\n"
     ]
    }
   ],
   "source": [
    "# one-hot encoding of categorical variables\r\n",
    "app_train_filt = pd.get_dummies(app_train_filt)\r\n",
    "# app_test_filt = pd.get_dummies(app_test_filt)\r\n",
    "individu_test = pd.get_dummies(individu_test)\r\n",
    "\r\n",
    "print('Training Features shape: ', app_train_filt.shape)\r\n",
    "# print('Testing Features shape: ', app_test_filt.shape)\r\n",
    "print('Individu Features shape: ', individu_test.shape)"
   ]
  },
  {
   "cell_type": "code",
   "execution_count": 8,
   "metadata": {},
   "outputs": [
    {
     "name": "stdout",
     "output_type": "stream",
     "text": [
      "Training Features shape:  (307511, 13)\n",
      "Individu Features shape:  (1, 12)\n"
     ]
    }
   ],
   "source": [
    "train_labels = app_train_filt['TARGET']\r\n",
    "\r\n",
    "# Align the training and testing data, keep only columns present in both dataframes\r\n",
    "# app_train_filt, app_test_filt = app_train_filt.align(app_test_filt, join = 'inner', axis = 1)\r\n",
    "app_train_filt, individu_test = app_train_filt.align(individu_test, join = 'inner', axis = 1)\r\n",
    "\r\n",
    "# Add the target back in\r\n",
    "app_train_filt['TARGET'] = train_labels\r\n",
    "\r\n",
    "print('Training Features shape: ', app_train_filt.shape)\r\n",
    "# print('Testing Features shape: ', app_test_filt.shape)\r\n",
    "print('Individu Features shape: ', individu_test.shape)"
   ]
  },
  {
   "cell_type": "code",
   "execution_count": 9,
   "metadata": {},
   "outputs": [],
   "source": [
    "X = app_train_filt.drop(labels=\"TARGET\", axis=1)\r\n",
    "y = app_train_filt['TARGET']\r\n",
    "# X\r\n",
    "# y"
   ]
  },
  {
   "cell_type": "code",
   "execution_count": 10,
   "metadata": {},
   "outputs": [],
   "source": [
    "from sklearn.model_selection import train_test_split\r\n",
    "X_train_sf, X_test_sf, y_train_sf, y_test_sf = train_test_split(X, y, test_size=0.25, random_state=0)"
   ]
  },
  {
   "cell_type": "code",
   "execution_count": 11,
   "metadata": {},
   "outputs": [
    {
     "data": {
      "text/plain": "KNeighborsClassifier()"
     },
     "execution_count": 11,
     "metadata": {},
     "output_type": "execute_result"
    }
   ],
   "source": [
    "# test KNN\r\n",
    "from sklearn.neighbors import KNeighborsClassifier\r\n",
    "classifier = KNeighborsClassifier(n_neighbors=5, metric='minkowski', p=2)\r\n",
    "classifier.fit(X_train_sf, y_train_sf)"
   ]
  },
  {
   "cell_type": "code",
   "execution_count": 12,
   "metadata": {},
   "outputs": [],
   "source": [
    "y_pred = classifier.predict(X_test_sf.head(50))"
   ]
  },
  {
   "cell_type": "code",
   "execution_count": 13,
   "metadata": {},
   "outputs": [
    {
     "name": "stdout",
     "output_type": "stream",
     "text": [
      "[[47  0]\n",
      " [ 3  0]]\n"
     ]
    }
   ],
   "source": [
    "from sklearn.metrics import confusion_matrix\r\n",
    "cm = confusion_matrix(y_test_sf.head(50), y_pred)\r\n",
    "print(cm)\r\n",
    "\r\n",
    "# score\r\n",
    "# from sklearn.metrics import accuracy_score\r\n",
    "# accuracy_score(y_test_sf, y_pred)"
   ]
  },
  {
   "cell_type": "code",
   "execution_count": 14,
   "metadata": {},
   "outputs": [],
   "source": [
    "y_pred_test = classifier.predict(individu_test)"
   ]
  },
  {
   "cell_type": "code",
   "execution_count": 15,
   "metadata": {},
   "outputs": [],
   "source": [
    "import collections, numpy\r\n",
    "# y_pred_test.value_counts()\r\n",
    "collections.Counter(y_pred_test)\r\n",
    "\r\n",
    "# vérifie quelle utilisateur ne peut pas payer\r\n",
    "for num in range(0, len(y_pred_test)):\r\n",
    "    if y_pred_test[num] == 1:\r\n",
    "        print(num)\r\n",
    "        display(individu_test.iloc[[num]])\r\n",
    "\r\n"
   ]
  },
  {
   "cell_type": "code",
   "execution_count": 76,
   "metadata": {},
   "outputs": [],
   "source": [
    "from sklearn.preprocessing import MinMaxScaler\r\n",
    "\r\n",
    "if 'TARGET' in app_train_filt:\r\n",
    "    train = app_train_filt.drop(columns = ['TARGET'])\r\n",
    "else:\r\n",
    "    train = app_train_filt.copy()\r\n",
    "\r\n",
    "features = list(train.columns)\r\n",
    "\r\n",
    "test = app_test_filt.copy()\r\n",
    "\r\n",
    "scaler = MinMaxScaler(feature_range=(0, 1))"
   ]
  },
  {
   "cell_type": "code",
   "execution_count": 53,
   "metadata": {},
   "outputs": [
    {
     "name": "stdout",
     "output_type": "stream",
     "text": [
      "Training data shape:  (307511, 46)\n",
      "Testing data shape:  (48744, 46)\n"
     ]
    }
   ],
   "source": [
    "scaler.fit(train)\r\n",
    "train = scaler.transform(train)\r\n",
    "test = scaler.transform(test)\r\n",
    "\r\n",
    "print('Training data shape: ', train.shape)\r\n",
    "print('Testing data shape: ', test.shape)"
   ]
  },
  {
   "cell_type": "code",
   "execution_count": 54,
   "metadata": {},
   "outputs": [
    {
     "data": {
      "text/plain": "LogisticRegression(C=0.0001)"
     },
     "execution_count": 54,
     "metadata": {},
     "output_type": "execute_result"
    }
   ],
   "source": [
    "from sklearn.linear_model import LogisticRegression\r\n",
    "\r\n",
    "# Make the model with the specified regularization parameter\r\n",
    "log_reg = LogisticRegression(C = 0.0001)\r\n",
    "\r\n",
    "# Train on the training data\r\n",
    "log_reg.fit(train, train_labels)"
   ]
  },
  {
   "cell_type": "code",
   "execution_count": 55,
   "metadata": {},
   "outputs": [],
   "source": [
    "log_reg_pred = log_reg.predict_proba(test)[:, 1]"
   ]
  },
  {
   "cell_type": "code",
   "execution_count": 56,
   "metadata": {},
   "outputs": [
    {
     "data": {
      "text/html": "<div>\n<style scoped>\n    .dataframe tbody tr th:only-of-type {\n        vertical-align: middle;\n    }\n\n    .dataframe tbody tr th {\n        vertical-align: top;\n    }\n\n    .dataframe thead th {\n        text-align: right;\n    }\n</style>\n<table border=\"1\" class=\"dataframe\">\n  <thead>\n    <tr style=\"text-align: right;\">\n      <th></th>\n      <th>AMT_CREDIT</th>\n      <th>AMT_INCOME_TOTAL</th>\n      <th>CNT_CHILDREN</th>\n      <th>CODE_GENDER_F</th>\n      <th>CODE_GENDER_M</th>\n      <th>FLAG_OWN_CAR_N</th>\n      <th>FLAG_OWN_CAR_N</th>\n      <th>FLAG_OWN_CAR_N</th>\n      <th>FLAG_OWN_CAR_N</th>\n      <th>FLAG_OWN_CAR_Y</th>\n      <th>...</th>\n      <th>NAME_INCOME_TYPE_Unemployed</th>\n      <th>NAME_INCOME_TYPE_Working</th>\n      <th>NAME_TYPE_SUITE_Children</th>\n      <th>NAME_TYPE_SUITE_Family</th>\n      <th>NAME_TYPE_SUITE_Group of people</th>\n      <th>NAME_TYPE_SUITE_Other_A</th>\n      <th>NAME_TYPE_SUITE_Other_B</th>\n      <th>NAME_TYPE_SUITE_Spouse, partner</th>\n      <th>NAME_TYPE_SUITE_Unaccompanied</th>\n      <th>TARGET</th>\n    </tr>\n    <tr>\n      <th>SK_ID_CURR</th>\n      <th></th>\n      <th></th>\n      <th></th>\n      <th></th>\n      <th></th>\n      <th></th>\n      <th></th>\n      <th></th>\n      <th></th>\n      <th></th>\n      <th></th>\n      <th></th>\n      <th></th>\n      <th></th>\n      <th></th>\n      <th></th>\n      <th></th>\n      <th></th>\n      <th></th>\n      <th></th>\n      <th></th>\n    </tr>\n  </thead>\n  <tbody>\n    <tr>\n      <th>100001</th>\n      <td>568800.0</td>\n      <td>135000.0</td>\n      <td>0</td>\n      <td>1</td>\n      <td>0</td>\n      <td>1</td>\n      <td>1</td>\n      <td>1</td>\n      <td>1</td>\n      <td>0</td>\n      <td>...</td>\n      <td>0</td>\n      <td>1</td>\n      <td>0</td>\n      <td>0</td>\n      <td>0</td>\n      <td>0</td>\n      <td>0</td>\n      <td>0</td>\n      <td>1</td>\n      <td>0.928022</td>\n    </tr>\n    <tr>\n      <th>100005</th>\n      <td>222768.0</td>\n      <td>99000.0</td>\n      <td>0</td>\n      <td>0</td>\n      <td>1</td>\n      <td>1</td>\n      <td>1</td>\n      <td>1</td>\n      <td>1</td>\n      <td>0</td>\n      <td>...</td>\n      <td>0</td>\n      <td>1</td>\n      <td>0</td>\n      <td>0</td>\n      <td>0</td>\n      <td>0</td>\n      <td>0</td>\n      <td>0</td>\n      <td>1</td>\n      <td>0.892556</td>\n    </tr>\n    <tr>\n      <th>100013</th>\n      <td>663264.0</td>\n      <td>202500.0</td>\n      <td>0</td>\n      <td>0</td>\n      <td>1</td>\n      <td>0</td>\n      <td>0</td>\n      <td>0</td>\n      <td>0</td>\n      <td>1</td>\n      <td>...</td>\n      <td>0</td>\n      <td>1</td>\n      <td>0</td>\n      <td>0</td>\n      <td>0</td>\n      <td>0</td>\n      <td>0</td>\n      <td>0</td>\n      <td>0</td>\n      <td>0.926841</td>\n    </tr>\n    <tr>\n      <th>100028</th>\n      <td>1575000.0</td>\n      <td>315000.0</td>\n      <td>2</td>\n      <td>1</td>\n      <td>0</td>\n      <td>1</td>\n      <td>1</td>\n      <td>1</td>\n      <td>1</td>\n      <td>0</td>\n      <td>...</td>\n      <td>0</td>\n      <td>1</td>\n      <td>0</td>\n      <td>0</td>\n      <td>0</td>\n      <td>0</td>\n      <td>0</td>\n      <td>0</td>\n      <td>1</td>\n      <td>0.913310</td>\n    </tr>\n    <tr>\n      <th>100038</th>\n      <td>625500.0</td>\n      <td>180000.0</td>\n      <td>1</td>\n      <td>0</td>\n      <td>1</td>\n      <td>0</td>\n      <td>0</td>\n      <td>0</td>\n      <td>0</td>\n      <td>1</td>\n      <td>...</td>\n      <td>0</td>\n      <td>1</td>\n      <td>0</td>\n      <td>0</td>\n      <td>0</td>\n      <td>0</td>\n      <td>0</td>\n      <td>0</td>\n      <td>1</td>\n      <td>0.909650</td>\n    </tr>\n  </tbody>\n</table>\n<p>5 rows × 47 columns</p>\n</div>",
      "text/plain": "            AMT_CREDIT  AMT_INCOME_TOTAL  CNT_CHILDREN  CODE_GENDER_F  \\\nSK_ID_CURR                                                              \n100001        568800.0          135000.0             0              1   \n100005        222768.0           99000.0             0              0   \n100013        663264.0          202500.0             0              0   \n100028       1575000.0          315000.0             2              1   \n100038        625500.0          180000.0             1              0   \n\n            CODE_GENDER_M  FLAG_OWN_CAR_N  FLAG_OWN_CAR_N  FLAG_OWN_CAR_N  \\\nSK_ID_CURR                                                                  \n100001                  0               1               1               1   \n100005                  1               1               1               1   \n100013                  1               0               0               0   \n100028                  0               1               1               1   \n100038                  1               0               0               0   \n\n            FLAG_OWN_CAR_N  FLAG_OWN_CAR_Y  ...  NAME_INCOME_TYPE_Unemployed  \\\nSK_ID_CURR                                  ...                                \n100001                   1               0  ...                            0   \n100005                   1               0  ...                            0   \n100013                   0               1  ...                            0   \n100028                   1               0  ...                            0   \n100038                   0               1  ...                            0   \n\n            NAME_INCOME_TYPE_Working  NAME_TYPE_SUITE_Children  \\\nSK_ID_CURR                                                       \n100001                             1                         0   \n100005                             1                         0   \n100013                             1                         0   \n100028                             1                         0   \n100038                             1                         0   \n\n            NAME_TYPE_SUITE_Family  NAME_TYPE_SUITE_Group of people  \\\nSK_ID_CURR                                                            \n100001                           0                                0   \n100005                           0                                0   \n100013                           0                                0   \n100028                           0                                0   \n100038                           0                                0   \n\n            NAME_TYPE_SUITE_Other_A  NAME_TYPE_SUITE_Other_B  \\\nSK_ID_CURR                                                     \n100001                            0                        0   \n100005                            0                        0   \n100013                            0                        0   \n100028                            0                        0   \n100038                            0                        0   \n\n            NAME_TYPE_SUITE_Spouse, partner  NAME_TYPE_SUITE_Unaccompanied  \\\nSK_ID_CURR                                                                   \n100001                                    0                              1   \n100005                                    0                              1   \n100013                                    0                              0   \n100028                                    0                              1   \n100038                                    0                              1   \n\n              TARGET  \nSK_ID_CURR            \n100001      0.928022  \n100005      0.892556  \n100013      0.926841  \n100028      0.913310  \n100038      0.909650  \n\n[5 rows x 47 columns]"
     },
     "execution_count": 56,
     "metadata": {},
     "output_type": "execute_result"
    }
   ],
   "source": [
    "# Submission dataframe\r\n",
    "submit = app_test_filt\r\n",
    "submit['TARGET'] =  1 - log_reg_pred\r\n",
    "\r\n",
    "# retourne la valeur entre 0 et 1 que le pret soit rembourser avec cette personne\r\n",
    "submit.head()"
   ]
  },
  {
   "cell_type": "code",
   "execution_count": null,
   "metadata": {},
   "outputs": [],
   "source": [
    "# fin test model"
   ]
  },
  {
   "cell_type": "code",
   "execution_count": 15,
   "metadata": {},
   "outputs": [
    {
     "data": {
      "text/plain": "0    0.919205\n1    0.080795\nName: TARGET, dtype: float64"
     },
     "execution_count": 15,
     "metadata": {},
     "output_type": "execute_result"
    }
   ],
   "source": [
    "y_train_sf.value_counts(normalize=True)"
   ]
  },
  {
   "cell_type": "code",
   "execution_count": 16,
   "metadata": {},
   "outputs": [
    {
     "data": {
      "text/plain": "0    0.91947\n1    0.08053\nName: TARGET, dtype: float64"
     },
     "execution_count": 16,
     "metadata": {},
     "output_type": "execute_result"
    }
   ],
   "source": [
    "y_test_sf.value_counts(normalize=True)"
   ]
  },
  {
   "cell_type": "code",
   "execution_count": 17,
   "metadata": {},
   "outputs": [
    {
     "data": {
      "text/plain": "0    0.919271\n1    0.080729\nName: TARGET, dtype: float64"
     },
     "execution_count": 17,
     "metadata": {},
     "output_type": "execute_result"
    }
   ],
   "source": [
    "y.value_counts(normalize=True)"
   ]
  },
  {
   "cell_type": "code",
   "execution_count": 18,
   "metadata": {},
   "outputs": [
    {
     "data": {
      "text/plain": "SK_ID_CURR\n100002    1\n100003    0\n100004    0\n100006    0\n100007    0\n         ..\n456251    0\n456252    0\n456253    0\n456254    1\n456255    0\nName: TARGET, Length: 307511, dtype: int64"
     },
     "execution_count": 18,
     "metadata": {},
     "output_type": "execute_result"
    }
   ],
   "source": [
    "y"
   ]
  },
  {
   "cell_type": "code",
   "execution_count": null,
   "metadata": {},
   "outputs": [],
   "source": [
    "# test for baseline"
   ]
  },
  {
   "cell_type": "code",
   "execution_count": 19,
   "metadata": {},
   "outputs": [],
   "source": [
    "from sklearn.preprocessing import MinMaxScaler\r\n",
    "\r\n",
    "if 'TARGET' in app_train_filt:\r\n",
    "    train = app_train_filt.drop(columns = ['TARGET'])\r\n",
    "else:\r\n",
    "    train = app_train_filt.copy()\r\n",
    "\r\n",
    "features = list(train.columns)\r\n",
    "\r\n",
    "test = app_test_filt.copy()\r\n",
    "\r\n",
    "scaler = MinMaxScaler(feature_range=(0, 1))"
   ]
  },
  {
   "cell_type": "code",
   "execution_count": 20,
   "metadata": {},
   "outputs": [
    {
     "name": "stdout",
     "output_type": "stream",
     "text": [
      "Training data shape:  (307511, 46)\n",
      "Testing data shape:  (48744, 46)\n"
     ]
    }
   ],
   "source": [
    "scaler.fit(train)\r\n",
    "train = scaler.transform(train)\r\n",
    "test = scaler.transform(test)\r\n",
    "\r\n",
    "print('Training data shape: ', train.shape)\r\n",
    "print('Testing data shape: ', test.shape)"
   ]
  },
  {
   "cell_type": "code",
   "execution_count": 21,
   "metadata": {},
   "outputs": [
    {
     "data": {
      "text/plain": "LogisticRegression(C=0.0001)"
     },
     "execution_count": 21,
     "metadata": {},
     "output_type": "execute_result"
    }
   ],
   "source": [
    "from sklearn.linear_model import LogisticRegression\r\n",
    "\r\n",
    "# Make the model with the specified regularization parameter\r\n",
    "log_reg = LogisticRegression(C = 0.0001)\r\n",
    "\r\n",
    "# Train on the training data\r\n",
    "log_reg.fit(train, train_labels)"
   ]
  },
  {
   "cell_type": "code",
   "execution_count": 23,
   "metadata": {},
   "outputs": [],
   "source": [
    "# Make predictions\r\n",
    "# Make sure to select the second column only\r\n",
    "log_reg_pred = log_reg.predict_proba(test)[:, 1]"
   ]
  },
  {
   "cell_type": "code",
   "execution_count": 33,
   "metadata": {},
   "outputs": [
    {
     "data": {
      "text/html": "<div>\n<style scoped>\n    .dataframe tbody tr th:only-of-type {\n        vertical-align: middle;\n    }\n\n    .dataframe tbody tr th {\n        vertical-align: top;\n    }\n\n    .dataframe thead th {\n        text-align: right;\n    }\n</style>\n<table border=\"1\" class=\"dataframe\">\n  <thead>\n    <tr style=\"text-align: right;\">\n      <th></th>\n      <th>AMT_CREDIT</th>\n      <th>AMT_INCOME_TOTAL</th>\n      <th>CNT_CHILDREN</th>\n      <th>CODE_GENDER_F</th>\n      <th>CODE_GENDER_M</th>\n      <th>FLAG_OWN_CAR_N</th>\n      <th>FLAG_OWN_CAR_N</th>\n      <th>FLAG_OWN_CAR_N</th>\n      <th>FLAG_OWN_CAR_N</th>\n      <th>FLAG_OWN_CAR_Y</th>\n      <th>...</th>\n      <th>NAME_INCOME_TYPE_Unemployed</th>\n      <th>NAME_INCOME_TYPE_Working</th>\n      <th>NAME_TYPE_SUITE_Children</th>\n      <th>NAME_TYPE_SUITE_Family</th>\n      <th>NAME_TYPE_SUITE_Group of people</th>\n      <th>NAME_TYPE_SUITE_Other_A</th>\n      <th>NAME_TYPE_SUITE_Other_B</th>\n      <th>NAME_TYPE_SUITE_Spouse, partner</th>\n      <th>NAME_TYPE_SUITE_Unaccompanied</th>\n      <th>TARGET</th>\n    </tr>\n    <tr>\n      <th>SK_ID_CURR</th>\n      <th></th>\n      <th></th>\n      <th></th>\n      <th></th>\n      <th></th>\n      <th></th>\n      <th></th>\n      <th></th>\n      <th></th>\n      <th></th>\n      <th></th>\n      <th></th>\n      <th></th>\n      <th></th>\n      <th></th>\n      <th></th>\n      <th></th>\n      <th></th>\n      <th></th>\n      <th></th>\n      <th></th>\n    </tr>\n  </thead>\n  <tbody>\n    <tr>\n      <th>100001</th>\n      <td>568800.0</td>\n      <td>135000.0</td>\n      <td>0</td>\n      <td>1</td>\n      <td>0</td>\n      <td>1</td>\n      <td>1</td>\n      <td>1</td>\n      <td>1</td>\n      <td>0</td>\n      <td>...</td>\n      <td>0</td>\n      <td>1</td>\n      <td>0</td>\n      <td>0</td>\n      <td>0</td>\n      <td>0</td>\n      <td>0</td>\n      <td>0</td>\n      <td>1</td>\n      <td>0.928022</td>\n    </tr>\n    <tr>\n      <th>100005</th>\n      <td>222768.0</td>\n      <td>99000.0</td>\n      <td>0</td>\n      <td>0</td>\n      <td>1</td>\n      <td>1</td>\n      <td>1</td>\n      <td>1</td>\n      <td>1</td>\n      <td>0</td>\n      <td>...</td>\n      <td>0</td>\n      <td>1</td>\n      <td>0</td>\n      <td>0</td>\n      <td>0</td>\n      <td>0</td>\n      <td>0</td>\n      <td>0</td>\n      <td>1</td>\n      <td>0.892556</td>\n    </tr>\n    <tr>\n      <th>100013</th>\n      <td>663264.0</td>\n      <td>202500.0</td>\n      <td>0</td>\n      <td>0</td>\n      <td>1</td>\n      <td>0</td>\n      <td>0</td>\n      <td>0</td>\n      <td>0</td>\n      <td>1</td>\n      <td>...</td>\n      <td>0</td>\n      <td>1</td>\n      <td>0</td>\n      <td>0</td>\n      <td>0</td>\n      <td>0</td>\n      <td>0</td>\n      <td>0</td>\n      <td>0</td>\n      <td>0.926841</td>\n    </tr>\n    <tr>\n      <th>100028</th>\n      <td>1575000.0</td>\n      <td>315000.0</td>\n      <td>2</td>\n      <td>1</td>\n      <td>0</td>\n      <td>1</td>\n      <td>1</td>\n      <td>1</td>\n      <td>1</td>\n      <td>0</td>\n      <td>...</td>\n      <td>0</td>\n      <td>1</td>\n      <td>0</td>\n      <td>0</td>\n      <td>0</td>\n      <td>0</td>\n      <td>0</td>\n      <td>0</td>\n      <td>1</td>\n      <td>0.913310</td>\n    </tr>\n    <tr>\n      <th>100038</th>\n      <td>625500.0</td>\n      <td>180000.0</td>\n      <td>1</td>\n      <td>0</td>\n      <td>1</td>\n      <td>0</td>\n      <td>0</td>\n      <td>0</td>\n      <td>0</td>\n      <td>1</td>\n      <td>...</td>\n      <td>0</td>\n      <td>1</td>\n      <td>0</td>\n      <td>0</td>\n      <td>0</td>\n      <td>0</td>\n      <td>0</td>\n      <td>0</td>\n      <td>1</td>\n      <td>0.909650</td>\n    </tr>\n  </tbody>\n</table>\n<p>5 rows × 47 columns</p>\n</div>",
      "text/plain": "            AMT_CREDIT  AMT_INCOME_TOTAL  CNT_CHILDREN  CODE_GENDER_F  \\\nSK_ID_CURR                                                              \n100001        568800.0          135000.0             0              1   \n100005        222768.0           99000.0             0              0   \n100013        663264.0          202500.0             0              0   \n100028       1575000.0          315000.0             2              1   \n100038        625500.0          180000.0             1              0   \n\n            CODE_GENDER_M  FLAG_OWN_CAR_N  FLAG_OWN_CAR_N  FLAG_OWN_CAR_N  \\\nSK_ID_CURR                                                                  \n100001                  0               1               1               1   \n100005                  1               1               1               1   \n100013                  1               0               0               0   \n100028                  0               1               1               1   \n100038                  1               0               0               0   \n\n            FLAG_OWN_CAR_N  FLAG_OWN_CAR_Y  ...  NAME_INCOME_TYPE_Unemployed  \\\nSK_ID_CURR                                  ...                                \n100001                   1               0  ...                            0   \n100005                   1               0  ...                            0   \n100013                   0               1  ...                            0   \n100028                   1               0  ...                            0   \n100038                   0               1  ...                            0   \n\n            NAME_INCOME_TYPE_Working  NAME_TYPE_SUITE_Children  \\\nSK_ID_CURR                                                       \n100001                             1                         0   \n100005                             1                         0   \n100013                             1                         0   \n100028                             1                         0   \n100038                             1                         0   \n\n            NAME_TYPE_SUITE_Family  NAME_TYPE_SUITE_Group of people  \\\nSK_ID_CURR                                                            \n100001                           0                                0   \n100005                           0                                0   \n100013                           0                                0   \n100028                           0                                0   \n100038                           0                                0   \n\n            NAME_TYPE_SUITE_Other_A  NAME_TYPE_SUITE_Other_B  \\\nSK_ID_CURR                                                     \n100001                            0                        0   \n100005                            0                        0   \n100013                            0                        0   \n100028                            0                        0   \n100038                            0                        0   \n\n            NAME_TYPE_SUITE_Spouse, partner  NAME_TYPE_SUITE_Unaccompanied  \\\nSK_ID_CURR                                                                   \n100001                                    0                              1   \n100005                                    0                              1   \n100013                                    0                              0   \n100028                                    0                              1   \n100038                                    0                              1   \n\n              TARGET  \nSK_ID_CURR            \n100001      0.928022  \n100005      0.892556  \n100013      0.926841  \n100028      0.913310  \n100038      0.909650  \n\n[5 rows x 47 columns]"
     },
     "execution_count": 33,
     "metadata": {},
     "output_type": "execute_result"
    }
   ],
   "source": [
    "# Submission dataframe\r\n",
    "submit = app_test_filt\r\n",
    "submit['TARGET'] =  1 - log_reg_pred\r\n",
    "\r\n",
    "# retourne la valeur entre 0 et 1 que le pret soit rembourser avec cette personne\r\n",
    "submit.head()"
   ]
  },
  {
   "cell_type": "code",
   "execution_count": 57,
   "metadata": {},
   "outputs": [],
   "source": [
    "# Save the submission to a csv file\r\n",
    "submit.to_csv('log_reg_baseline.csv', index = False)"
   ]
  }
 ],
 "metadata": {
  "kernelspec": {
   "display_name": "Python 3.8.5 32-bit",
   "name": "python385jvsc74a57bd079997a249e414ef8aa95e40a4790d55cd0bd59ecff3c27eb7f24c07da3998758"
  },
  "language_info": {
   "codemirror_mode": {
    "name": "ipython",
    "version": 3
   },
   "file_extension": ".py",
   "mimetype": "text/x-python",
   "name": "python",
   "nbconvert_exporter": "python",
   "pygments_lexer": "ipython3",
   "version": "3.8.5"
  },
  "orig_nbformat": 2
 },
 "nbformat": 4,
 "nbformat_minor": 2
}