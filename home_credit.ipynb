{
 "cells": [
  {
   "cell_type": "code",
   "execution_count": 12,
   "metadata": {},
   "outputs": [],
   "source": [
    "import numpy as np\r\n",
    "import pandas as pd \r\n",
    "from sklearn.preprocessing import LabelEncoder\r\n",
    "import os\r\n"
   ]
  },
  {
   "cell_type": "code",
   "execution_count": 2,
   "metadata": {},
   "outputs": [
    {
     "name": "stdout",
     "output_type": "stream",
     "text": [
      "['application_test.csv', 'application_train.csv']\n"
     ]
    }
   ],
   "source": [
    "# List files available\r\n",
    "print(os.listdir(\"../csv_file/\"))"
   ]
  },
  {
   "cell_type": "code",
   "execution_count": 9,
   "metadata": {},
   "outputs": [
    {
     "data": {
      "text/html": "<div>\n<style scoped>\n    .dataframe tbody tr th:only-of-type {\n        vertical-align: middle;\n    }\n\n    .dataframe tbody tr th {\n        vertical-align: top;\n    }\n\n    .dataframe thead th {\n        text-align: right;\n    }\n</style>\n<table border=\"1\" class=\"dataframe\">\n  <thead>\n    <tr style=\"text-align: right;\">\n      <th></th>\n      <th>SK_ID_CURR</th>\n      <th>TARGET</th>\n      <th>NAME_CONTRACT_TYPE</th>\n      <th>CODE_GENDER</th>\n      <th>FLAG_OWN_CAR</th>\n      <th>FLAG_OWN_CAR</th>\n      <th>FLAG_OWN_REALTY</th>\n      <th>CNT_CHILDREN</th>\n      <th>AMT_INCOME_TOTAL</th>\n      <th>AMT_CREDIT</th>\n      <th>AMT_ANNUITY</th>\n      <th>AMT_GOODS_PRICE</th>\n      <th>NAME_TYPE_SUITE</th>\n      <th>NAME_INCOME_TYPE</th>\n      <th>NAME_EDUCATION_TYPE</th>\n      <th>NAME_FAMILY_STATUS</th>\n      <th>NAME_HOUSING_TYPE</th>\n    </tr>\n  </thead>\n  <tbody>\n    <tr>\n      <th>0</th>\n      <td>100002</td>\n      <td>1</td>\n      <td>Cash loans</td>\n      <td>M</td>\n      <td>N</td>\n      <td>N</td>\n      <td>Y</td>\n      <td>0</td>\n      <td>202500.0</td>\n      <td>406597.5</td>\n      <td>24700.5</td>\n      <td>351000.0</td>\n      <td>Unaccompanied</td>\n      <td>Working</td>\n      <td>Secondary / secondary special</td>\n      <td>Single / not married</td>\n      <td>House / apartment</td>\n    </tr>\n    <tr>\n      <th>1</th>\n      <td>100003</td>\n      <td>0</td>\n      <td>Cash loans</td>\n      <td>F</td>\n      <td>N</td>\n      <td>N</td>\n      <td>N</td>\n      <td>0</td>\n      <td>270000.0</td>\n      <td>1293502.5</td>\n      <td>35698.5</td>\n      <td>1129500.0</td>\n      <td>Family</td>\n      <td>State servant</td>\n      <td>Higher education</td>\n      <td>Married</td>\n      <td>House / apartment</td>\n    </tr>\n    <tr>\n      <th>2</th>\n      <td>100004</td>\n      <td>0</td>\n      <td>Revolving loans</td>\n      <td>M</td>\n      <td>Y</td>\n      <td>Y</td>\n      <td>Y</td>\n      <td>0</td>\n      <td>67500.0</td>\n      <td>135000.0</td>\n      <td>6750.0</td>\n      <td>135000.0</td>\n      <td>Unaccompanied</td>\n      <td>Working</td>\n      <td>Secondary / secondary special</td>\n      <td>Single / not married</td>\n      <td>House / apartment</td>\n    </tr>\n    <tr>\n      <th>3</th>\n      <td>100006</td>\n      <td>0</td>\n      <td>Cash loans</td>\n      <td>F</td>\n      <td>N</td>\n      <td>N</td>\n      <td>Y</td>\n      <td>0</td>\n      <td>135000.0</td>\n      <td>312682.5</td>\n      <td>29686.5</td>\n      <td>297000.0</td>\n      <td>Unaccompanied</td>\n      <td>Working</td>\n      <td>Secondary / secondary special</td>\n      <td>Civil marriage</td>\n      <td>House / apartment</td>\n    </tr>\n    <tr>\n      <th>4</th>\n      <td>100007</td>\n      <td>0</td>\n      <td>Cash loans</td>\n      <td>M</td>\n      <td>N</td>\n      <td>N</td>\n      <td>Y</td>\n      <td>0</td>\n      <td>121500.0</td>\n      <td>513000.0</td>\n      <td>21865.5</td>\n      <td>513000.0</td>\n      <td>Unaccompanied</td>\n      <td>Working</td>\n      <td>Secondary / secondary special</td>\n      <td>Single / not married</td>\n      <td>House / apartment</td>\n    </tr>\n    <tr>\n      <th>...</th>\n      <td>...</td>\n      <td>...</td>\n      <td>...</td>\n      <td>...</td>\n      <td>...</td>\n      <td>...</td>\n      <td>...</td>\n      <td>...</td>\n      <td>...</td>\n      <td>...</td>\n      <td>...</td>\n      <td>...</td>\n      <td>...</td>\n      <td>...</td>\n      <td>...</td>\n      <td>...</td>\n      <td>...</td>\n    </tr>\n    <tr>\n      <th>307506</th>\n      <td>456251</td>\n      <td>0</td>\n      <td>Cash loans</td>\n      <td>M</td>\n      <td>N</td>\n      <td>N</td>\n      <td>N</td>\n      <td>0</td>\n      <td>157500.0</td>\n      <td>254700.0</td>\n      <td>27558.0</td>\n      <td>225000.0</td>\n      <td>Unaccompanied</td>\n      <td>Working</td>\n      <td>Secondary / secondary special</td>\n      <td>Separated</td>\n      <td>With parents</td>\n    </tr>\n    <tr>\n      <th>307507</th>\n      <td>456252</td>\n      <td>0</td>\n      <td>Cash loans</td>\n      <td>F</td>\n      <td>N</td>\n      <td>N</td>\n      <td>Y</td>\n      <td>0</td>\n      <td>72000.0</td>\n      <td>269550.0</td>\n      <td>12001.5</td>\n      <td>225000.0</td>\n      <td>Unaccompanied</td>\n      <td>Pensioner</td>\n      <td>Secondary / secondary special</td>\n      <td>Widow</td>\n      <td>House / apartment</td>\n    </tr>\n    <tr>\n      <th>307508</th>\n      <td>456253</td>\n      <td>0</td>\n      <td>Cash loans</td>\n      <td>F</td>\n      <td>N</td>\n      <td>N</td>\n      <td>Y</td>\n      <td>0</td>\n      <td>153000.0</td>\n      <td>677664.0</td>\n      <td>29979.0</td>\n      <td>585000.0</td>\n      <td>Unaccompanied</td>\n      <td>Working</td>\n      <td>Higher education</td>\n      <td>Separated</td>\n      <td>House / apartment</td>\n    </tr>\n    <tr>\n      <th>307509</th>\n      <td>456254</td>\n      <td>1</td>\n      <td>Cash loans</td>\n      <td>F</td>\n      <td>N</td>\n      <td>N</td>\n      <td>Y</td>\n      <td>0</td>\n      <td>171000.0</td>\n      <td>370107.0</td>\n      <td>20205.0</td>\n      <td>319500.0</td>\n      <td>Unaccompanied</td>\n      <td>Commercial associate</td>\n      <td>Secondary / secondary special</td>\n      <td>Married</td>\n      <td>House / apartment</td>\n    </tr>\n    <tr>\n      <th>307510</th>\n      <td>456255</td>\n      <td>0</td>\n      <td>Cash loans</td>\n      <td>F</td>\n      <td>N</td>\n      <td>N</td>\n      <td>N</td>\n      <td>0</td>\n      <td>157500.0</td>\n      <td>675000.0</td>\n      <td>49117.5</td>\n      <td>675000.0</td>\n      <td>Unaccompanied</td>\n      <td>Commercial associate</td>\n      <td>Higher education</td>\n      <td>Married</td>\n      <td>House / apartment</td>\n    </tr>\n  </tbody>\n</table>\n<p>307511 rows × 17 columns</p>\n</div>",
      "text/plain": "        SK_ID_CURR  TARGET NAME_CONTRACT_TYPE CODE_GENDER FLAG_OWN_CAR  \\\n0           100002       1         Cash loans           M            N   \n1           100003       0         Cash loans           F            N   \n2           100004       0    Revolving loans           M            Y   \n3           100006       0         Cash loans           F            N   \n4           100007       0         Cash loans           M            N   \n...            ...     ...                ...         ...          ...   \n307506      456251       0         Cash loans           M            N   \n307507      456252       0         Cash loans           F            N   \n307508      456253       0         Cash loans           F            N   \n307509      456254       1         Cash loans           F            N   \n307510      456255       0         Cash loans           F            N   \n\n       FLAG_OWN_CAR FLAG_OWN_REALTY  CNT_CHILDREN  AMT_INCOME_TOTAL  \\\n0                 N               Y             0          202500.0   \n1                 N               N             0          270000.0   \n2                 Y               Y             0           67500.0   \n3                 N               Y             0          135000.0   \n4                 N               Y             0          121500.0   \n...             ...             ...           ...               ...   \n307506            N               N             0          157500.0   \n307507            N               Y             0           72000.0   \n307508            N               Y             0          153000.0   \n307509            N               Y             0          171000.0   \n307510            N               N             0          157500.0   \n\n        AMT_CREDIT  AMT_ANNUITY  AMT_GOODS_PRICE NAME_TYPE_SUITE  \\\n0         406597.5      24700.5         351000.0   Unaccompanied   \n1        1293502.5      35698.5        1129500.0          Family   \n2         135000.0       6750.0         135000.0   Unaccompanied   \n3         312682.5      29686.5         297000.0   Unaccompanied   \n4         513000.0      21865.5         513000.0   Unaccompanied   \n...            ...          ...              ...             ...   \n307506    254700.0      27558.0         225000.0   Unaccompanied   \n307507    269550.0      12001.5         225000.0   Unaccompanied   \n307508    677664.0      29979.0         585000.0   Unaccompanied   \n307509    370107.0      20205.0         319500.0   Unaccompanied   \n307510    675000.0      49117.5         675000.0   Unaccompanied   \n\n            NAME_INCOME_TYPE            NAME_EDUCATION_TYPE  \\\n0                    Working  Secondary / secondary special   \n1              State servant               Higher education   \n2                    Working  Secondary / secondary special   \n3                    Working  Secondary / secondary special   \n4                    Working  Secondary / secondary special   \n...                      ...                            ...   \n307506               Working  Secondary / secondary special   \n307507             Pensioner  Secondary / secondary special   \n307508               Working               Higher education   \n307509  Commercial associate  Secondary / secondary special   \n307510  Commercial associate               Higher education   \n\n          NAME_FAMILY_STATUS  NAME_HOUSING_TYPE  \n0       Single / not married  House / apartment  \n1                    Married  House / apartment  \n2       Single / not married  House / apartment  \n3             Civil marriage  House / apartment  \n4       Single / not married  House / apartment  \n...                      ...                ...  \n307506             Separated       With parents  \n307507                 Widow  House / apartment  \n307508             Separated  House / apartment  \n307509               Married  House / apartment  \n307510               Married  House / apartment  \n\n[307511 rows x 17 columns]"
     },
     "execution_count": 9,
     "metadata": {},
     "output_type": "execute_result"
    }
   ],
   "source": [
    "# Training data\r\n",
    "app_train = pd.read_csv(\"../csv_file/application_train.csv\")\r\n",
    "app_train_filt = app_train[['SK_ID_CURR', 'TARGET', 'NAME_CONTRACT_TYPE', 'CODE_GENDER', 'FLAG_OWN_CAR', 'FLAG_OWN_CAR', 'FLAG_OWN_REALTY', 'CNT_CHILDREN', 'AMT_INCOME_TOTAL', 'AMT_CREDIT', 'AMT_ANNUITY', 'AMT_GOODS_PRICE', 'NAME_TYPE_SUITE','NAME_INCOME_TYPE','NAME_EDUCATION_TYPE', 'NAME_FAMILY_STATUS', 'NAME_HOUSING_TYPE']]\r\n",
    "app_train_filt"
   ]
  },
  {
   "cell_type": "code",
   "execution_count": 17,
   "metadata": {},
   "outputs": [
    {
     "data": {
      "text/html": "<div>\n<style scoped>\n    .dataframe tbody tr th:only-of-type {\n        vertical-align: middle;\n    }\n\n    .dataframe tbody tr th {\n        vertical-align: top;\n    }\n\n    .dataframe thead th {\n        text-align: right;\n    }\n</style>\n<table border=\"1\" class=\"dataframe\">\n  <thead>\n    <tr style=\"text-align: right;\">\n      <th></th>\n      <th>SK_ID_CURR</th>\n      <th>NAME_CONTRACT_TYPE</th>\n      <th>CODE_GENDER</th>\n      <th>DAYS_BIRTH</th>\n      <th>FLAG_OWN_CAR</th>\n      <th>FLAG_OWN_CAR</th>\n      <th>FLAG_OWN_REALTY</th>\n      <th>CNT_CHILDREN</th>\n      <th>AMT_INCOME_TOTAL</th>\n      <th>AMT_CREDIT</th>\n      <th>AMT_ANNUITY</th>\n      <th>AMT_GOODS_PRICE</th>\n      <th>NAME_TYPE_SUITE</th>\n      <th>NAME_INCOME_TYPE</th>\n      <th>NAME_EDUCATION_TYPE</th>\n      <th>NAME_FAMILY_STATUS</th>\n      <th>NAME_HOUSING_TYPE</th>\n    </tr>\n  </thead>\n  <tbody>\n    <tr>\n      <th>0</th>\n      <td>100001</td>\n      <td>Cash loans</td>\n      <td>F</td>\n      <td>-19241</td>\n      <td>N</td>\n      <td>N</td>\n      <td>Y</td>\n      <td>0</td>\n      <td>135000.0</td>\n      <td>568800.0</td>\n      <td>20560.5</td>\n      <td>450000.0</td>\n      <td>Unaccompanied</td>\n      <td>Working</td>\n      <td>Higher education</td>\n      <td>Married</td>\n      <td>House / apartment</td>\n    </tr>\n    <tr>\n      <th>1</th>\n      <td>100005</td>\n      <td>Cash loans</td>\n      <td>M</td>\n      <td>-18064</td>\n      <td>N</td>\n      <td>N</td>\n      <td>Y</td>\n      <td>0</td>\n      <td>99000.0</td>\n      <td>222768.0</td>\n      <td>17370.0</td>\n      <td>180000.0</td>\n      <td>Unaccompanied</td>\n      <td>Working</td>\n      <td>Secondary / secondary special</td>\n      <td>Married</td>\n      <td>House / apartment</td>\n    </tr>\n    <tr>\n      <th>2</th>\n      <td>100013</td>\n      <td>Cash loans</td>\n      <td>M</td>\n      <td>-20038</td>\n      <td>Y</td>\n      <td>Y</td>\n      <td>Y</td>\n      <td>0</td>\n      <td>202500.0</td>\n      <td>663264.0</td>\n      <td>69777.0</td>\n      <td>630000.0</td>\n      <td>NaN</td>\n      <td>Working</td>\n      <td>Higher education</td>\n      <td>Married</td>\n      <td>House / apartment</td>\n    </tr>\n    <tr>\n      <th>3</th>\n      <td>100028</td>\n      <td>Cash loans</td>\n      <td>F</td>\n      <td>-13976</td>\n      <td>N</td>\n      <td>N</td>\n      <td>Y</td>\n      <td>2</td>\n      <td>315000.0</td>\n      <td>1575000.0</td>\n      <td>49018.5</td>\n      <td>1575000.0</td>\n      <td>Unaccompanied</td>\n      <td>Working</td>\n      <td>Secondary / secondary special</td>\n      <td>Married</td>\n      <td>House / apartment</td>\n    </tr>\n    <tr>\n      <th>4</th>\n      <td>100038</td>\n      <td>Cash loans</td>\n      <td>M</td>\n      <td>-13040</td>\n      <td>Y</td>\n      <td>Y</td>\n      <td>N</td>\n      <td>1</td>\n      <td>180000.0</td>\n      <td>625500.0</td>\n      <td>32067.0</td>\n      <td>625500.0</td>\n      <td>Unaccompanied</td>\n      <td>Working</td>\n      <td>Secondary / secondary special</td>\n      <td>Married</td>\n      <td>House / apartment</td>\n    </tr>\n    <tr>\n      <th>...</th>\n      <td>...</td>\n      <td>...</td>\n      <td>...</td>\n      <td>...</td>\n      <td>...</td>\n      <td>...</td>\n      <td>...</td>\n      <td>...</td>\n      <td>...</td>\n      <td>...</td>\n      <td>...</td>\n      <td>...</td>\n      <td>...</td>\n      <td>...</td>\n      <td>...</td>\n      <td>...</td>\n      <td>...</td>\n    </tr>\n    <tr>\n      <th>48739</th>\n      <td>456221</td>\n      <td>Cash loans</td>\n      <td>F</td>\n      <td>-19970</td>\n      <td>N</td>\n      <td>N</td>\n      <td>Y</td>\n      <td>0</td>\n      <td>121500.0</td>\n      <td>412560.0</td>\n      <td>17473.5</td>\n      <td>270000.0</td>\n      <td>Unaccompanied</td>\n      <td>Working</td>\n      <td>Secondary / secondary special</td>\n      <td>Widow</td>\n      <td>House / apartment</td>\n    </tr>\n    <tr>\n      <th>48740</th>\n      <td>456222</td>\n      <td>Cash loans</td>\n      <td>F</td>\n      <td>-11186</td>\n      <td>N</td>\n      <td>N</td>\n      <td>N</td>\n      <td>2</td>\n      <td>157500.0</td>\n      <td>622413.0</td>\n      <td>31909.5</td>\n      <td>495000.0</td>\n      <td>Unaccompanied</td>\n      <td>Commercial associate</td>\n      <td>Secondary / secondary special</td>\n      <td>Married</td>\n      <td>House / apartment</td>\n    </tr>\n    <tr>\n      <th>48741</th>\n      <td>456223</td>\n      <td>Cash loans</td>\n      <td>F</td>\n      <td>-15922</td>\n      <td>Y</td>\n      <td>Y</td>\n      <td>Y</td>\n      <td>1</td>\n      <td>202500.0</td>\n      <td>315000.0</td>\n      <td>33205.5</td>\n      <td>315000.0</td>\n      <td>Unaccompanied</td>\n      <td>Commercial associate</td>\n      <td>Secondary / secondary special</td>\n      <td>Married</td>\n      <td>House / apartment</td>\n    </tr>\n    <tr>\n      <th>48742</th>\n      <td>456224</td>\n      <td>Cash loans</td>\n      <td>M</td>\n      <td>-13968</td>\n      <td>N</td>\n      <td>N</td>\n      <td>N</td>\n      <td>0</td>\n      <td>225000.0</td>\n      <td>450000.0</td>\n      <td>25128.0</td>\n      <td>450000.0</td>\n      <td>Family</td>\n      <td>Commercial associate</td>\n      <td>Higher education</td>\n      <td>Married</td>\n      <td>House / apartment</td>\n    </tr>\n    <tr>\n      <th>48743</th>\n      <td>456250</td>\n      <td>Cash loans</td>\n      <td>F</td>\n      <td>-13962</td>\n      <td>Y</td>\n      <td>Y</td>\n      <td>N</td>\n      <td>0</td>\n      <td>135000.0</td>\n      <td>312768.0</td>\n      <td>24709.5</td>\n      <td>270000.0</td>\n      <td>Unaccompanied</td>\n      <td>Working</td>\n      <td>Secondary / secondary special</td>\n      <td>Married</td>\n      <td>House / apartment</td>\n    </tr>\n  </tbody>\n</table>\n<p>48744 rows × 17 columns</p>\n</div>",
      "text/plain": "       SK_ID_CURR NAME_CONTRACT_TYPE CODE_GENDER  DAYS_BIRTH FLAG_OWN_CAR  \\\n0          100001         Cash loans           F      -19241            N   \n1          100005         Cash loans           M      -18064            N   \n2          100013         Cash loans           M      -20038            Y   \n3          100028         Cash loans           F      -13976            N   \n4          100038         Cash loans           M      -13040            Y   \n...           ...                ...         ...         ...          ...   \n48739      456221         Cash loans           F      -19970            N   \n48740      456222         Cash loans           F      -11186            N   \n48741      456223         Cash loans           F      -15922            Y   \n48742      456224         Cash loans           M      -13968            N   \n48743      456250         Cash loans           F      -13962            Y   \n\n      FLAG_OWN_CAR FLAG_OWN_REALTY  CNT_CHILDREN  AMT_INCOME_TOTAL  \\\n0                N               Y             0          135000.0   \n1                N               Y             0           99000.0   \n2                Y               Y             0          202500.0   \n3                N               Y             2          315000.0   \n4                Y               N             1          180000.0   \n...            ...             ...           ...               ...   \n48739            N               Y             0          121500.0   \n48740            N               N             2          157500.0   \n48741            Y               Y             1          202500.0   \n48742            N               N             0          225000.0   \n48743            Y               N             0          135000.0   \n\n       AMT_CREDIT  AMT_ANNUITY  AMT_GOODS_PRICE NAME_TYPE_SUITE  \\\n0        568800.0      20560.5         450000.0   Unaccompanied   \n1        222768.0      17370.0         180000.0   Unaccompanied   \n2        663264.0      69777.0         630000.0             NaN   \n3       1575000.0      49018.5        1575000.0   Unaccompanied   \n4        625500.0      32067.0         625500.0   Unaccompanied   \n...           ...          ...              ...             ...   \n48739    412560.0      17473.5         270000.0   Unaccompanied   \n48740    622413.0      31909.5         495000.0   Unaccompanied   \n48741    315000.0      33205.5         315000.0   Unaccompanied   \n48742    450000.0      25128.0         450000.0          Family   \n48743    312768.0      24709.5         270000.0   Unaccompanied   \n\n           NAME_INCOME_TYPE            NAME_EDUCATION_TYPE NAME_FAMILY_STATUS  \\\n0                   Working               Higher education            Married   \n1                   Working  Secondary / secondary special            Married   \n2                   Working               Higher education            Married   \n3                   Working  Secondary / secondary special            Married   \n4                   Working  Secondary / secondary special            Married   \n...                     ...                            ...                ...   \n48739               Working  Secondary / secondary special              Widow   \n48740  Commercial associate  Secondary / secondary special            Married   \n48741  Commercial associate  Secondary / secondary special            Married   \n48742  Commercial associate               Higher education            Married   \n48743               Working  Secondary / secondary special            Married   \n\n       NAME_HOUSING_TYPE  \n0      House / apartment  \n1      House / apartment  \n2      House / apartment  \n3      House / apartment  \n4      House / apartment  \n...                  ...  \n48739  House / apartment  \n48740  House / apartment  \n48741  House / apartment  \n48742  House / apartment  \n48743  House / apartment  \n\n[48744 rows x 17 columns]"
     },
     "execution_count": 17,
     "metadata": {},
     "output_type": "execute_result"
    }
   ],
   "source": [
    "# Testing data features\r\n",
    "app_test = pd.read_csv('../csv_file/application_test.csv')\r\n",
    "app_test_filt = app_test[['SK_ID_CURR', 'NAME_CONTRACT_TYPE', 'CODE_GENDER', 'DAYS_BIRTH', 'FLAG_OWN_CAR', 'FLAG_OWN_CAR', 'FLAG_OWN_REALTY', 'CNT_CHILDREN', 'AMT_INCOME_TOTAL', 'AMT_CREDIT', 'AMT_ANNUITY', 'AMT_GOODS_PRICE', 'NAME_TYPE_SUITE','NAME_INCOME_TYPE','NAME_EDUCATION_TYPE', 'NAME_FAMILY_STATUS', 'NAME_HOUSING_TYPE']]\r\n",
    "app_test_filt"
   ]
  },
  {
   "cell_type": "code",
   "execution_count": 18,
   "metadata": {},
   "outputs": [
    {
     "data": {
      "text/html": "<div>\n<style scoped>\n    .dataframe tbody tr th:only-of-type {\n        vertical-align: middle;\n    }\n\n    .dataframe tbody tr th {\n        vertical-align: top;\n    }\n\n    .dataframe thead th {\n        text-align: right;\n    }\n</style>\n<table border=\"1\" class=\"dataframe\">\n  <thead>\n    <tr style=\"text-align: right;\">\n      <th></th>\n      <th>NAME_CONTRACT_TYPE</th>\n      <th>CODE_GENDER</th>\n      <th>FLAG_OWN_CAR</th>\n      <th>FLAG_OWN_CAR</th>\n      <th>FLAG_OWN_REALTY</th>\n      <th>NAME_TYPE_SUITE</th>\n      <th>NAME_INCOME_TYPE</th>\n      <th>NAME_EDUCATION_TYPE</th>\n      <th>NAME_FAMILY_STATUS</th>\n      <th>NAME_HOUSING_TYPE</th>\n    </tr>\n  </thead>\n  <tbody>\n    <tr>\n      <th>count</th>\n      <td>307511</td>\n      <td>307511</td>\n      <td>307511</td>\n      <td>307511</td>\n      <td>307511</td>\n      <td>306219</td>\n      <td>307511</td>\n      <td>307511</td>\n      <td>307511</td>\n      <td>307511</td>\n    </tr>\n    <tr>\n      <th>unique</th>\n      <td>2</td>\n      <td>3</td>\n      <td>2</td>\n      <td>2</td>\n      <td>2</td>\n      <td>7</td>\n      <td>8</td>\n      <td>5</td>\n      <td>6</td>\n      <td>6</td>\n    </tr>\n    <tr>\n      <th>top</th>\n      <td>Cash loans</td>\n      <td>F</td>\n      <td>N</td>\n      <td>N</td>\n      <td>Y</td>\n      <td>Unaccompanied</td>\n      <td>Working</td>\n      <td>Secondary / secondary special</td>\n      <td>Married</td>\n      <td>House / apartment</td>\n    </tr>\n    <tr>\n      <th>freq</th>\n      <td>278232</td>\n      <td>202448</td>\n      <td>202924</td>\n      <td>202924</td>\n      <td>213312</td>\n      <td>248526</td>\n      <td>158774</td>\n      <td>218391</td>\n      <td>196432</td>\n      <td>272868</td>\n    </tr>\n  </tbody>\n</table>\n</div>",
      "text/plain": "       NAME_CONTRACT_TYPE CODE_GENDER FLAG_OWN_CAR FLAG_OWN_CAR  \\\ncount              307511      307511       307511       307511   \nunique                  2           3            2            2   \ntop            Cash loans           F            N            N   \nfreq               278232      202448       202924       202924   \n\n       FLAG_OWN_REALTY NAME_TYPE_SUITE NAME_INCOME_TYPE  \\\ncount           307511          306219           307511   \nunique               2               7                8   \ntop                  Y   Unaccompanied          Working   \nfreq            213312          248526           158774   \n\n                  NAME_EDUCATION_TYPE NAME_FAMILY_STATUS  NAME_HOUSING_TYPE  \ncount                          307511             307511             307511  \nunique                              5                  6                  6  \ntop     Secondary / secondary special            Married  House / apartment  \nfreq                           218391             196432             272868  "
     },
     "execution_count": 18,
     "metadata": {},
     "output_type": "execute_result"
    }
   ],
   "source": [
    "app_train_filt.describe(include=['O'])"
   ]
  },
  {
   "cell_type": "code",
   "execution_count": 24,
   "metadata": {},
   "outputs": [
    {
     "data": {
      "text/plain": "NAME_CONTRACT_TYPE     2\nCODE_GENDER            3\nFLAG_OWN_CAR           2\nFLAG_OWN_CAR           2\nFLAG_OWN_REALTY        2\nNAME_TYPE_SUITE        7\nNAME_INCOME_TYPE       8\nNAME_EDUCATION_TYPE    5\nNAME_FAMILY_STATUS     6\nNAME_HOUSING_TYPE      6\ndtype: int64"
     },
     "execution_count": 24,
     "metadata": {},
     "output_type": "execute_result"
    }
   ],
   "source": [
    "# Number of unique classes in each object column\r\n",
    "app_train_filt.select_dtypes('object').apply(pd.Series.nunique, axis = 0)"
   ]
  },
  {
   "cell_type": "code",
   "execution_count": 51,
   "metadata": {},
   "outputs": [
    {
     "ename": "ValueError",
     "evalue": "The truth value of a Series is ambiguous. Use a.empty, a.bool(), a.item(), a.any() or a.all().",
     "output_type": "error",
     "traceback": [
      "\u001b[1;31m---------------------------------------------------------------------------\u001b[0m",
      "\u001b[1;31mValueError\u001b[0m                                Traceback (most recent call last)",
      "\u001b[1;32m<ipython-input-51-daf6b7e152e1>\u001b[0m in \u001b[0;36m<module>\u001b[1;34m\u001b[0m\n\u001b[0;32m      5\u001b[0m \u001b[1;31m# Iterate through the columns\u001b[0m\u001b[1;33m\u001b[0m\u001b[1;33m\u001b[0m\u001b[1;33m\u001b[0m\u001b[0m\n\u001b[0;32m      6\u001b[0m \u001b[1;32mfor\u001b[0m \u001b[0mcol\u001b[0m \u001b[1;32min\u001b[0m \u001b[0mapp_train_filt\u001b[0m\u001b[1;33m:\u001b[0m\u001b[1;33m\u001b[0m\u001b[1;33m\u001b[0m\u001b[0m\n\u001b[1;32m----> 7\u001b[1;33m     \u001b[1;32mif\u001b[0m \u001b[0mapp_train_filt\u001b[0m\u001b[1;33m[\u001b[0m\u001b[0mcol\u001b[0m\u001b[1;33m]\u001b[0m\u001b[1;33m.\u001b[0m\u001b[0mdtypes\u001b[0m \u001b[1;33m==\u001b[0m \u001b[1;34m'object'\u001b[0m\u001b[1;33m:\u001b[0m\u001b[1;33m\u001b[0m\u001b[1;33m\u001b[0m\u001b[0m\n\u001b[0m\u001b[0;32m      8\u001b[0m         \u001b[1;31m# If 2 or fewer unique categories\u001b[0m\u001b[1;33m\u001b[0m\u001b[1;33m\u001b[0m\u001b[1;33m\u001b[0m\u001b[0m\n\u001b[0;32m      9\u001b[0m         \u001b[1;32mif\u001b[0m \u001b[0mlen\u001b[0m\u001b[1;33m(\u001b[0m\u001b[0mlist\u001b[0m\u001b[1;33m(\u001b[0m\u001b[0mapp_train_filt\u001b[0m\u001b[1;33m[\u001b[0m\u001b[0mcol\u001b[0m\u001b[1;33m]\u001b[0m\u001b[1;33m.\u001b[0m\u001b[0munique\u001b[0m\u001b[1;33m(\u001b[0m\u001b[1;33m)\u001b[0m\u001b[1;33m)\u001b[0m\u001b[1;33m)\u001b[0m \u001b[1;33m<=\u001b[0m \u001b[1;36m2\u001b[0m\u001b[1;33m:\u001b[0m\u001b[1;33m\u001b[0m\u001b[1;33m\u001b[0m\u001b[0m\n",
      "\u001b[1;32m~\\AppData\\Local\\Programs\\Python\\Python38-32\\lib\\site-packages\\pandas\\core\\generic.py\u001b[0m in \u001b[0;36m__nonzero__\u001b[1;34m(self)\u001b[0m\n\u001b[0;32m   1440\u001b[0m     \u001b[1;33m@\u001b[0m\u001b[0mfinal\u001b[0m\u001b[1;33m\u001b[0m\u001b[1;33m\u001b[0m\u001b[0m\n\u001b[0;32m   1441\u001b[0m     \u001b[1;32mdef\u001b[0m \u001b[0m__nonzero__\u001b[0m\u001b[1;33m(\u001b[0m\u001b[0mself\u001b[0m\u001b[1;33m)\u001b[0m\u001b[1;33m:\u001b[0m\u001b[1;33m\u001b[0m\u001b[1;33m\u001b[0m\u001b[0m\n\u001b[1;32m-> 1442\u001b[1;33m         raise ValueError(\n\u001b[0m\u001b[0;32m   1443\u001b[0m             \u001b[1;34mf\"The truth value of a {type(self).__name__} is ambiguous. \"\u001b[0m\u001b[1;33m\u001b[0m\u001b[1;33m\u001b[0m\u001b[0m\n\u001b[0;32m   1444\u001b[0m             \u001b[1;34m\"Use a.empty, a.bool(), a.item(), a.any() or a.all().\"\u001b[0m\u001b[1;33m\u001b[0m\u001b[1;33m\u001b[0m\u001b[0m\n",
      "\u001b[1;31mValueError\u001b[0m: The truth value of a Series is ambiguous. Use a.empty, a.bool(), a.item(), a.any() or a.all()."
     ]
    }
   ],
   "source": [
    "# Create a label encoder object\r\n",
    "le = LabelEncoder()\r\n",
    "le_count = 0\r\n",
    "\r\n",
    "# Iterate through the columns\r\n",
    "for col in app_train_filt:\r\n",
    "    if app_train_filt[col].dtypes == 'object':\r\n",
    "        # If 2 or fewer unique categories\r\n",
    "        if len(list(app_train_filt[col].unique())) <= 2:\r\n",
    "            # Train on the training data\r\n",
    "            le.fit(app_train_filt[col])\r\n",
    "            # Transform both training and testing data\r\n",
    "            app_train_filt[col] = le.transform(app_train_filt[col])\r\n",
    "            app_test_filt[col] = le.transform(app_test_filt[col])\r\n",
    "            \r\n",
    "            # Keep track of how many columns were label encoded\r\n",
    "            le_count += 1\r\n",
    "            \r\n",
    "print('%d columns were label encoded.' % le_count)"
   ]
  },
  {
   "cell_type": "code",
   "execution_count": 50,
   "metadata": {},
   "outputs": [
    {
     "name": "stdout",
     "output_type": "stream",
     "text": [
      "Training Features shape:  (307511, 49)\n",
      "Testing Features shape:  (48744, 46)\n"
     ]
    }
   ],
   "source": [
    "# one-hot encoding of categorical variables\r\n",
    "app_train_filt = pd.get_dummies(app_train_filt)\r\n",
    "app_test_filt = pd.get_dummies(app_test_filt)\r\n",
    "\r\n",
    "print('Training Features shape: ', app_train_filt.shape)\r\n",
    "print('Testing Features shape: ', app_test_filt.shape)"
   ]
  },
  {
   "cell_type": "code",
   "execution_count": 52,
   "metadata": {},
   "outputs": [
    {
     "data": {
      "text/html": "<div>\n<style scoped>\n    .dataframe tbody tr th:only-of-type {\n        vertical-align: middle;\n    }\n\n    .dataframe tbody tr th {\n        vertical-align: top;\n    }\n\n    .dataframe thead th {\n        text-align: right;\n    }\n</style>\n<table border=\"1\" class=\"dataframe\">\n  <thead>\n    <tr style=\"text-align: right;\">\n      <th></th>\n      <th>SK_ID_CURR</th>\n      <th>TARGET</th>\n      <th>NAME_CONTRACT_TYPE</th>\n      <th>CNT_CHILDREN</th>\n      <th>AMT_INCOME_TOTAL</th>\n      <th>AMT_CREDIT</th>\n      <th>AMT_ANNUITY</th>\n      <th>AMT_GOODS_PRICE</th>\n      <th>CODE_GENDER_F</th>\n      <th>CODE_GENDER_M</th>\n      <th>...</th>\n      <th>NAME_FAMILY_STATUS_Separated</th>\n      <th>NAME_FAMILY_STATUS_Single / not married</th>\n      <th>NAME_FAMILY_STATUS_Unknown</th>\n      <th>NAME_FAMILY_STATUS_Widow</th>\n      <th>NAME_HOUSING_TYPE_Co-op apartment</th>\n      <th>NAME_HOUSING_TYPE_House / apartment</th>\n      <th>NAME_HOUSING_TYPE_Municipal apartment</th>\n      <th>NAME_HOUSING_TYPE_Office apartment</th>\n      <th>NAME_HOUSING_TYPE_Rented apartment</th>\n      <th>NAME_HOUSING_TYPE_With parents</th>\n    </tr>\n  </thead>\n  <tbody>\n    <tr>\n      <th>0</th>\n      <td>100002</td>\n      <td>1</td>\n      <td>0</td>\n      <td>0</td>\n      <td>202500.0</td>\n      <td>406597.5</td>\n      <td>24700.5</td>\n      <td>351000.0</td>\n      <td>0</td>\n      <td>1</td>\n      <td>...</td>\n      <td>0</td>\n      <td>1</td>\n      <td>0</td>\n      <td>0</td>\n      <td>0</td>\n      <td>1</td>\n      <td>0</td>\n      <td>0</td>\n      <td>0</td>\n      <td>0</td>\n    </tr>\n    <tr>\n      <th>1</th>\n      <td>100003</td>\n      <td>0</td>\n      <td>0</td>\n      <td>0</td>\n      <td>270000.0</td>\n      <td>1293502.5</td>\n      <td>35698.5</td>\n      <td>1129500.0</td>\n      <td>1</td>\n      <td>0</td>\n      <td>...</td>\n      <td>0</td>\n      <td>0</td>\n      <td>0</td>\n      <td>0</td>\n      <td>0</td>\n      <td>1</td>\n      <td>0</td>\n      <td>0</td>\n      <td>0</td>\n      <td>0</td>\n    </tr>\n    <tr>\n      <th>2</th>\n      <td>100004</td>\n      <td>0</td>\n      <td>1</td>\n      <td>0</td>\n      <td>67500.0</td>\n      <td>135000.0</td>\n      <td>6750.0</td>\n      <td>135000.0</td>\n      <td>0</td>\n      <td>1</td>\n      <td>...</td>\n      <td>0</td>\n      <td>1</td>\n      <td>0</td>\n      <td>0</td>\n      <td>0</td>\n      <td>1</td>\n      <td>0</td>\n      <td>0</td>\n      <td>0</td>\n      <td>0</td>\n    </tr>\n    <tr>\n      <th>3</th>\n      <td>100006</td>\n      <td>0</td>\n      <td>0</td>\n      <td>0</td>\n      <td>135000.0</td>\n      <td>312682.5</td>\n      <td>29686.5</td>\n      <td>297000.0</td>\n      <td>1</td>\n      <td>0</td>\n      <td>...</td>\n      <td>0</td>\n      <td>0</td>\n      <td>0</td>\n      <td>0</td>\n      <td>0</td>\n      <td>1</td>\n      <td>0</td>\n      <td>0</td>\n      <td>0</td>\n      <td>0</td>\n    </tr>\n    <tr>\n      <th>4</th>\n      <td>100007</td>\n      <td>0</td>\n      <td>0</td>\n      <td>0</td>\n      <td>121500.0</td>\n      <td>513000.0</td>\n      <td>21865.5</td>\n      <td>513000.0</td>\n      <td>0</td>\n      <td>1</td>\n      <td>...</td>\n      <td>0</td>\n      <td>1</td>\n      <td>0</td>\n      <td>0</td>\n      <td>0</td>\n      <td>1</td>\n      <td>0</td>\n      <td>0</td>\n      <td>0</td>\n      <td>0</td>\n    </tr>\n    <tr>\n      <th>...</th>\n      <td>...</td>\n      <td>...</td>\n      <td>...</td>\n      <td>...</td>\n      <td>...</td>\n      <td>...</td>\n      <td>...</td>\n      <td>...</td>\n      <td>...</td>\n      <td>...</td>\n      <td>...</td>\n      <td>...</td>\n      <td>...</td>\n      <td>...</td>\n      <td>...</td>\n      <td>...</td>\n      <td>...</td>\n      <td>...</td>\n      <td>...</td>\n      <td>...</td>\n      <td>...</td>\n    </tr>\n    <tr>\n      <th>307506</th>\n      <td>456251</td>\n      <td>0</td>\n      <td>0</td>\n      <td>0</td>\n      <td>157500.0</td>\n      <td>254700.0</td>\n      <td>27558.0</td>\n      <td>225000.0</td>\n      <td>0</td>\n      <td>1</td>\n      <td>...</td>\n      <td>1</td>\n      <td>0</td>\n      <td>0</td>\n      <td>0</td>\n      <td>0</td>\n      <td>0</td>\n      <td>0</td>\n      <td>0</td>\n      <td>0</td>\n      <td>1</td>\n    </tr>\n    <tr>\n      <th>307507</th>\n      <td>456252</td>\n      <td>0</td>\n      <td>0</td>\n      <td>0</td>\n      <td>72000.0</td>\n      <td>269550.0</td>\n      <td>12001.5</td>\n      <td>225000.0</td>\n      <td>1</td>\n      <td>0</td>\n      <td>...</td>\n      <td>0</td>\n      <td>0</td>\n      <td>0</td>\n      <td>1</td>\n      <td>0</td>\n      <td>1</td>\n      <td>0</td>\n      <td>0</td>\n      <td>0</td>\n      <td>0</td>\n    </tr>\n    <tr>\n      <th>307508</th>\n      <td>456253</td>\n      <td>0</td>\n      <td>0</td>\n      <td>0</td>\n      <td>153000.0</td>\n      <td>677664.0</td>\n      <td>29979.0</td>\n      <td>585000.0</td>\n      <td>1</td>\n      <td>0</td>\n      <td>...</td>\n      <td>1</td>\n      <td>0</td>\n      <td>0</td>\n      <td>0</td>\n      <td>0</td>\n      <td>1</td>\n      <td>0</td>\n      <td>0</td>\n      <td>0</td>\n      <td>0</td>\n    </tr>\n    <tr>\n      <th>307509</th>\n      <td>456254</td>\n      <td>1</td>\n      <td>0</td>\n      <td>0</td>\n      <td>171000.0</td>\n      <td>370107.0</td>\n      <td>20205.0</td>\n      <td>319500.0</td>\n      <td>1</td>\n      <td>0</td>\n      <td>...</td>\n      <td>0</td>\n      <td>0</td>\n      <td>0</td>\n      <td>0</td>\n      <td>0</td>\n      <td>1</td>\n      <td>0</td>\n      <td>0</td>\n      <td>0</td>\n      <td>0</td>\n    </tr>\n    <tr>\n      <th>307510</th>\n      <td>456255</td>\n      <td>0</td>\n      <td>0</td>\n      <td>0</td>\n      <td>157500.0</td>\n      <td>675000.0</td>\n      <td>49117.5</td>\n      <td>675000.0</td>\n      <td>1</td>\n      <td>0</td>\n      <td>...</td>\n      <td>0</td>\n      <td>0</td>\n      <td>0</td>\n      <td>0</td>\n      <td>0</td>\n      <td>1</td>\n      <td>0</td>\n      <td>0</td>\n      <td>0</td>\n      <td>0</td>\n    </tr>\n  </tbody>\n</table>\n<p>307511 rows × 49 columns</p>\n</div>",
      "text/plain": "        SK_ID_CURR  TARGET  NAME_CONTRACT_TYPE  CNT_CHILDREN  \\\n0           100002       1                   0             0   \n1           100003       0                   0             0   \n2           100004       0                   1             0   \n3           100006       0                   0             0   \n4           100007       0                   0             0   \n...            ...     ...                 ...           ...   \n307506      456251       0                   0             0   \n307507      456252       0                   0             0   \n307508      456253       0                   0             0   \n307509      456254       1                   0             0   \n307510      456255       0                   0             0   \n\n        AMT_INCOME_TOTAL  AMT_CREDIT  AMT_ANNUITY  AMT_GOODS_PRICE  \\\n0               202500.0    406597.5      24700.5         351000.0   \n1               270000.0   1293502.5      35698.5        1129500.0   \n2                67500.0    135000.0       6750.0         135000.0   \n3               135000.0    312682.5      29686.5         297000.0   \n4               121500.0    513000.0      21865.5         513000.0   \n...                  ...         ...          ...              ...   \n307506          157500.0    254700.0      27558.0         225000.0   \n307507           72000.0    269550.0      12001.5         225000.0   \n307508          153000.0    677664.0      29979.0         585000.0   \n307509          171000.0    370107.0      20205.0         319500.0   \n307510          157500.0    675000.0      49117.5         675000.0   \n\n        CODE_GENDER_F  CODE_GENDER_M  ...  NAME_FAMILY_STATUS_Separated  \\\n0                   0              1  ...                             0   \n1                   1              0  ...                             0   \n2                   0              1  ...                             0   \n3                   1              0  ...                             0   \n4                   0              1  ...                             0   \n...               ...            ...  ...                           ...   \n307506              0              1  ...                             1   \n307507              1              0  ...                             0   \n307508              1              0  ...                             1   \n307509              1              0  ...                             0   \n307510              1              0  ...                             0   \n\n        NAME_FAMILY_STATUS_Single / not married  NAME_FAMILY_STATUS_Unknown  \\\n0                                             1                           0   \n1                                             0                           0   \n2                                             1                           0   \n3                                             0                           0   \n4                                             1                           0   \n...                                         ...                         ...   \n307506                                        0                           0   \n307507                                        0                           0   \n307508                                        0                           0   \n307509                                        0                           0   \n307510                                        0                           0   \n\n        NAME_FAMILY_STATUS_Widow  NAME_HOUSING_TYPE_Co-op apartment  \\\n0                              0                                  0   \n1                              0                                  0   \n2                              0                                  0   \n3                              0                                  0   \n4                              0                                  0   \n...                          ...                                ...   \n307506                         0                                  0   \n307507                         1                                  0   \n307508                         0                                  0   \n307509                         0                                  0   \n307510                         0                                  0   \n\n        NAME_HOUSING_TYPE_House / apartment  \\\n0                                         1   \n1                                         1   \n2                                         1   \n3                                         1   \n4                                         1   \n...                                     ...   \n307506                                    0   \n307507                                    1   \n307508                                    1   \n307509                                    1   \n307510                                    1   \n\n        NAME_HOUSING_TYPE_Municipal apartment  \\\n0                                           0   \n1                                           0   \n2                                           0   \n3                                           0   \n4                                           0   \n...                                       ...   \n307506                                      0   \n307507                                      0   \n307508                                      0   \n307509                                      0   \n307510                                      0   \n\n        NAME_HOUSING_TYPE_Office apartment  \\\n0                                        0   \n1                                        0   \n2                                        0   \n3                                        0   \n4                                        0   \n...                                    ...   \n307506                                   0   \n307507                                   0   \n307508                                   0   \n307509                                   0   \n307510                                   0   \n\n        NAME_HOUSING_TYPE_Rented apartment  NAME_HOUSING_TYPE_With parents  \n0                                        0                               0  \n1                                        0                               0  \n2                                        0                               0  \n3                                        0                               0  \n4                                        0                               0  \n...                                    ...                             ...  \n307506                                   0                               1  \n307507                                   0                               0  \n307508                                   0                               0  \n307509                                   0                               0  \n307510                                   0                               0  \n\n[307511 rows x 49 columns]"
     },
     "execution_count": 52,
     "metadata": {},
     "output_type": "execute_result"
    }
   ],
   "source": [
    "app_train_filt"
   ]
  },
  {
   "cell_type": "code",
   "execution_count": 53,
   "metadata": {},
   "outputs": [
    {
     "name": "stdout",
     "output_type": "stream",
     "text": [
      "Training Features shape:  (307511, 50)\n",
      "Testing Features shape:  (48744, 49)\n"
     ]
    }
   ],
   "source": [
    "train_labels = app_train_filt['TARGET']\r\n",
    "\r\n",
    "# Align the training and testing data, keep only columns present in both dataframes\r\n",
    "app_train_filt, app_test_filt = app_train_filt.align(app_test_filt, join = 'inner', axis = 1)\r\n",
    "\r\n",
    "# Add the target back in\r\n",
    "app_train_filt['TARGET'] = train_labels\r\n",
    "\r\n",
    "print('Training Features shape: ', app_train_filt.shape)\r\n",
    "print('Testing Features shape: ', app_test_filt.shape)"
   ]
  },
  {
   "cell_type": "code",
   "execution_count": 54,
   "metadata": {},
   "outputs": [
    {
     "data": {
      "text/html": "<div>\n<style scoped>\n    .dataframe tbody tr th:only-of-type {\n        vertical-align: middle;\n    }\n\n    .dataframe tbody tr th {\n        vertical-align: top;\n    }\n\n    .dataframe thead th {\n        text-align: right;\n    }\n</style>\n<table border=\"1\" class=\"dataframe\">\n  <thead>\n    <tr style=\"text-align: right;\">\n      <th></th>\n      <th>AMT_ANNUITY</th>\n      <th>AMT_CREDIT</th>\n      <th>AMT_GOODS_PRICE</th>\n      <th>AMT_INCOME_TOTAL</th>\n      <th>CNT_CHILDREN</th>\n      <th>CODE_GENDER_F</th>\n      <th>CODE_GENDER_M</th>\n      <th>FLAG_OWN_CAR_N</th>\n      <th>FLAG_OWN_CAR_N</th>\n      <th>FLAG_OWN_CAR_N</th>\n      <th>...</th>\n      <th>NAME_INCOME_TYPE_Working</th>\n      <th>NAME_TYPE_SUITE_Children</th>\n      <th>NAME_TYPE_SUITE_Family</th>\n      <th>NAME_TYPE_SUITE_Group of people</th>\n      <th>NAME_TYPE_SUITE_Other_A</th>\n      <th>NAME_TYPE_SUITE_Other_B</th>\n      <th>NAME_TYPE_SUITE_Spouse, partner</th>\n      <th>NAME_TYPE_SUITE_Unaccompanied</th>\n      <th>SK_ID_CURR</th>\n      <th>TARGET</th>\n    </tr>\n  </thead>\n  <tbody>\n    <tr>\n      <th>0</th>\n      <td>24700.5</td>\n      <td>406597.5</td>\n      <td>351000.0</td>\n      <td>202500.0</td>\n      <td>0</td>\n      <td>0</td>\n      <td>1</td>\n      <td>1</td>\n      <td>1</td>\n      <td>1</td>\n      <td>...</td>\n      <td>1</td>\n      <td>0</td>\n      <td>0</td>\n      <td>0</td>\n      <td>0</td>\n      <td>0</td>\n      <td>0</td>\n      <td>1</td>\n      <td>100002</td>\n      <td>1</td>\n    </tr>\n    <tr>\n      <th>1</th>\n      <td>35698.5</td>\n      <td>1293502.5</td>\n      <td>1129500.0</td>\n      <td>270000.0</td>\n      <td>0</td>\n      <td>1</td>\n      <td>0</td>\n      <td>1</td>\n      <td>1</td>\n      <td>1</td>\n      <td>...</td>\n      <td>0</td>\n      <td>0</td>\n      <td>1</td>\n      <td>0</td>\n      <td>0</td>\n      <td>0</td>\n      <td>0</td>\n      <td>0</td>\n      <td>100003</td>\n      <td>0</td>\n    </tr>\n    <tr>\n      <th>2</th>\n      <td>6750.0</td>\n      <td>135000.0</td>\n      <td>135000.0</td>\n      <td>67500.0</td>\n      <td>0</td>\n      <td>0</td>\n      <td>1</td>\n      <td>0</td>\n      <td>0</td>\n      <td>0</td>\n      <td>...</td>\n      <td>1</td>\n      <td>0</td>\n      <td>0</td>\n      <td>0</td>\n      <td>0</td>\n      <td>0</td>\n      <td>0</td>\n      <td>1</td>\n      <td>100004</td>\n      <td>0</td>\n    </tr>\n    <tr>\n      <th>3</th>\n      <td>29686.5</td>\n      <td>312682.5</td>\n      <td>297000.0</td>\n      <td>135000.0</td>\n      <td>0</td>\n      <td>1</td>\n      <td>0</td>\n      <td>1</td>\n      <td>1</td>\n      <td>1</td>\n      <td>...</td>\n      <td>1</td>\n      <td>0</td>\n      <td>0</td>\n      <td>0</td>\n      <td>0</td>\n      <td>0</td>\n      <td>0</td>\n      <td>1</td>\n      <td>100006</td>\n      <td>0</td>\n    </tr>\n    <tr>\n      <th>4</th>\n      <td>21865.5</td>\n      <td>513000.0</td>\n      <td>513000.0</td>\n      <td>121500.0</td>\n      <td>0</td>\n      <td>0</td>\n      <td>1</td>\n      <td>1</td>\n      <td>1</td>\n      <td>1</td>\n      <td>...</td>\n      <td>1</td>\n      <td>0</td>\n      <td>0</td>\n      <td>0</td>\n      <td>0</td>\n      <td>0</td>\n      <td>0</td>\n      <td>1</td>\n      <td>100007</td>\n      <td>0</td>\n    </tr>\n    <tr>\n      <th>...</th>\n      <td>...</td>\n      <td>...</td>\n      <td>...</td>\n      <td>...</td>\n      <td>...</td>\n      <td>...</td>\n      <td>...</td>\n      <td>...</td>\n      <td>...</td>\n      <td>...</td>\n      <td>...</td>\n      <td>...</td>\n      <td>...</td>\n      <td>...</td>\n      <td>...</td>\n      <td>...</td>\n      <td>...</td>\n      <td>...</td>\n      <td>...</td>\n      <td>...</td>\n      <td>...</td>\n    </tr>\n    <tr>\n      <th>307506</th>\n      <td>27558.0</td>\n      <td>254700.0</td>\n      <td>225000.0</td>\n      <td>157500.0</td>\n      <td>0</td>\n      <td>0</td>\n      <td>1</td>\n      <td>1</td>\n      <td>1</td>\n      <td>1</td>\n      <td>...</td>\n      <td>1</td>\n      <td>0</td>\n      <td>0</td>\n      <td>0</td>\n      <td>0</td>\n      <td>0</td>\n      <td>0</td>\n      <td>1</td>\n      <td>456251</td>\n      <td>0</td>\n    </tr>\n    <tr>\n      <th>307507</th>\n      <td>12001.5</td>\n      <td>269550.0</td>\n      <td>225000.0</td>\n      <td>72000.0</td>\n      <td>0</td>\n      <td>1</td>\n      <td>0</td>\n      <td>1</td>\n      <td>1</td>\n      <td>1</td>\n      <td>...</td>\n      <td>0</td>\n      <td>0</td>\n      <td>0</td>\n      <td>0</td>\n      <td>0</td>\n      <td>0</td>\n      <td>0</td>\n      <td>1</td>\n      <td>456252</td>\n      <td>0</td>\n    </tr>\n    <tr>\n      <th>307508</th>\n      <td>29979.0</td>\n      <td>677664.0</td>\n      <td>585000.0</td>\n      <td>153000.0</td>\n      <td>0</td>\n      <td>1</td>\n      <td>0</td>\n      <td>1</td>\n      <td>1</td>\n      <td>1</td>\n      <td>...</td>\n      <td>1</td>\n      <td>0</td>\n      <td>0</td>\n      <td>0</td>\n      <td>0</td>\n      <td>0</td>\n      <td>0</td>\n      <td>1</td>\n      <td>456253</td>\n      <td>0</td>\n    </tr>\n    <tr>\n      <th>307509</th>\n      <td>20205.0</td>\n      <td>370107.0</td>\n      <td>319500.0</td>\n      <td>171000.0</td>\n      <td>0</td>\n      <td>1</td>\n      <td>0</td>\n      <td>1</td>\n      <td>1</td>\n      <td>1</td>\n      <td>...</td>\n      <td>0</td>\n      <td>0</td>\n      <td>0</td>\n      <td>0</td>\n      <td>0</td>\n      <td>0</td>\n      <td>0</td>\n      <td>1</td>\n      <td>456254</td>\n      <td>1</td>\n    </tr>\n    <tr>\n      <th>307510</th>\n      <td>49117.5</td>\n      <td>675000.0</td>\n      <td>675000.0</td>\n      <td>157500.0</td>\n      <td>0</td>\n      <td>1</td>\n      <td>0</td>\n      <td>1</td>\n      <td>1</td>\n      <td>1</td>\n      <td>...</td>\n      <td>0</td>\n      <td>0</td>\n      <td>0</td>\n      <td>0</td>\n      <td>0</td>\n      <td>0</td>\n      <td>0</td>\n      <td>1</td>\n      <td>456255</td>\n      <td>0</td>\n    </tr>\n  </tbody>\n</table>\n<p>307511 rows × 50 columns</p>\n</div>",
      "text/plain": "        AMT_ANNUITY  AMT_CREDIT  AMT_GOODS_PRICE  AMT_INCOME_TOTAL  \\\n0           24700.5    406597.5         351000.0          202500.0   \n1           35698.5   1293502.5        1129500.0          270000.0   \n2            6750.0    135000.0         135000.0           67500.0   \n3           29686.5    312682.5         297000.0          135000.0   \n4           21865.5    513000.0         513000.0          121500.0   \n...             ...         ...              ...               ...   \n307506      27558.0    254700.0         225000.0          157500.0   \n307507      12001.5    269550.0         225000.0           72000.0   \n307508      29979.0    677664.0         585000.0          153000.0   \n307509      20205.0    370107.0         319500.0          171000.0   \n307510      49117.5    675000.0         675000.0          157500.0   \n\n        CNT_CHILDREN  CODE_GENDER_F  CODE_GENDER_M  FLAG_OWN_CAR_N  \\\n0                  0              0              1               1   \n1                  0              1              0               1   \n2                  0              0              1               0   \n3                  0              1              0               1   \n4                  0              0              1               1   \n...              ...            ...            ...             ...   \n307506             0              0              1               1   \n307507             0              1              0               1   \n307508             0              1              0               1   \n307509             0              1              0               1   \n307510             0              1              0               1   \n\n        FLAG_OWN_CAR_N  FLAG_OWN_CAR_N  ...  NAME_INCOME_TYPE_Working  \\\n0                    1               1  ...                         1   \n1                    1               1  ...                         0   \n2                    0               0  ...                         1   \n3                    1               1  ...                         1   \n4                    1               1  ...                         1   \n...                ...             ...  ...                       ...   \n307506               1               1  ...                         1   \n307507               1               1  ...                         0   \n307508               1               1  ...                         1   \n307509               1               1  ...                         0   \n307510               1               1  ...                         0   \n\n        NAME_TYPE_SUITE_Children  NAME_TYPE_SUITE_Family  \\\n0                              0                       0   \n1                              0                       1   \n2                              0                       0   \n3                              0                       0   \n4                              0                       0   \n...                          ...                     ...   \n307506                         0                       0   \n307507                         0                       0   \n307508                         0                       0   \n307509                         0                       0   \n307510                         0                       0   \n\n        NAME_TYPE_SUITE_Group of people  NAME_TYPE_SUITE_Other_A  \\\n0                                     0                        0   \n1                                     0                        0   \n2                                     0                        0   \n3                                     0                        0   \n4                                     0                        0   \n...                                 ...                      ...   \n307506                                0                        0   \n307507                                0                        0   \n307508                                0                        0   \n307509                                0                        0   \n307510                                0                        0   \n\n        NAME_TYPE_SUITE_Other_B  NAME_TYPE_SUITE_Spouse, partner  \\\n0                             0                                0   \n1                             0                                0   \n2                             0                                0   \n3                             0                                0   \n4                             0                                0   \n...                         ...                              ...   \n307506                        0                                0   \n307507                        0                                0   \n307508                        0                                0   \n307509                        0                                0   \n307510                        0                                0   \n\n        NAME_TYPE_SUITE_Unaccompanied  SK_ID_CURR  TARGET  \n0                                   1      100002       1  \n1                                   0      100003       0  \n2                                   1      100004       0  \n3                                   1      100006       0  \n4                                   1      100007       0  \n...                               ...         ...     ...  \n307506                              1      456251       0  \n307507                              1      456252       0  \n307508                              1      456253       0  \n307509                              1      456254       1  \n307510                              1      456255       0  \n\n[307511 rows x 50 columns]"
     },
     "execution_count": 54,
     "metadata": {},
     "output_type": "execute_result"
    }
   ],
   "source": [
    "app_train_filt"
   ]
  },
  {
   "cell_type": "code",
   "execution_count": 55,
   "metadata": {},
   "outputs": [
    {
     "data": {
      "text/html": "<div>\n<style scoped>\n    .dataframe tbody tr th:only-of-type {\n        vertical-align: middle;\n    }\n\n    .dataframe tbody tr th {\n        vertical-align: top;\n    }\n\n    .dataframe thead th {\n        text-align: right;\n    }\n</style>\n<table border=\"1\" class=\"dataframe\">\n  <thead>\n    <tr style=\"text-align: right;\">\n      <th></th>\n      <th>AMT_ANNUITY</th>\n      <th>AMT_CREDIT</th>\n      <th>AMT_GOODS_PRICE</th>\n      <th>AMT_INCOME_TOTAL</th>\n      <th>CNT_CHILDREN</th>\n      <th>CODE_GENDER_F</th>\n      <th>CODE_GENDER_M</th>\n      <th>FLAG_OWN_CAR_N</th>\n      <th>FLAG_OWN_CAR_N</th>\n      <th>FLAG_OWN_CAR_N</th>\n      <th>...</th>\n      <th>NAME_INCOME_TYPE_Unemployed</th>\n      <th>NAME_INCOME_TYPE_Working</th>\n      <th>NAME_TYPE_SUITE_Children</th>\n      <th>NAME_TYPE_SUITE_Family</th>\n      <th>NAME_TYPE_SUITE_Group of people</th>\n      <th>NAME_TYPE_SUITE_Other_A</th>\n      <th>NAME_TYPE_SUITE_Other_B</th>\n      <th>NAME_TYPE_SUITE_Spouse, partner</th>\n      <th>NAME_TYPE_SUITE_Unaccompanied</th>\n      <th>SK_ID_CURR</th>\n    </tr>\n  </thead>\n  <tbody>\n    <tr>\n      <th>0</th>\n      <td>20560.5</td>\n      <td>568800.0</td>\n      <td>450000.0</td>\n      <td>135000.0</td>\n      <td>0</td>\n      <td>1</td>\n      <td>0</td>\n      <td>1</td>\n      <td>1</td>\n      <td>1</td>\n      <td>...</td>\n      <td>0</td>\n      <td>1</td>\n      <td>0</td>\n      <td>0</td>\n      <td>0</td>\n      <td>0</td>\n      <td>0</td>\n      <td>0</td>\n      <td>1</td>\n      <td>100001</td>\n    </tr>\n    <tr>\n      <th>1</th>\n      <td>17370.0</td>\n      <td>222768.0</td>\n      <td>180000.0</td>\n      <td>99000.0</td>\n      <td>0</td>\n      <td>0</td>\n      <td>1</td>\n      <td>1</td>\n      <td>1</td>\n      <td>1</td>\n      <td>...</td>\n      <td>0</td>\n      <td>1</td>\n      <td>0</td>\n      <td>0</td>\n      <td>0</td>\n      <td>0</td>\n      <td>0</td>\n      <td>0</td>\n      <td>1</td>\n      <td>100005</td>\n    </tr>\n    <tr>\n      <th>2</th>\n      <td>69777.0</td>\n      <td>663264.0</td>\n      <td>630000.0</td>\n      <td>202500.0</td>\n      <td>0</td>\n      <td>0</td>\n      <td>1</td>\n      <td>0</td>\n      <td>0</td>\n      <td>0</td>\n      <td>...</td>\n      <td>0</td>\n      <td>1</td>\n      <td>0</td>\n      <td>0</td>\n      <td>0</td>\n      <td>0</td>\n      <td>0</td>\n      <td>0</td>\n      <td>0</td>\n      <td>100013</td>\n    </tr>\n    <tr>\n      <th>3</th>\n      <td>49018.5</td>\n      <td>1575000.0</td>\n      <td>1575000.0</td>\n      <td>315000.0</td>\n      <td>2</td>\n      <td>1</td>\n      <td>0</td>\n      <td>1</td>\n      <td>1</td>\n      <td>1</td>\n      <td>...</td>\n      <td>0</td>\n      <td>1</td>\n      <td>0</td>\n      <td>0</td>\n      <td>0</td>\n      <td>0</td>\n      <td>0</td>\n      <td>0</td>\n      <td>1</td>\n      <td>100028</td>\n    </tr>\n    <tr>\n      <th>4</th>\n      <td>32067.0</td>\n      <td>625500.0</td>\n      <td>625500.0</td>\n      <td>180000.0</td>\n      <td>1</td>\n      <td>0</td>\n      <td>1</td>\n      <td>0</td>\n      <td>0</td>\n      <td>0</td>\n      <td>...</td>\n      <td>0</td>\n      <td>1</td>\n      <td>0</td>\n      <td>0</td>\n      <td>0</td>\n      <td>0</td>\n      <td>0</td>\n      <td>0</td>\n      <td>1</td>\n      <td>100038</td>\n    </tr>\n    <tr>\n      <th>...</th>\n      <td>...</td>\n      <td>...</td>\n      <td>...</td>\n      <td>...</td>\n      <td>...</td>\n      <td>...</td>\n      <td>...</td>\n      <td>...</td>\n      <td>...</td>\n      <td>...</td>\n      <td>...</td>\n      <td>...</td>\n      <td>...</td>\n      <td>...</td>\n      <td>...</td>\n      <td>...</td>\n      <td>...</td>\n      <td>...</td>\n      <td>...</td>\n      <td>...</td>\n      <td>...</td>\n    </tr>\n    <tr>\n      <th>48739</th>\n      <td>17473.5</td>\n      <td>412560.0</td>\n      <td>270000.0</td>\n      <td>121500.0</td>\n      <td>0</td>\n      <td>1</td>\n      <td>0</td>\n      <td>1</td>\n      <td>1</td>\n      <td>1</td>\n      <td>...</td>\n      <td>0</td>\n      <td>1</td>\n      <td>0</td>\n      <td>0</td>\n      <td>0</td>\n      <td>0</td>\n      <td>0</td>\n      <td>0</td>\n      <td>1</td>\n      <td>456221</td>\n    </tr>\n    <tr>\n      <th>48740</th>\n      <td>31909.5</td>\n      <td>622413.0</td>\n      <td>495000.0</td>\n      <td>157500.0</td>\n      <td>2</td>\n      <td>1</td>\n      <td>0</td>\n      <td>1</td>\n      <td>1</td>\n      <td>1</td>\n      <td>...</td>\n      <td>0</td>\n      <td>0</td>\n      <td>0</td>\n      <td>0</td>\n      <td>0</td>\n      <td>0</td>\n      <td>0</td>\n      <td>0</td>\n      <td>1</td>\n      <td>456222</td>\n    </tr>\n    <tr>\n      <th>48741</th>\n      <td>33205.5</td>\n      <td>315000.0</td>\n      <td>315000.0</td>\n      <td>202500.0</td>\n      <td>1</td>\n      <td>1</td>\n      <td>0</td>\n      <td>0</td>\n      <td>0</td>\n      <td>0</td>\n      <td>...</td>\n      <td>0</td>\n      <td>0</td>\n      <td>0</td>\n      <td>0</td>\n      <td>0</td>\n      <td>0</td>\n      <td>0</td>\n      <td>0</td>\n      <td>1</td>\n      <td>456223</td>\n    </tr>\n    <tr>\n      <th>48742</th>\n      <td>25128.0</td>\n      <td>450000.0</td>\n      <td>450000.0</td>\n      <td>225000.0</td>\n      <td>0</td>\n      <td>0</td>\n      <td>1</td>\n      <td>1</td>\n      <td>1</td>\n      <td>1</td>\n      <td>...</td>\n      <td>0</td>\n      <td>0</td>\n      <td>0</td>\n      <td>1</td>\n      <td>0</td>\n      <td>0</td>\n      <td>0</td>\n      <td>0</td>\n      <td>0</td>\n      <td>456224</td>\n    </tr>\n    <tr>\n      <th>48743</th>\n      <td>24709.5</td>\n      <td>312768.0</td>\n      <td>270000.0</td>\n      <td>135000.0</td>\n      <td>0</td>\n      <td>1</td>\n      <td>0</td>\n      <td>0</td>\n      <td>0</td>\n      <td>0</td>\n      <td>...</td>\n      <td>0</td>\n      <td>1</td>\n      <td>0</td>\n      <td>0</td>\n      <td>0</td>\n      <td>0</td>\n      <td>0</td>\n      <td>0</td>\n      <td>1</td>\n      <td>456250</td>\n    </tr>\n  </tbody>\n</table>\n<p>48744 rows × 49 columns</p>\n</div>",
      "text/plain": "       AMT_ANNUITY  AMT_CREDIT  AMT_GOODS_PRICE  AMT_INCOME_TOTAL  \\\n0          20560.5    568800.0         450000.0          135000.0   \n1          17370.0    222768.0         180000.0           99000.0   \n2          69777.0    663264.0         630000.0          202500.0   \n3          49018.5   1575000.0        1575000.0          315000.0   \n4          32067.0    625500.0         625500.0          180000.0   \n...            ...         ...              ...               ...   \n48739      17473.5    412560.0         270000.0          121500.0   \n48740      31909.5    622413.0         495000.0          157500.0   \n48741      33205.5    315000.0         315000.0          202500.0   \n48742      25128.0    450000.0         450000.0          225000.0   \n48743      24709.5    312768.0         270000.0          135000.0   \n\n       CNT_CHILDREN  CODE_GENDER_F  CODE_GENDER_M  FLAG_OWN_CAR_N  \\\n0                 0              1              0               1   \n1                 0              0              1               1   \n2                 0              0              1               0   \n3                 2              1              0               1   \n4                 1              0              1               0   \n...             ...            ...            ...             ...   \n48739             0              1              0               1   \n48740             2              1              0               1   \n48741             1              1              0               0   \n48742             0              0              1               1   \n48743             0              1              0               0   \n\n       FLAG_OWN_CAR_N  FLAG_OWN_CAR_N  ...  NAME_INCOME_TYPE_Unemployed  \\\n0                   1               1  ...                            0   \n1                   1               1  ...                            0   \n2                   0               0  ...                            0   \n3                   1               1  ...                            0   \n4                   0               0  ...                            0   \n...               ...             ...  ...                          ...   \n48739               1               1  ...                            0   \n48740               1               1  ...                            0   \n48741               0               0  ...                            0   \n48742               1               1  ...                            0   \n48743               0               0  ...                            0   \n\n       NAME_INCOME_TYPE_Working  NAME_TYPE_SUITE_Children  \\\n0                             1                         0   \n1                             1                         0   \n2                             1                         0   \n3                             1                         0   \n4                             1                         0   \n...                         ...                       ...   \n48739                         1                         0   \n48740                         0                         0   \n48741                         0                         0   \n48742                         0                         0   \n48743                         1                         0   \n\n       NAME_TYPE_SUITE_Family  NAME_TYPE_SUITE_Group of people  \\\n0                           0                                0   \n1                           0                                0   \n2                           0                                0   \n3                           0                                0   \n4                           0                                0   \n...                       ...                              ...   \n48739                       0                                0   \n48740                       0                                0   \n48741                       0                                0   \n48742                       1                                0   \n48743                       0                                0   \n\n       NAME_TYPE_SUITE_Other_A  NAME_TYPE_SUITE_Other_B  \\\n0                            0                        0   \n1                            0                        0   \n2                            0                        0   \n3                            0                        0   \n4                            0                        0   \n...                        ...                      ...   \n48739                        0                        0   \n48740                        0                        0   \n48741                        0                        0   \n48742                        0                        0   \n48743                        0                        0   \n\n       NAME_TYPE_SUITE_Spouse, partner  NAME_TYPE_SUITE_Unaccompanied  \\\n0                                    0                              1   \n1                                    0                              1   \n2                                    0                              0   \n3                                    0                              1   \n4                                    0                              1   \n...                                ...                            ...   \n48739                                0                              1   \n48740                                0                              1   \n48741                                0                              1   \n48742                                0                              0   \n48743                                0                              1   \n\n       SK_ID_CURR  \n0          100001  \n1          100005  \n2          100013  \n3          100028  \n4          100038  \n...           ...  \n48739      456221  \n48740      456222  \n48741      456223  \n48742      456224  \n48743      456250  \n\n[48744 rows x 49 columns]"
     },
     "execution_count": 55,
     "metadata": {},
     "output_type": "execute_result"
    }
   ],
   "source": [
    "app_test_filt"
   ]
  },
  {
   "cell_type": "code",
   "execution_count": 67,
   "metadata": {},
   "outputs": [],
   "source": [
    "X = app_train_filt.drop(labels=\"TARGET\", axis=1)\r\n",
    "# X\r\n",
    "y = app_train_filt['TARGET']\r\n",
    "# y"
   ]
  },
  {
   "cell_type": "code",
   "execution_count": 71,
   "metadata": {},
   "outputs": [],
   "source": [
    "from sklearn.model_selection import train_test_split\r\n",
    "X_train_sf, X_test_sf, y_train_sf, y_test_sf = train_test_split(X, y, random_state=42)"
   ]
  },
  {
   "cell_type": "code",
   "execution_count": 74,
   "metadata": {},
   "outputs": [
    {
     "data": {
      "text/plain": "0    0.919205\n1    0.080795\nName: TARGET, dtype: float64"
     },
     "execution_count": 74,
     "metadata": {},
     "output_type": "execute_result"
    }
   ],
   "source": [
    "y_train_sf.value_counts(normalize=True)"
   ]
  },
  {
   "cell_type": "code",
   "execution_count": 75,
   "metadata": {},
   "outputs": [
    {
     "data": {
      "text/plain": "0    0.91947\n1    0.08053\nName: TARGET, dtype: float64"
     },
     "execution_count": 75,
     "metadata": {},
     "output_type": "execute_result"
    }
   ],
   "source": [
    "y_test_sf.value_counts(normalize=True)"
   ]
  },
  {
   "cell_type": "code",
   "execution_count": 77,
   "metadata": {},
   "outputs": [],
   "source": []
  },
  {
   "cell_type": "code",
   "execution_count": 78,
   "metadata": {},
   "outputs": [
    {
     "data": {
      "text/plain": "1    0.649358\n0    0.350642\nName: TARGET, dtype: float64"
     },
     "execution_count": 78,
     "metadata": {},
     "output_type": "execute_result"
    }
   ],
   "source": []
  },
  {
   "cell_type": "code",
   "execution_count": 80,
   "metadata": {},
   "outputs": [
    {
     "data": {
      "text/plain": "1    0.96003\n0    0.03997\nName: TARGET, dtype: float64"
     },
     "execution_count": 80,
     "metadata": {},
     "output_type": "execute_result"
    }
   ],
   "source": []
  }
 ],
 "metadata": {
  "kernelspec": {
   "display_name": "Python 3.8.5 32-bit",
   "name": "python385jvsc74a57bd079997a249e414ef8aa95e40a4790d55cd0bd59ecff3c27eb7f24c07da3998758"
  },
  "language_info": {
   "codemirror_mode": {
    "name": "ipython",
    "version": 3
   },
   "file_extension": ".py",
   "mimetype": "text/x-python",
   "name": "python",
   "nbconvert_exporter": "python",
   "pygments_lexer": "ipython3",
   "version": "3.8.5"
  },
  "orig_nbformat": 2
 },
 "nbformat": 4,
 "nbformat_minor": 2
}