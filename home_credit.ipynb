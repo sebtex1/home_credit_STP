{
 "cells": [
  {
   "cell_type": "code",
   "execution_count": null,
   "metadata": {},
   "outputs": [],
   "source": [
    "# numpy and pandas for data manipulation\r\n",
    "import numpy as np\r\n",
    "import pandas as pd \r\n",
    "\r\n",
    "# sklearn preprocessing for dealing with categorical variables\r\n",
    "from sklearn.preprocessing import LabelEncoder\r\n",
    "\r\n",
    "# File system manangement\r\n",
    "import os\r\n",
    "\r\n",
    "# Suppress warnings \r\n",
    "import warnings\r\n",
    "warnings.filterwarnings('ignore')\r\n",
    "\r\n",
    "# matplotlib and seaborn for plotting\r\n",
    "import matplotlib.pyplot as plt\r\n",
    "import seaborn as sns"
   ]
  }
 ],
 "metadata": {
  "kernelspec": {
   "display_name": "Python 3.8.5 32-bit",
   "name": "python385jvsc74a57bd079997a249e414ef8aa95e40a4790d55cd0bd59ecff3c27eb7f24c07da3998758"
  },
  "language_info": {
   "name": "python",
   "version": ""
  },
  "orig_nbformat": 2
 },
 "nbformat": 4,
 "nbformat_minor": 2
}