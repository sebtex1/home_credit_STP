{
 "cells": [
  {
   "cell_type": "code",
   "execution_count": 1,
   "metadata": {},
   "outputs": [],
   "source": [
    "import numpy as np\r\n",
    "import pandas as pd \r\n",
    "from sklearn.preprocessing import LabelEncoder\r\n",
    "import os\r\n",
    "import warnings\r\n",
    "warnings.filterwarnings('ignore')"
   ]
  },
  {
   "cell_type": "code",
   "execution_count": 2,
   "metadata": {},
   "outputs": [
    {
     "data": {
      "text/html": "<div>\n<style scoped>\n    .dataframe tbody tr th:only-of-type {\n        vertical-align: middle;\n    }\n\n    .dataframe tbody tr th {\n        vertical-align: top;\n    }\n\n    .dataframe thead th {\n        text-align: right;\n    }\n</style>\n<table border=\"1\" class=\"dataframe\">\n  <thead>\n    <tr style=\"text-align: right;\">\n      <th></th>\n      <th>TARGET</th>\n      <th>NAME_CONTRACT_TYPE</th>\n      <th>CODE_GENDER</th>\n      <th>FLAG_OWN_CAR</th>\n      <th>FLAG_OWN_REALTY</th>\n      <th>CNT_CHILDREN</th>\n      <th>AMT_INCOME_TOTAL</th>\n      <th>AMT_CREDIT</th>\n      <th>NAME_TYPE_SUITE</th>\n      <th>NAME_INCOME_TYPE</th>\n      <th>NAME_EDUCATION_TYPE</th>\n      <th>NAME_FAMILY_STATUS</th>\n      <th>NAME_HOUSING_TYPE</th>\n    </tr>\n    <tr>\n      <th>SK_ID_CURR</th>\n      <th></th>\n      <th></th>\n      <th></th>\n      <th></th>\n      <th></th>\n      <th></th>\n      <th></th>\n      <th></th>\n      <th></th>\n      <th></th>\n      <th></th>\n      <th></th>\n      <th></th>\n    </tr>\n  </thead>\n  <tbody>\n    <tr>\n      <th>100002</th>\n      <td>1</td>\n      <td>Cash loans</td>\n      <td>M</td>\n      <td>N</td>\n      <td>Y</td>\n      <td>0</td>\n      <td>202500.0</td>\n      <td>406597.5</td>\n      <td>Unaccompanied</td>\n      <td>Working</td>\n      <td>Secondary / secondary special</td>\n      <td>Single / not married</td>\n      <td>House / apartment</td>\n    </tr>\n    <tr>\n      <th>100003</th>\n      <td>0</td>\n      <td>Cash loans</td>\n      <td>F</td>\n      <td>N</td>\n      <td>N</td>\n      <td>0</td>\n      <td>270000.0</td>\n      <td>1293502.5</td>\n      <td>Family</td>\n      <td>State servant</td>\n      <td>Higher education</td>\n      <td>Married</td>\n      <td>House / apartment</td>\n    </tr>\n    <tr>\n      <th>100004</th>\n      <td>0</td>\n      <td>Revolving loans</td>\n      <td>M</td>\n      <td>Y</td>\n      <td>Y</td>\n      <td>0</td>\n      <td>67500.0</td>\n      <td>135000.0</td>\n      <td>Unaccompanied</td>\n      <td>Working</td>\n      <td>Secondary / secondary special</td>\n      <td>Single / not married</td>\n      <td>House / apartment</td>\n    </tr>\n    <tr>\n      <th>100006</th>\n      <td>0</td>\n      <td>Cash loans</td>\n      <td>F</td>\n      <td>N</td>\n      <td>Y</td>\n      <td>0</td>\n      <td>135000.0</td>\n      <td>312682.5</td>\n      <td>Unaccompanied</td>\n      <td>Working</td>\n      <td>Secondary / secondary special</td>\n      <td>Civil marriage</td>\n      <td>House / apartment</td>\n    </tr>\n    <tr>\n      <th>100007</th>\n      <td>0</td>\n      <td>Cash loans</td>\n      <td>M</td>\n      <td>N</td>\n      <td>Y</td>\n      <td>0</td>\n      <td>121500.0</td>\n      <td>513000.0</td>\n      <td>Unaccompanied</td>\n      <td>Working</td>\n      <td>Secondary / secondary special</td>\n      <td>Single / not married</td>\n      <td>House / apartment</td>\n    </tr>\n    <tr>\n      <th>...</th>\n      <td>...</td>\n      <td>...</td>\n      <td>...</td>\n      <td>...</td>\n      <td>...</td>\n      <td>...</td>\n      <td>...</td>\n      <td>...</td>\n      <td>...</td>\n      <td>...</td>\n      <td>...</td>\n      <td>...</td>\n      <td>...</td>\n    </tr>\n    <tr>\n      <th>456251</th>\n      <td>0</td>\n      <td>Cash loans</td>\n      <td>M</td>\n      <td>N</td>\n      <td>N</td>\n      <td>0</td>\n      <td>157500.0</td>\n      <td>254700.0</td>\n      <td>Unaccompanied</td>\n      <td>Working</td>\n      <td>Secondary / secondary special</td>\n      <td>Separated</td>\n      <td>With parents</td>\n    </tr>\n    <tr>\n      <th>456252</th>\n      <td>0</td>\n      <td>Cash loans</td>\n      <td>F</td>\n      <td>N</td>\n      <td>Y</td>\n      <td>0</td>\n      <td>72000.0</td>\n      <td>269550.0</td>\n      <td>Unaccompanied</td>\n      <td>Pensioner</td>\n      <td>Secondary / secondary special</td>\n      <td>Widow</td>\n      <td>House / apartment</td>\n    </tr>\n    <tr>\n      <th>456253</th>\n      <td>0</td>\n      <td>Cash loans</td>\n      <td>F</td>\n      <td>N</td>\n      <td>Y</td>\n      <td>0</td>\n      <td>153000.0</td>\n      <td>677664.0</td>\n      <td>Unaccompanied</td>\n      <td>Working</td>\n      <td>Higher education</td>\n      <td>Separated</td>\n      <td>House / apartment</td>\n    </tr>\n    <tr>\n      <th>456254</th>\n      <td>1</td>\n      <td>Cash loans</td>\n      <td>F</td>\n      <td>N</td>\n      <td>Y</td>\n      <td>0</td>\n      <td>171000.0</td>\n      <td>370107.0</td>\n      <td>Unaccompanied</td>\n      <td>Commercial associate</td>\n      <td>Secondary / secondary special</td>\n      <td>Married</td>\n      <td>House / apartment</td>\n    </tr>\n    <tr>\n      <th>456255</th>\n      <td>0</td>\n      <td>Cash loans</td>\n      <td>F</td>\n      <td>N</td>\n      <td>N</td>\n      <td>0</td>\n      <td>157500.0</td>\n      <td>675000.0</td>\n      <td>Unaccompanied</td>\n      <td>Commercial associate</td>\n      <td>Higher education</td>\n      <td>Married</td>\n      <td>House / apartment</td>\n    </tr>\n  </tbody>\n</table>\n<p>307511 rows × 13 columns</p>\n</div>",
      "text/plain": "            TARGET NAME_CONTRACT_TYPE CODE_GENDER FLAG_OWN_CAR  \\\nSK_ID_CURR                                                       \n100002           1         Cash loans           M            N   \n100003           0         Cash loans           F            N   \n100004           0    Revolving loans           M            Y   \n100006           0         Cash loans           F            N   \n100007           0         Cash loans           M            N   \n...            ...                ...         ...          ...   \n456251           0         Cash loans           M            N   \n456252           0         Cash loans           F            N   \n456253           0         Cash loans           F            N   \n456254           1         Cash loans           F            N   \n456255           0         Cash loans           F            N   \n\n           FLAG_OWN_REALTY  CNT_CHILDREN  AMT_INCOME_TOTAL  AMT_CREDIT  \\\nSK_ID_CURR                                                               \n100002                   Y             0          202500.0    406597.5   \n100003                   N             0          270000.0   1293502.5   \n100004                   Y             0           67500.0    135000.0   \n100006                   Y             0          135000.0    312682.5   \n100007                   Y             0          121500.0    513000.0   \n...                    ...           ...               ...         ...   \n456251                   N             0          157500.0    254700.0   \n456252                   Y             0           72000.0    269550.0   \n456253                   Y             0          153000.0    677664.0   \n456254                   Y             0          171000.0    370107.0   \n456255                   N             0          157500.0    675000.0   \n\n           NAME_TYPE_SUITE      NAME_INCOME_TYPE  \\\nSK_ID_CURR                                         \n100002       Unaccompanied               Working   \n100003              Family         State servant   \n100004       Unaccompanied               Working   \n100006       Unaccompanied               Working   \n100007       Unaccompanied               Working   \n...                    ...                   ...   \n456251       Unaccompanied               Working   \n456252       Unaccompanied             Pensioner   \n456253       Unaccompanied               Working   \n456254       Unaccompanied  Commercial associate   \n456255       Unaccompanied  Commercial associate   \n\n                      NAME_EDUCATION_TYPE    NAME_FAMILY_STATUS  \\\nSK_ID_CURR                                                        \n100002      Secondary / secondary special  Single / not married   \n100003                   Higher education               Married   \n100004      Secondary / secondary special  Single / not married   \n100006      Secondary / secondary special        Civil marriage   \n100007      Secondary / secondary special  Single / not married   \n...                                   ...                   ...   \n456251      Secondary / secondary special             Separated   \n456252      Secondary / secondary special                 Widow   \n456253                   Higher education             Separated   \n456254      Secondary / secondary special               Married   \n456255                   Higher education               Married   \n\n            NAME_HOUSING_TYPE  \nSK_ID_CURR                     \n100002      House / apartment  \n100003      House / apartment  \n100004      House / apartment  \n100006      House / apartment  \n100007      House / apartment  \n...                       ...  \n456251           With parents  \n456252      House / apartment  \n456253      House / apartment  \n456254      House / apartment  \n456255      House / apartment  \n\n[307511 rows x 13 columns]"
     },
     "execution_count": 2,
     "metadata": {},
     "output_type": "execute_result"
    }
   ],
   "source": [
    "# Training data\r\n",
    "app_train = pd.read_csv(\"../csv_file/application_train.csv\", index_col=0)\r\n",
    "app_train_filt = app_train[['TARGET', 'NAME_CONTRACT_TYPE', 'CODE_GENDER', 'FLAG_OWN_CAR', 'FLAG_OWN_REALTY', 'CNT_CHILDREN', 'AMT_INCOME_TOTAL', 'AMT_CREDIT', 'NAME_TYPE_SUITE','NAME_INCOME_TYPE','NAME_EDUCATION_TYPE', 'NAME_FAMILY_STATUS', 'NAME_HOUSING_TYPE']]\r\n",
    "app_train_filt"
   ]
  },
  {
   "cell_type": "code",
   "execution_count": 3,
   "metadata": {},
   "outputs": [
    {
     "data": {
      "text/html": "<div>\n<style scoped>\n    .dataframe tbody tr th:only-of-type {\n        vertical-align: middle;\n    }\n\n    .dataframe tbody tr th {\n        vertical-align: top;\n    }\n\n    .dataframe thead th {\n        text-align: right;\n    }\n</style>\n<table border=\"1\" class=\"dataframe\">\n  <thead>\n    <tr style=\"text-align: right;\">\n      <th></th>\n      <th>NAME_CONTRACT_TYPE</th>\n      <th>CODE_GENDER</th>\n      <th>FLAG_OWN_CAR</th>\n      <th>FLAG_OWN_REALTY</th>\n      <th>CNT_CHILDREN</th>\n      <th>AMT_INCOME_TOTAL</th>\n      <th>AMT_CREDIT</th>\n      <th>NAME_TYPE_SUITE</th>\n      <th>NAME_INCOME_TYPE</th>\n      <th>NAME_EDUCATION_TYPE</th>\n      <th>NAME_FAMILY_STATUS</th>\n      <th>NAME_HOUSING_TYPE</th>\n    </tr>\n    <tr>\n      <th>SK_ID_CURR</th>\n      <th></th>\n      <th></th>\n      <th></th>\n      <th></th>\n      <th></th>\n      <th></th>\n      <th></th>\n      <th></th>\n      <th></th>\n      <th></th>\n      <th></th>\n      <th></th>\n    </tr>\n  </thead>\n  <tbody>\n    <tr>\n      <th>100001</th>\n      <td>Cash loans</td>\n      <td>F</td>\n      <td>N</td>\n      <td>Y</td>\n      <td>0</td>\n      <td>135000.0</td>\n      <td>568800.0</td>\n      <td>Unaccompanied</td>\n      <td>Working</td>\n      <td>Higher education</td>\n      <td>Married</td>\n      <td>House / apartment</td>\n    </tr>\n    <tr>\n      <th>100005</th>\n      <td>Cash loans</td>\n      <td>M</td>\n      <td>N</td>\n      <td>Y</td>\n      <td>0</td>\n      <td>99000.0</td>\n      <td>222768.0</td>\n      <td>Unaccompanied</td>\n      <td>Working</td>\n      <td>Secondary / secondary special</td>\n      <td>Married</td>\n      <td>House / apartment</td>\n    </tr>\n    <tr>\n      <th>100013</th>\n      <td>Cash loans</td>\n      <td>M</td>\n      <td>Y</td>\n      <td>Y</td>\n      <td>0</td>\n      <td>202500.0</td>\n      <td>663264.0</td>\n      <td>NaN</td>\n      <td>Working</td>\n      <td>Higher education</td>\n      <td>Married</td>\n      <td>House / apartment</td>\n    </tr>\n    <tr>\n      <th>100028</th>\n      <td>Cash loans</td>\n      <td>F</td>\n      <td>N</td>\n      <td>Y</td>\n      <td>2</td>\n      <td>315000.0</td>\n      <td>1575000.0</td>\n      <td>Unaccompanied</td>\n      <td>Working</td>\n      <td>Secondary / secondary special</td>\n      <td>Married</td>\n      <td>House / apartment</td>\n    </tr>\n    <tr>\n      <th>100038</th>\n      <td>Cash loans</td>\n      <td>M</td>\n      <td>Y</td>\n      <td>N</td>\n      <td>1</td>\n      <td>180000.0</td>\n      <td>625500.0</td>\n      <td>Unaccompanied</td>\n      <td>Working</td>\n      <td>Secondary / secondary special</td>\n      <td>Married</td>\n      <td>House / apartment</td>\n    </tr>\n    <tr>\n      <th>...</th>\n      <td>...</td>\n      <td>...</td>\n      <td>...</td>\n      <td>...</td>\n      <td>...</td>\n      <td>...</td>\n      <td>...</td>\n      <td>...</td>\n      <td>...</td>\n      <td>...</td>\n      <td>...</td>\n      <td>...</td>\n    </tr>\n    <tr>\n      <th>456221</th>\n      <td>Cash loans</td>\n      <td>F</td>\n      <td>N</td>\n      <td>Y</td>\n      <td>0</td>\n      <td>121500.0</td>\n      <td>412560.0</td>\n      <td>Unaccompanied</td>\n      <td>Working</td>\n      <td>Secondary / secondary special</td>\n      <td>Widow</td>\n      <td>House / apartment</td>\n    </tr>\n    <tr>\n      <th>456222</th>\n      <td>Cash loans</td>\n      <td>F</td>\n      <td>N</td>\n      <td>N</td>\n      <td>2</td>\n      <td>157500.0</td>\n      <td>622413.0</td>\n      <td>Unaccompanied</td>\n      <td>Commercial associate</td>\n      <td>Secondary / secondary special</td>\n      <td>Married</td>\n      <td>House / apartment</td>\n    </tr>\n    <tr>\n      <th>456223</th>\n      <td>Cash loans</td>\n      <td>F</td>\n      <td>Y</td>\n      <td>Y</td>\n      <td>1</td>\n      <td>202500.0</td>\n      <td>315000.0</td>\n      <td>Unaccompanied</td>\n      <td>Commercial associate</td>\n      <td>Secondary / secondary special</td>\n      <td>Married</td>\n      <td>House / apartment</td>\n    </tr>\n    <tr>\n      <th>456224</th>\n      <td>Cash loans</td>\n      <td>M</td>\n      <td>N</td>\n      <td>N</td>\n      <td>0</td>\n      <td>225000.0</td>\n      <td>450000.0</td>\n      <td>Family</td>\n      <td>Commercial associate</td>\n      <td>Higher education</td>\n      <td>Married</td>\n      <td>House / apartment</td>\n    </tr>\n    <tr>\n      <th>456250</th>\n      <td>Cash loans</td>\n      <td>F</td>\n      <td>Y</td>\n      <td>N</td>\n      <td>0</td>\n      <td>135000.0</td>\n      <td>312768.0</td>\n      <td>Unaccompanied</td>\n      <td>Working</td>\n      <td>Secondary / secondary special</td>\n      <td>Married</td>\n      <td>House / apartment</td>\n    </tr>\n  </tbody>\n</table>\n<p>48744 rows × 12 columns</p>\n</div>",
      "text/plain": "           NAME_CONTRACT_TYPE CODE_GENDER FLAG_OWN_CAR FLAG_OWN_REALTY  \\\nSK_ID_CURR                                                               \n100001             Cash loans           F            N               Y   \n100005             Cash loans           M            N               Y   \n100013             Cash loans           M            Y               Y   \n100028             Cash loans           F            N               Y   \n100038             Cash loans           M            Y               N   \n...                       ...         ...          ...             ...   \n456221             Cash loans           F            N               Y   \n456222             Cash loans           F            N               N   \n456223             Cash loans           F            Y               Y   \n456224             Cash loans           M            N               N   \n456250             Cash loans           F            Y               N   \n\n            CNT_CHILDREN  AMT_INCOME_TOTAL  AMT_CREDIT NAME_TYPE_SUITE  \\\nSK_ID_CURR                                                               \n100001                 0          135000.0    568800.0   Unaccompanied   \n100005                 0           99000.0    222768.0   Unaccompanied   \n100013                 0          202500.0    663264.0             NaN   \n100028                 2          315000.0   1575000.0   Unaccompanied   \n100038                 1          180000.0    625500.0   Unaccompanied   \n...                  ...               ...         ...             ...   \n456221                 0          121500.0    412560.0   Unaccompanied   \n456222                 2          157500.0    622413.0   Unaccompanied   \n456223                 1          202500.0    315000.0   Unaccompanied   \n456224                 0          225000.0    450000.0          Family   \n456250                 0          135000.0    312768.0   Unaccompanied   \n\n                NAME_INCOME_TYPE            NAME_EDUCATION_TYPE  \\\nSK_ID_CURR                                                        \n100001                   Working               Higher education   \n100005                   Working  Secondary / secondary special   \n100013                   Working               Higher education   \n100028                   Working  Secondary / secondary special   \n100038                   Working  Secondary / secondary special   \n...                          ...                            ...   \n456221                   Working  Secondary / secondary special   \n456222      Commercial associate  Secondary / secondary special   \n456223      Commercial associate  Secondary / secondary special   \n456224      Commercial associate               Higher education   \n456250                   Working  Secondary / secondary special   \n\n           NAME_FAMILY_STATUS  NAME_HOUSING_TYPE  \nSK_ID_CURR                                        \n100001                Married  House / apartment  \n100005                Married  House / apartment  \n100013                Married  House / apartment  \n100028                Married  House / apartment  \n100038                Married  House / apartment  \n...                       ...                ...  \n456221                  Widow  House / apartment  \n456222                Married  House / apartment  \n456223                Married  House / apartment  \n456224                Married  House / apartment  \n456250                Married  House / apartment  \n\n[48744 rows x 12 columns]"
     },
     "execution_count": 3,
     "metadata": {},
     "output_type": "execute_result"
    }
   ],
   "source": [
    "# Testing data features\r\n",
    "app_test = pd.read_csv('../csv_file/application_test.csv', index_col=0)\r\n",
    "app_test_filt = app_test[['NAME_CONTRACT_TYPE', 'CODE_GENDER', 'FLAG_OWN_CAR', 'FLAG_OWN_REALTY', 'CNT_CHILDREN', 'AMT_INCOME_TOTAL', 'AMT_CREDIT', 'NAME_TYPE_SUITE','NAME_INCOME_TYPE','NAME_EDUCATION_TYPE', 'NAME_FAMILY_STATUS', 'NAME_HOUSING_TYPE']]\r\n",
    "app_test_filt"
   ]
  },
  {
   "cell_type": "code",
   "execution_count": 4,
   "metadata": {},
   "outputs": [
    {
     "data": {
      "text/html": "<div>\n<style scoped>\n    .dataframe tbody tr th:only-of-type {\n        vertical-align: middle;\n    }\n\n    .dataframe tbody tr th {\n        vertical-align: top;\n    }\n\n    .dataframe thead th {\n        text-align: right;\n    }\n</style>\n<table border=\"1\" class=\"dataframe\">\n  <thead>\n    <tr style=\"text-align: right;\">\n      <th></th>\n      <th>NAME_CONTRACT_TYPE</th>\n      <th>CODE_GENDER</th>\n      <th>FLAG_OWN_CAR</th>\n      <th>FLAG_OWN_REALTY</th>\n      <th>CNT_CHILDREN</th>\n      <th>AMT_INCOME_TOTAL</th>\n      <th>AMT_CREDIT</th>\n      <th>NAME_TYPE_SUITE</th>\n      <th>NAME_INCOME_TYPE</th>\n      <th>NAME_EDUCATION_TYPE</th>\n      <th>NAME_FAMILY_STATUS</th>\n      <th>NAME_HOUSING_TYPE</th>\n    </tr>\n    <tr>\n      <th>SK_ID_CURR</th>\n      <th></th>\n      <th></th>\n      <th></th>\n      <th></th>\n      <th></th>\n      <th></th>\n      <th></th>\n      <th></th>\n      <th></th>\n      <th></th>\n      <th></th>\n      <th></th>\n    </tr>\n  </thead>\n  <tbody>\n    <tr>\n      <th>100003</th>\n      <td>Cash loans</td>\n      <td>F</td>\n      <td>N</td>\n      <td>N</td>\n      <td>0</td>\n      <td>270000.0</td>\n      <td>1293502.5</td>\n      <td>Family</td>\n      <td>State servant</td>\n      <td>Higher education</td>\n      <td>Married</td>\n      <td>House / apartment</td>\n    </tr>\n    <tr>\n      <th>100002</th>\n      <td>Cash loans</td>\n      <td>M</td>\n      <td>N</td>\n      <td>Y</td>\n      <td>0</td>\n      <td>202500.0</td>\n      <td>406597.5</td>\n      <td>Unaccompanied</td>\n      <td>Working</td>\n      <td>Secondary / secondary special</td>\n      <td>Single / not married</td>\n      <td>House / apartment</td>\n    </tr>\n  </tbody>\n</table>\n</div>",
      "text/plain": "           NAME_CONTRACT_TYPE CODE_GENDER FLAG_OWN_CAR FLAG_OWN_REALTY  \\\nSK_ID_CURR                                                               \n100003             Cash loans           F            N               N   \n100002             Cash loans           M            N               Y   \n\n            CNT_CHILDREN  AMT_INCOME_TOTAL  AMT_CREDIT NAME_TYPE_SUITE  \\\nSK_ID_CURR                                                               \n100003                 0          270000.0   1293502.5          Family   \n100002                 0          202500.0    406597.5   Unaccompanied   \n\n           NAME_INCOME_TYPE            NAME_EDUCATION_TYPE  \\\nSK_ID_CURR                                                   \n100003        State servant               Higher education   \n100002              Working  Secondary / secondary special   \n\n              NAME_FAMILY_STATUS  NAME_HOUSING_TYPE  \nSK_ID_CURR                                           \n100003                   Married  House / apartment  \n100002      Single / not married  House / apartment  "
     },
     "execution_count": 4,
     "metadata": {},
     "output_type": "execute_result"
    }
   ],
   "source": [
    "individu_test=pd.read_csv('individu.csv', index_col=0)\r\n",
    "individu_test"
   ]
  },
  {
   "cell_type": "code",
   "execution_count": 5,
   "metadata": {},
   "outputs": [],
   "source": [
    "# app_train_filt.describe(include=['O'])"
   ]
  },
  {
   "cell_type": "code",
   "execution_count": 6,
   "metadata": {},
   "outputs": [],
   "source": [
    "# Number of unique classes in each object column\r\n",
    "# app_train_filt.select_dtypes('object').apply(pd.Series.nunique, axis = 0)"
   ]
  },
  {
   "cell_type": "code",
   "execution_count": 7,
   "metadata": {},
   "outputs": [
    {
     "name": "stdout",
     "output_type": "stream",
     "text": [
      "3 columns were label encoded.\n"
     ]
    }
   ],
   "source": [
    "# Create a label encoder object\r\n",
    "le = LabelEncoder()\r\n",
    "le_count = 0\r\n",
    "\r\n",
    "# Iterate through the columns\r\n",
    "for col in app_train_filt:\r\n",
    "    if app_train_filt[col].dtypes == 'object':\r\n",
    "        # If 2 or fewer unique categories\r\n",
    "        if len(list(app_train_filt[col].unique())) <= 2:\r\n",
    "            # Train on the training data\r\n",
    "            le.fit(app_train_filt[col])\r\n",
    "            # Transform both training and testing data\r\n",
    "            app_train_filt[col] = le.transform(app_train_filt[col])\r\n",
    "            # app_test_filt[col] = le.transform(app_test_filt[col])\r\n",
    "            individu_test[col] = le.transform(individu_test[col])\r\n",
    "            \r\n",
    "            # Keep track of how many columns were label encoded\r\n",
    "            le_count += 1\r\n",
    "            \r\n",
    "print('%d columns were label encoded.' % le_count)"
   ]
  },
  {
   "cell_type": "code",
   "execution_count": 8,
   "metadata": {},
   "outputs": [
    {
     "name": "stdout",
     "output_type": "stream",
     "text": [
      "Training Features shape:  (307511, 42)\n",
      "Individu Features shape:  (2, 17)\n"
     ]
    }
   ],
   "source": [
    "# one-hot encoding of categorical variables\r\n",
    "app_train_filt = pd.get_dummies(app_train_filt)\r\n",
    "# app_test_filt = pd.get_dummies(app_test_filt)\r\n",
    "individu_test = pd.get_dummies(individu_test)\r\n",
    "\r\n",
    "print('Training Features shape: ', app_train_filt.shape)\r\n",
    "# print('Testing Features shape: ', app_test_filt.shape)\r\n",
    "print('Individu Features shape: ', individu_test.shape)"
   ]
  },
  {
   "cell_type": "code",
   "execution_count": 9,
   "metadata": {},
   "outputs": [
    {
     "name": "stdout",
     "output_type": "stream",
     "text": [
      "Training Features shape:  (307511, 18)\n",
      "Individu Features shape:  (2, 17)\n"
     ]
    }
   ],
   "source": [
    "train_labels = app_train_filt['TARGET']\r\n",
    "\r\n",
    "# Align the training and testing data, keep only columns present in both dataframes\r\n",
    "# app_train_filt, app_test_filt = app_train_filt.align(app_test_filt, join = 'inner', axis = 1)\r\n",
    "app_train_filt, individu_test = app_train_filt.align(individu_test, join = 'inner', axis = 1)\r\n",
    "\r\n",
    "# Add the target back in\r\n",
    "app_train_filt['TARGET'] = train_labels\r\n",
    "\r\n",
    "print('Training Features shape: ', app_train_filt.shape)\r\n",
    "# print('Testing Features shape: ', app_test_filt.shape)\r\n",
    "print('Individu Features shape: ', individu_test.shape)"
   ]
  },
  {
   "cell_type": "code",
   "execution_count": 10,
   "metadata": {},
   "outputs": [],
   "source": [
    "X = app_train_filt.drop(labels=\"TARGET\", axis=1)\r\n",
    "y = app_train_filt['TARGET']\r\n",
    "# X\r\n",
    "# y"
   ]
  },
  {
   "cell_type": "code",
   "execution_count": 11,
   "metadata": {},
   "outputs": [],
   "source": [
    "from sklearn.model_selection import train_test_split\r\n",
    "X_train_sf, X_test_sf, y_train_sf, y_test_sf = train_test_split(X, y, test_size=0.25, random_state=0)"
   ]
  },
  {
   "cell_type": "code",
   "execution_count": 12,
   "metadata": {},
   "outputs": [
    {
     "data": {
      "text/plain": "KNeighborsClassifier(n_neighbors=2)"
     },
     "execution_count": 12,
     "metadata": {},
     "output_type": "execute_result"
    }
   ],
   "source": [
    "# test KNN\r\n",
    "from sklearn.neighbors import KNeighborsClassifier\r\n",
    "classifier = KNeighborsClassifier(n_neighbors=2, metric='minkowski', p=2)\r\n",
    "classifier.fit(X_train_sf, y_train_sf)"
   ]
  },
  {
   "cell_type": "code",
   "execution_count": 13,
   "metadata": {},
   "outputs": [],
   "source": [
    "y_pred = classifier.predict(X_test_sf.head(50))"
   ]
  },
  {
   "cell_type": "code",
   "execution_count": 14,
   "metadata": {},
   "outputs": [
    {
     "name": "stdout",
     "output_type": "stream",
     "text": [
      "[[47  0]\n",
      " [ 3  0]]\n"
     ]
    },
    {
     "data": {
      "text/plain": "0.94"
     },
     "execution_count": 14,
     "metadata": {},
     "output_type": "execute_result"
    }
   ],
   "source": [
    "from sklearn.metrics import confusion_matrix\r\n",
    "cm = confusion_matrix(y_test_sf.head(50), y_pred)\r\n",
    "print(cm)\r\n",
    "\r\n",
    "# score\r\n",
    "from sklearn.metrics import accuracy_score\r\n",
    "accuracy_score(y_test_sf.head(50), y_pred)"
   ]
  },
  {
   "cell_type": "code",
   "execution_count": 15,
   "metadata": {},
   "outputs": [],
   "source": [
    "y_pred_test = classifier.predict(individu_test)"
   ]
  },
  {
   "cell_type": "code",
   "execution_count": 16,
   "metadata": {},
   "outputs": [
    {
     "name": "stdout",
     "output_type": "stream",
     "text": [
      "0\n",
      "Le client est susceptible de rembourser\n"
     ]
    },
    {
     "data": {
      "text/html": "<div>\n<style scoped>\n    .dataframe tbody tr th:only-of-type {\n        vertical-align: middle;\n    }\n\n    .dataframe tbody tr th {\n        vertical-align: top;\n    }\n\n    .dataframe thead th {\n        text-align: right;\n    }\n</style>\n<table border=\"1\" class=\"dataframe\">\n  <thead>\n    <tr style=\"text-align: right;\">\n      <th></th>\n      <th>NAME_CONTRACT_TYPE</th>\n      <th>FLAG_OWN_CAR</th>\n      <th>FLAG_OWN_REALTY</th>\n      <th>CNT_CHILDREN</th>\n      <th>AMT_INCOME_TOTAL</th>\n      <th>AMT_CREDIT</th>\n      <th>CODE_GENDER_F</th>\n      <th>CODE_GENDER_M</th>\n      <th>NAME_TYPE_SUITE_Family</th>\n      <th>NAME_TYPE_SUITE_Unaccompanied</th>\n      <th>NAME_INCOME_TYPE_State servant</th>\n      <th>NAME_INCOME_TYPE_Working</th>\n      <th>NAME_EDUCATION_TYPE_Higher education</th>\n      <th>NAME_EDUCATION_TYPE_Secondary / secondary special</th>\n      <th>NAME_FAMILY_STATUS_Married</th>\n      <th>NAME_FAMILY_STATUS_Single / not married</th>\n      <th>NAME_HOUSING_TYPE_House / apartment</th>\n    </tr>\n    <tr>\n      <th>SK_ID_CURR</th>\n      <th></th>\n      <th></th>\n      <th></th>\n      <th></th>\n      <th></th>\n      <th></th>\n      <th></th>\n      <th></th>\n      <th></th>\n      <th></th>\n      <th></th>\n      <th></th>\n      <th></th>\n      <th></th>\n      <th></th>\n      <th></th>\n      <th></th>\n    </tr>\n  </thead>\n  <tbody>\n    <tr>\n      <th>100003</th>\n      <td>0</td>\n      <td>0</td>\n      <td>0</td>\n      <td>0</td>\n      <td>270000.0</td>\n      <td>1293502.5</td>\n      <td>1</td>\n      <td>0</td>\n      <td>1</td>\n      <td>0</td>\n      <td>1</td>\n      <td>0</td>\n      <td>1</td>\n      <td>0</td>\n      <td>1</td>\n      <td>0</td>\n      <td>1</td>\n    </tr>\n  </tbody>\n</table>\n</div>",
      "text/plain": "            NAME_CONTRACT_TYPE  FLAG_OWN_CAR  FLAG_OWN_REALTY  CNT_CHILDREN  \\\nSK_ID_CURR                                                                    \n100003                       0             0                0             0   \n\n            AMT_INCOME_TOTAL  AMT_CREDIT  CODE_GENDER_F  CODE_GENDER_M  \\\nSK_ID_CURR                                                               \n100003              270000.0   1293502.5              1              0   \n\n            NAME_TYPE_SUITE_Family  NAME_TYPE_SUITE_Unaccompanied  \\\nSK_ID_CURR                                                          \n100003                           1                              0   \n\n            NAME_INCOME_TYPE_State servant  NAME_INCOME_TYPE_Working  \\\nSK_ID_CURR                                                             \n100003                                   1                         0   \n\n            NAME_EDUCATION_TYPE_Higher education  \\\nSK_ID_CURR                                         \n100003                                         1   \n\n            NAME_EDUCATION_TYPE_Secondary / secondary special  \\\nSK_ID_CURR                                                      \n100003                                                      0   \n\n            NAME_FAMILY_STATUS_Married  \\\nSK_ID_CURR                               \n100003                               1   \n\n            NAME_FAMILY_STATUS_Single / not married  \\\nSK_ID_CURR                                            \n100003                                            0   \n\n            NAME_HOUSING_TYPE_House / apartment  \nSK_ID_CURR                                       \n100003                                        1  "
     },
     "metadata": {},
     "output_type": "display_data"
    },
    {
     "name": "stdout",
     "output_type": "stream",
     "text": [
      "100003\n",
      "1\n",
      "Le client présente trop de risque\n"
     ]
    },
    {
     "data": {
      "text/html": "<div>\n<style scoped>\n    .dataframe tbody tr th:only-of-type {\n        vertical-align: middle;\n    }\n\n    .dataframe tbody tr th {\n        vertical-align: top;\n    }\n\n    .dataframe thead th {\n        text-align: right;\n    }\n</style>\n<table border=\"1\" class=\"dataframe\">\n  <thead>\n    <tr style=\"text-align: right;\">\n      <th></th>\n      <th>NAME_CONTRACT_TYPE</th>\n      <th>FLAG_OWN_CAR</th>\n      <th>FLAG_OWN_REALTY</th>\n      <th>CNT_CHILDREN</th>\n      <th>AMT_INCOME_TOTAL</th>\n      <th>AMT_CREDIT</th>\n      <th>CODE_GENDER_F</th>\n      <th>CODE_GENDER_M</th>\n      <th>NAME_TYPE_SUITE_Family</th>\n      <th>NAME_TYPE_SUITE_Unaccompanied</th>\n      <th>NAME_INCOME_TYPE_State servant</th>\n      <th>NAME_INCOME_TYPE_Working</th>\n      <th>NAME_EDUCATION_TYPE_Higher education</th>\n      <th>NAME_EDUCATION_TYPE_Secondary / secondary special</th>\n      <th>NAME_FAMILY_STATUS_Married</th>\n      <th>NAME_FAMILY_STATUS_Single / not married</th>\n      <th>NAME_HOUSING_TYPE_House / apartment</th>\n    </tr>\n    <tr>\n      <th>SK_ID_CURR</th>\n      <th></th>\n      <th></th>\n      <th></th>\n      <th></th>\n      <th></th>\n      <th></th>\n      <th></th>\n      <th></th>\n      <th></th>\n      <th></th>\n      <th></th>\n      <th></th>\n      <th></th>\n      <th></th>\n      <th></th>\n      <th></th>\n      <th></th>\n    </tr>\n  </thead>\n  <tbody>\n    <tr>\n      <th>100002</th>\n      <td>0</td>\n      <td>0</td>\n      <td>1</td>\n      <td>0</td>\n      <td>202500.0</td>\n      <td>406597.5</td>\n      <td>0</td>\n      <td>1</td>\n      <td>0</td>\n      <td>1</td>\n      <td>0</td>\n      <td>1</td>\n      <td>0</td>\n      <td>1</td>\n      <td>0</td>\n      <td>1</td>\n      <td>1</td>\n    </tr>\n  </tbody>\n</table>\n</div>",
      "text/plain": "            NAME_CONTRACT_TYPE  FLAG_OWN_CAR  FLAG_OWN_REALTY  CNT_CHILDREN  \\\nSK_ID_CURR                                                                    \n100002                       0             0                1             0   \n\n            AMT_INCOME_TOTAL  AMT_CREDIT  CODE_GENDER_F  CODE_GENDER_M  \\\nSK_ID_CURR                                                               \n100002              202500.0    406597.5              0              1   \n\n            NAME_TYPE_SUITE_Family  NAME_TYPE_SUITE_Unaccompanied  \\\nSK_ID_CURR                                                          \n100002                           0                              1   \n\n            NAME_INCOME_TYPE_State servant  NAME_INCOME_TYPE_Working  \\\nSK_ID_CURR                                                             \n100002                                   0                         1   \n\n            NAME_EDUCATION_TYPE_Higher education  \\\nSK_ID_CURR                                         \n100002                                         0   \n\n            NAME_EDUCATION_TYPE_Secondary / secondary special  \\\nSK_ID_CURR                                                      \n100002                                                      1   \n\n            NAME_FAMILY_STATUS_Married  \\\nSK_ID_CURR                               \n100002                               0   \n\n            NAME_FAMILY_STATUS_Single / not married  \\\nSK_ID_CURR                                            \n100002                                            1   \n\n            NAME_HOUSING_TYPE_House / apartment  \nSK_ID_CURR                                       \n100002                                        1  "
     },
     "metadata": {},
     "output_type": "display_data"
    },
    {
     "name": "stdout",
     "output_type": "stream",
     "text": [
      "100002\n"
     ]
    }
   ],
   "source": [
    "import collections, numpy\r\n",
    "# y_pred_test.value_counts()\r\n",
    "collections.Counter(y_pred_test)\r\n",
    "\r\n",
    "# vérifie quelle utilisateur ne peut pas payer\r\n",
    "for num in range(0, len(y_pred_test)):\r\n",
    "    print(y_pred_test[num])\r\n",
    "    if y_pred_test[num] == 0:\r\n",
    "        print('Le client est susceptible de rembourser')\r\n",
    "    else:\r\n",
    "        print('Le client présente trop de risque')\r\n",
    "    display(individu_test.iloc[[num]])\r\n",
    "    ids=individu_test.index\r\n",
    "    print(ids[num])"
   ]
  }
 ],
 "metadata": {
  "kernelspec": {
   "display_name": "Python 3.8.5 32-bit",
   "name": "python385jvsc74a57bd079997a249e414ef8aa95e40a4790d55cd0bd59ecff3c27eb7f24c07da3998758"
  },
  "language_info": {
   "codemirror_mode": {
    "name": "ipython",
    "version": 3
   },
   "file_extension": ".py",
   "mimetype": "text/x-python",
   "name": "python",
   "nbconvert_exporter": "python",
   "pygments_lexer": "ipython3",
   "version": "3.8.5"
  },
  "orig_nbformat": 2
 },
 "nbformat": 4,
 "nbformat_minor": 2
}